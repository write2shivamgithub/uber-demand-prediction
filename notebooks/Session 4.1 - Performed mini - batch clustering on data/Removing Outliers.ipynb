{
 "cells": [
  {
   "cell_type": "markdown",
   "id": "26131e74",
   "metadata": {},
   "source": [
    "## Load the packages"
   ]
  },
  {
   "cell_type": "code",
   "execution_count": 2,
   "id": "3a5efec7",
   "metadata": {},
   "outputs": [],
   "source": [
    "import pandas as pd\n",
    "import numpy as np\n",
    "import matplotlib.pyplot as plt\n",
    "import seaborn as sns\n",
    "import dask.dataframe as dd"
   ]
  },
  {
   "cell_type": "markdown",
   "id": "1b61f357",
   "metadata": {},
   "source": [
    "## Import the Data"
   ]
  },
  {
   "cell_type": "code",
   "execution_count": 3,
   "id": "0a9d6d5d",
   "metadata": {},
   "outputs": [],
   "source": [
    "# paths for the three dfs\n",
    "\n",
    "df_jan_path = r\"D:\\Uber Demand Prediction\\Session 4 - Creating Historical Data\\yellow_tripdata_2016-01.csv\"\n",
    "df_feb_path = r\"D:\\Uber Demand Prediction\\Session 4 - Creating Historical Data\\yellow_tripdata_2016-02.csv\"\n",
    "df_mar_path = r\"D:\\Uber Demand Prediction\\Session 4 - Creating Historical Data\\yellow_tripdata_2016-03.csv\"\n",
    "\n",
    "# load the dataframes\n",
    "\n",
    "df_jan = dd.read_csv(df_jan_path, assume_missing=True, usecols= ['trip_distance', 'pickup_longitude',\n",
    "       'pickup_latitude','dropoff_longitude', 'dropoff_latitude', 'fare_amount'])\n",
    "df_feb = dd.read_csv(df_feb_path, assume_missing=True, usecols= ['trip_distance', 'pickup_longitude',\n",
    "       'pickup_latitude','dropoff_longitude', 'dropoff_latitude', 'fare_amount'])\n",
    "df_mar = dd.read_csv(df_mar_path, assume_missing=True, usecols= ['trip_distance', 'pickup_longitude',\n",
    "       'pickup_latitude','dropoff_longitude', 'dropoff_latitude', 'fare_amount'])\n"
   ]
  },
  {
   "cell_type": "code",
   "execution_count": 4,
   "id": "bdc547ec",
   "metadata": {},
   "outputs": [
    {
     "data": {
      "text/html": [
       "<div><strong>Dask DataFrame Structure:</strong></div>\n",
       "<table border=\"1\" class=\"dataframe\">\n",
       "  <thead>\n",
       "    <tr style=\"text-align: right;\">\n",
       "      <th></th>\n",
       "      <th>trip_distance</th>\n",
       "      <th>pickup_longitude</th>\n",
       "      <th>pickup_latitude</th>\n",
       "      <th>dropoff_longitude</th>\n",
       "      <th>dropoff_latitude</th>\n",
       "      <th>fare_amount</th>\n",
       "    </tr>\n",
       "    <tr>\n",
       "      <th>npartitions=26</th>\n",
       "      <th></th>\n",
       "      <th></th>\n",
       "      <th></th>\n",
       "      <th></th>\n",
       "      <th></th>\n",
       "      <th></th>\n",
       "    </tr>\n",
       "  </thead>\n",
       "  <tbody>\n",
       "    <tr>\n",
       "      <th></th>\n",
       "      <td>float64</td>\n",
       "      <td>float64</td>\n",
       "      <td>float64</td>\n",
       "      <td>float64</td>\n",
       "      <td>float64</td>\n",
       "      <td>float64</td>\n",
       "    </tr>\n",
       "    <tr>\n",
       "      <th></th>\n",
       "      <td>...</td>\n",
       "      <td>...</td>\n",
       "      <td>...</td>\n",
       "      <td>...</td>\n",
       "      <td>...</td>\n",
       "      <td>...</td>\n",
       "    </tr>\n",
       "    <tr>\n",
       "      <th>...</th>\n",
       "      <td>...</td>\n",
       "      <td>...</td>\n",
       "      <td>...</td>\n",
       "      <td>...</td>\n",
       "      <td>...</td>\n",
       "      <td>...</td>\n",
       "    </tr>\n",
       "    <tr>\n",
       "      <th></th>\n",
       "      <td>...</td>\n",
       "      <td>...</td>\n",
       "      <td>...</td>\n",
       "      <td>...</td>\n",
       "      <td>...</td>\n",
       "      <td>...</td>\n",
       "    </tr>\n",
       "    <tr>\n",
       "      <th></th>\n",
       "      <td>...</td>\n",
       "      <td>...</td>\n",
       "      <td>...</td>\n",
       "      <td>...</td>\n",
       "      <td>...</td>\n",
       "      <td>...</td>\n",
       "    </tr>\n",
       "  </tbody>\n",
       "</table>\n",
       "<div>Dask Name: read_csv, 1 expression</div>"
      ],
      "text/plain": [
       "Dask DataFrame Structure:\n",
       "               trip_distance pickup_longitude pickup_latitude dropoff_longitude dropoff_latitude fare_amount\n",
       "npartitions=26                                                                                              \n",
       "                     float64          float64         float64           float64          float64     float64\n",
       "                         ...              ...             ...               ...              ...         ...\n",
       "...                      ...              ...             ...               ...              ...         ...\n",
       "                         ...              ...             ...               ...              ...         ...\n",
       "                         ...              ...             ...               ...              ...         ...\n",
       "Dask Name: read_csv, 1 expression\n",
       "Expr=ReadCSV(4a6b3d2)"
      ]
     },
     "execution_count": 4,
     "metadata": {},
     "output_type": "execute_result"
    }
   ],
   "source": [
    "df_jan"
   ]
  },
  {
   "cell_type": "code",
   "execution_count": 7,
   "id": "7fe9590e",
   "metadata": {},
   "outputs": [],
   "source": [
    "df_final = dd.concat([df_jan, df_feb, df_mar], axis=0)"
   ]
  },
  {
   "cell_type": "markdown",
   "id": "8b8ca196",
   "metadata": {},
   "source": [
    "**New york bounding box:**\n",
    "- min_latitude = 40.60\n",
    "- max_latitude = 40.85\n",
    "- min_longitude = -74.05\n",
    "- max_longitude = -73.70"
   ]
  },
  {
   "cell_type": "code",
   "execution_count": 8,
   "id": "190b31e4",
   "metadata": {},
   "outputs": [],
   "source": [
    "# set the values of coordinates\n",
    "\n",
    "min_latitude = 40.60\n",
    "max_latitude = 40.85\n",
    "min_longitude = -74.05\n",
    "max_longitude = -73.70"
   ]
  },
  {
   "cell_type": "code",
   "execution_count": 9,
   "id": "c48da310",
   "metadata": {},
   "outputs": [],
   "source": [
    "# fare amount column\n",
    "fare_amount = df_final['fare_amount'].compute()\n",
    "\n",
    "# trip distance column\n",
    "trip_distance = df_final['trip_distance'].compute()"
   ]
  },
  {
   "cell_type": "code",
   "execution_count": 11,
   "id": "a52b7340",
   "metadata": {},
   "outputs": [
    {
     "data": {
      "text/plain": [
       "3.4499859"
      ]
     },
     "execution_count": 11,
     "metadata": {},
     "output_type": "execute_result"
    }
   ],
   "source": [
    "fare_amount.shape[0] / 10000000"
   ]
  },
  {
   "cell_type": "code",
   "execution_count": 12,
   "id": "91408660",
   "metadata": {},
   "outputs": [
    {
     "data": {
      "text/plain": [
       "0.991        52.00\n",
       "0.992        52.00\n",
       "0.993        52.00\n",
       "0.994        52.00\n",
       "0.995        54.00\n",
       "0.996        58.50\n",
       "0.997        63.00\n",
       "0.998        69.00\n",
       "0.999        81.00\n",
       "1.000    429496.72\n",
       "Name: fare_amount, dtype: float64"
      ]
     },
     "execution_count": 12,
     "metadata": {},
     "output_type": "execute_result"
    }
   ],
   "source": [
    "# percentile values for fare amount\n",
    "\n",
    "percentile_values = np.arange(0.991,1.000, 0.001)\n",
    "percentile_values\n",
    "\n",
    "fare_amount.quantile(percentile_values)"
   ]
  },
  {
   "cell_type": "code",
   "execution_count": 13,
   "id": "2fbc6fd7",
   "metadata": {},
   "outputs": [
    {
     "name": "stdout",
     "output_type": "stream",
     "text": [
      "0.5\n",
      "81.0\n"
     ]
    }
   ],
   "source": [
    "max_fare_amount_val = fare_amount.quantile(percentile_values).iloc[-2].item()\n",
    "min_fare_amount_val = 0.5\n",
    "\n",
    "print(min_fare_amount_val)\n",
    "print(max_fare_amount_val)"
   ]
  },
  {
   "cell_type": "code",
   "execution_count": 14,
   "id": "e791d557",
   "metadata": {},
   "outputs": [
    {
     "data": {
      "text/plain": [
       "0.991          18.80\n",
       "0.992          19.00\n",
       "0.993          19.30\n",
       "0.994          19.63\n",
       "0.995          20.04\n",
       "0.996          20.51\n",
       "0.997          21.10\n",
       "0.998          21.90\n",
       "0.999          24.43\n",
       "1.000    19072628.80\n",
       "Name: trip_distance, dtype: float64"
      ]
     },
     "execution_count": 14,
     "metadata": {},
     "output_type": "execute_result"
    }
   ],
   "source": [
    "trip_distance.quantile(percentile_values)"
   ]
  },
  {
   "cell_type": "code",
   "execution_count": 17,
   "id": "b2bc05e4",
   "metadata": {},
   "outputs": [
    {
     "name": "stdout",
     "output_type": "stream",
     "text": [
      "0.25\n",
      "24.43\n"
     ]
    }
   ],
   "source": [
    "# percentile values for trip_distance\n",
    "\n",
    "min_trip_distance_val = 0.25\n",
    "max_trip_distance_val = trip_distance.quantile(percentile_values).iloc[-2].item()\n",
    "\n",
    "print(min_trip_distance_val)\n",
    "print(max_trip_distance_val)"
   ]
  },
  {
   "cell_type": "markdown",
   "id": "163970ff",
   "metadata": {},
   "source": [
    "## Remove Outilers from the Data"
   ]
  },
  {
   "cell_type": "code",
   "execution_count": 18,
   "id": "90827cc2",
   "metadata": {},
   "outputs": [],
   "source": [
    "# select data points within the given ranges\n",
    "\n",
    "df_final = df_final.loc[(df_final[\"pickup_latitude\"].between(min_latitude, max_latitude, inclusive=\"both\")) & \n",
    "(df_final[\"pickup_longitude\"].between(min_longitude, max_longitude, inclusive=\"both\")) & \n",
    "(df_final[\"dropoff_latitude\"].between(min_latitude, max_latitude, inclusive=\"both\")) & \n",
    "(df_final[\"dropoff_longitude\"].between(min_longitude, max_longitude, inclusive=\"both\")), :]"
   ]
  },
  {
   "cell_type": "code",
   "execution_count": 20,
   "id": "92026da5",
   "metadata": {},
   "outputs": [],
   "source": [
    "df_final = df_final.loc[(df_final['fare_amount'].between(min_fare_amount_val, max_fare_amount_val, inclusive='both')) &\n",
    " (df_final['trip_distance'].between(min_trip_distance_val, max_trip_distance_val, inclusive='both'))]"
   ]
  },
  {
   "cell_type": "markdown",
   "id": "5cede0f8",
   "metadata": {},
   "source": [
    "## Location Based Columns"
   ]
  },
  {
   "cell_type": "code",
   "execution_count": 22,
   "id": "5ec1ad33",
   "metadata": {},
   "outputs": [
    {
     "data": {
      "text/html": [
       "<div><strong>Dask DataFrame Structure:</strong></div>\n",
       "<table border=\"1\" class=\"dataframe\">\n",
       "  <thead>\n",
       "    <tr style=\"text-align: right;\">\n",
       "      <th></th>\n",
       "      <th>pickup_latitude</th>\n",
       "      <th>pickup_longitude</th>\n",
       "      <th>dropoff_latitude</th>\n",
       "      <th>dropoff_longitude</th>\n",
       "    </tr>\n",
       "    <tr>\n",
       "      <th>npartitions=82</th>\n",
       "      <th></th>\n",
       "      <th></th>\n",
       "      <th></th>\n",
       "      <th></th>\n",
       "    </tr>\n",
       "  </thead>\n",
       "  <tbody>\n",
       "    <tr>\n",
       "      <th></th>\n",
       "      <td>float64</td>\n",
       "      <td>float64</td>\n",
       "      <td>float64</td>\n",
       "      <td>float64</td>\n",
       "    </tr>\n",
       "    <tr>\n",
       "      <th></th>\n",
       "      <td>...</td>\n",
       "      <td>...</td>\n",
       "      <td>...</td>\n",
       "      <td>...</td>\n",
       "    </tr>\n",
       "    <tr>\n",
       "      <th>...</th>\n",
       "      <td>...</td>\n",
       "      <td>...</td>\n",
       "      <td>...</td>\n",
       "      <td>...</td>\n",
       "    </tr>\n",
       "    <tr>\n",
       "      <th></th>\n",
       "      <td>...</td>\n",
       "      <td>...</td>\n",
       "      <td>...</td>\n",
       "      <td>...</td>\n",
       "    </tr>\n",
       "    <tr>\n",
       "      <th></th>\n",
       "      <td>...</td>\n",
       "      <td>...</td>\n",
       "      <td>...</td>\n",
       "      <td>...</td>\n",
       "    </tr>\n",
       "  </tbody>\n",
       "</table>\n",
       "<div>Dask Name: getitem, 24 expressions</div>"
      ],
      "text/plain": [
       "Dask DataFrame Structure:\n",
       "               pickup_latitude pickup_longitude dropoff_latitude dropoff_longitude\n",
       "npartitions=82                                                                    \n",
       "                       float64          float64          float64           float64\n",
       "                           ...              ...              ...               ...\n",
       "...                        ...              ...              ...               ...\n",
       "                           ...              ...              ...               ...\n",
       "                           ...              ...              ...               ...\n",
       "Dask Name: getitem, 24 expressions\n",
       "Expr=(Loc(frame=Loc(frame=(Concat(frames=[ReadCSV(4a6b3d2), ReadCSV(64d3ee6), ReadCSV(fed1495)], ))[['trip_distance', 'pickup_longitude', 'pickup_latitude', 'dropoff_longitude', 'dropoff_latitude', 'fare_amount']], iindexer=Between(frame=(Concat(frames=[ReadCSV(4a6b3d2), ReadCSV(64d3ee6), ReadCSV(fed1495)], ))['pickup_latitude'], left=40.6, right=40.85) & Between(frame=(Concat(frames=[ReadCSV(4a6b3d2), ReadCSV(64d3ee6), ReadCSV(fed1495)], ))['pickup_longitude'], left=-74.05, right=-73.7) & Between(frame=(Concat(frames=[ReadCSV(4a6b3d2), ReadCSV(64d3ee6), ReadCSV(fed1495)], ))['dropoff_latitude'], left=40.6, right=40.85) & Between(frame=(Concat(frames=[ReadCSV(4a6b3d2), ReadCSV(64d3ee6), ReadCSV(fed1495)], ))['dropoff_longitude'], left=-74.05, right=-73.7)), iindexer=Between(frame=(Loc(frame=(Concat(frames=[ReadCSV(4a6b3d2), ReadCSV(64d3ee6), ReadCSV(fed1495)], ))[['trip_distance', 'pickup_longitude', 'pickup_latitude', 'dropoff_longitude', 'dropoff_latitude', 'fare_amount']], iindexer=Between(frame=(Concat(frames=[ReadCSV(4a6b3d2), ReadCSV(64d3ee6), ReadCSV(fed1495)], ))['pickup_latitude'], left=40.6, right=40.85) & Between(frame=(Concat(frames=[ReadCSV(4a6b3d2), ReadCSV(64d3ee6), ReadCSV(fed1495)], ))['pickup_longitude'], left=-74.05, right=-73.7) & Between(frame=(Concat(frames=[ReadCSV(4a6b3d2), ReadCSV(64d3ee6), ReadCSV(fed1495)], ))['dropoff_latitude'], left=40.6, right=40.85) & Between(frame=(Concat(frames=[ReadCSV(4a6b3d2), ReadCSV(64d3ee6), ReadCSV(fed1495)], ))['dropoff_longitude'], left=-74.05, right=-73.7)))['fare_amount'], left=0.5, right=81.0) & Between(frame=(Loc(frame=(Concat(frames=[ReadCSV(4a6b3d2), ReadCSV(64d3ee6), ReadCSV(fed1495)], ))[['trip_distance', 'pickup_longitude', 'pickup_latitude', 'dropoff_longitude', 'dropoff_latitude', 'fare_amount']], iindexer=Between(frame=(Concat(frames=[ReadCSV(4a6b3d2), ReadCSV(64d3ee6), ReadCSV(fed1495)], ))['pickup_latitude'], left=40.6, right=40.85) & Between(frame=(Concat(frames=[ReadCSV(4a6b3d2), ReadCSV(64d3ee6), ReadCSV(fed1495)], ))['pickup_longitude'], left=-74.05, right=-73.7) & Between(frame=(Concat(frames=[ReadCSV(4a6b3d2), ReadCSV(64d3ee6), ReadCSV(fed1495)], ))['dropoff_latitude'], left=40.6, right=40.85) & Between(frame=(Concat(frames=[ReadCSV(4a6b3d2), ReadCSV(64d3ee6), ReadCSV(fed1495)], ))['dropoff_longitude'], left=-74.05, right=-73.7)))['trip_distance'], left=0.25, right=24.43)))[['pickup_latitude', 'pickup_longitude', 'dropoff_latitude', 'dropoff_longitude']]"
      ]
     },
     "execution_count": 22,
     "metadata": {},
     "output_type": "execute_result"
    }
   ],
   "source": [
    "# make a subset of location based columns\n",
    "\n",
    "location_subset = df_final[['pickup_latitude','pickup_longitude', \n",
    "                           'dropoff_latitude','dropoff_longitude']]\n",
    "\n",
    "location_subset"
   ]
  },
  {
   "cell_type": "code",
   "execution_count": 23,
   "id": "9dcb4cfb",
   "metadata": {
    "scrolled": true
   },
   "outputs": [
    {
     "data": {
      "image/png": "[encoded data removed]",
      "text/plain": [
       "<Figure size 1200x500 with 4 Axes>"
      ]
     },
     "metadata": {},
     "output_type": "display_data"
    }
   ],
   "source": [
    "# boxplots for location based columns\n",
    "\n",
    "fig, (ax1, ax2) = plt.subplots(nrows=2, ncols=2, figsize=(12,5))\n",
    "for i in range(4):\n",
    "    if i <= 1:\n",
    "        # plot the boxplot\n",
    "        sns.boxplot(y=location_subset.iloc[:,i].compute(),ax=ax1[i],whis=3)\n",
    "    else:\n",
    "        # plot the boxplot\n",
    "        sns.boxplot(y=location_subset.iloc[:,i].compute(),ax=ax2[i - 2],whis=3)"
   ]
  },
  {
   "cell_type": "markdown",
   "id": "30016dcf",
   "metadata": {},
   "source": [
    "**whis** controls outlier detection by adjusting whisker length.\n",
    "- Higher values (e.g., 3, 5) → Fewer outliers.\n",
    "- Lower values (e.g., 1) → More outliers.\n",
    "\n",
    "### IQR = Q3 - Q1\n",
    "- Lower Limit=Q1−(whis×IQR)\n",
    "- Upper Limit=Q3+(whis×IQR)"
   ]
  },
  {
   "cell_type": "markdown",
   "id": "70eb114c",
   "metadata": {},
   "source": [
    "## Trip Distance"
   ]
  },
  {
   "cell_type": "code",
   "execution_count": 24,
   "id": "a4cd411f",
   "metadata": {},
   "outputs": [
    {
     "data": {
      "text/plain": [
       "<Axes: ylabel='trip_distance'>"
      ]
     },
     "execution_count": 24,
     "metadata": {},
     "output_type": "execute_result"
    },
    {
     "data": {
      "image/png": "[encoded data removed]",
      "text/plain": [
       "<Figure size 640x480 with 1 Axes>"
      ]
     },
     "metadata": {},
     "output_type": "display_data"
    }
   ],
   "source": [
    "# boxplot for the trip distance\n",
    "\n",
    "sns.boxplot(df_final.loc[:,\"trip_distance\"].compute(), whis=3)"
   ]
  },
  {
   "cell_type": "markdown",
   "id": "e4031c5d",
   "metadata": {},
   "source": [
    "## Fare Amount"
   ]
  },
  {
   "cell_type": "code",
   "execution_count": 27,
   "id": "32cb0771",
   "metadata": {},
   "outputs": [
    {
     "data": {
      "text/plain": [
       "<Axes: ylabel='fare_amount'>"
      ]
     },
     "execution_count": 27,
     "metadata": {},
     "output_type": "execute_result"
    },
    {
     "data": {
      "image/png": "[encoded data removed]",
      "text/plain": [
       "<Figure size 640x480 with 1 Axes>"
      ]
     },
     "metadata": {},
     "output_type": "display_data"
    }
   ],
   "source": [
    "# boxplot for the fare amount\n",
    "\n",
    "sns.boxplot(df_final.loc[:,\"fare_amount\"].compute(), whis=3)"
   ]
  },
  {
   "cell_type": "code",
   "execution_count": 28,
   "id": "78699b37",
   "metadata": {},
   "outputs": [],
   "source": [
    "save_path = r\"D:\\Uber Demand Prediction\\Session 4 - Creating Historical Data\\location_data.csv\"\n",
    "\n",
    "pickup_coord_dataset = df_final.loc[:, ['pickup_latitude','pickup_longitude']]"
   ]
  },
  {
   "cell_type": "code",
   "execution_count": 29,
   "id": "f9e784c9",
   "metadata": {},
   "outputs": [
    {
     "data": {
      "image/svg+xml": [
       "<?xml version=\"1.0\" encoding=\"UTF-8\" standalone=\"no\"?>\n",
       "<!DOCTYPE svg PUBLIC \"-//W3C//DTD SVG 1.1//EN\"\n",
       " \"http://www.w3.org/Graphics/SVG/1.1/DTD/svg11.dtd\">\n",
       "<!-- Generated by graphviz version 12.2.0 (20241103.1931)\n",
       " -->\n",
       "<!-- Pages: 1 -->\n",
       "<svg width=\"2009pt\" height=\"908pt\"\n",
       " viewBox=\"0.00 0.00 2008.50 908.00\" xmlns=\"http://www.w3.org/2000/svg\" xmlns:xlink=\"http://www.w3.org/1999/xlink\">\n",
       "<g id=\"graph0\" class=\"graph\" transform=\"scale(1 1) rotate(0) translate(4 904)\">\n",
       "<polygon fill=\"white\" stroke=\"none\" points=\"-4,4 -4,-904 2004.5,-904 2004.5,4 -4,4\"/>\n",
       "<!-- &#45;9202267501313506654 -->\n",
       "<g id=\"node1\" class=\"node\">\n",
       "<title>&#45;9202267501313506654</title>\n",
       "<polygon fill=\"none\" stroke=\"black\" points=\"847.62,-900 365.88,-900 365.88,-864 847.62,-864 847.62,-900\"/>\n",
       "<text text-anchor=\"middle\" x=\"606.75\" y=\"-874.62\" font-family=\"Helvetica,sans-Serif\" font-size=\"20.00\">Projection(Loc, [&#39;pickup_latitude&#39;, &#39;pickup_longitude&#39;])</text>\n",
       "</g>\n",
       "<!-- &#45;3163739554730920995 -->\n",
       "<g id=\"node2\" class=\"node\">\n",
       "<title>&#45;3163739554730920995</title>\n",
       "<polygon fill=\"none\" stroke=\"black\" points=\"676.62,-828 536.88,-828 536.88,-792 676.62,-792 676.62,-828\"/>\n",
       "<text text-anchor=\"middle\" x=\"606.75\" y=\"-802.62\" font-family=\"Helvetica,sans-Serif\" font-size=\"20.00\">Loc(Loc, And)</text>\n",
       "</g>\n",
       "<!-- &#45;3163739554730920995&#45;&gt;&#45;9202267501313506654 -->\n",
       "<g id=\"edge1\" class=\"edge\">\n",
       "<title>&#45;3163739554730920995&#45;&gt;&#45;9202267501313506654</title>\n",
       "<path fill=\"none\" stroke=\"black\" d=\"M606.75,-828.3C606.75,-835.59 606.75,-844.27 606.75,-852.46\"/>\n",
       "<polygon fill=\"black\" stroke=\"black\" points=\"603.25,-852.38 606.75,-862.38 610.25,-852.38 603.25,-852.38\"/>\n",
       "</g>\n",
       "<!-- &#45;5309174929364332880 -->\n",
       "<g id=\"node3\" class=\"node\">\n",
       "<title>&#45;5309174929364332880</title>\n",
       "<polygon fill=\"none\" stroke=\"black\" points=\"805.75,-756 573.75,-756 573.75,-720 805.75,-720 805.75,-756\"/>\n",
       "<text text-anchor=\"middle\" x=\"689.75\" y=\"-730.62\" font-family=\"Helvetica,sans-Serif\" font-size=\"20.00\">And(Between, Between)</text>\n",
       "</g>\n",
       "<!-- &#45;5309174929364332880&#45;&gt;&#45;3163739554730920995 -->\n",
       "<g id=\"edge2\" class=\"edge\">\n",
       "<title>&#45;5309174929364332880&#45;&gt;&#45;3163739554730920995</title>\n",
       "<path fill=\"none\" stroke=\"black\" d=\"M669.23,-756.3C659.16,-764.8 646.84,-775.19 635.82,-784.49\"/>\n",
       "<polygon fill=\"black\" stroke=\"black\" points=\"633.86,-781.55 628.48,-790.68 638.38,-786.91 633.86,-781.55\"/>\n",
       "</g>\n",
       "<!-- &#45;8168062754931762041 -->\n",
       "<g id=\"node4\" class=\"node\">\n",
       "<title>&#45;8168062754931762041</title>\n",
       "<polygon fill=\"none\" stroke=\"black\" points=\"788.12,-684 591.38,-684 591.38,-648 788.12,-648 788.12,-684\"/>\n",
       "<text text-anchor=\"middle\" x=\"689.75\" y=\"-658.62\" font-family=\"Helvetica,sans-Serif\" font-size=\"20.00\">Between(Projection)</text>\n",
       "</g>\n",
       "<!-- &#45;8168062754931762041&#45;&gt;&#45;5309174929364332880 -->\n",
       "<g id=\"edge5\" class=\"edge\">\n",
       "<title>&#45;8168062754931762041&#45;&gt;&#45;5309174929364332880</title>\n",
       "<path fill=\"none\" stroke=\"black\" d=\"M689.75,-684.3C689.75,-691.59 689.75,-700.27 689.75,-708.46\"/>\n",
       "<polygon fill=\"black\" stroke=\"black\" points=\"686.25,-708.38 689.75,-718.38 693.25,-708.38 686.25,-708.38\"/>\n",
       "</g>\n",
       "<!-- &#45;273829296596716342 -->\n",
       "<g id=\"node5\" class=\"node\">\n",
       "<title>&#45;273829296596716342</title>\n",
       "<polygon fill=\"none\" stroke=\"black\" points=\"827.12,-612 552.38,-612 552.38,-576 827.12,-576 827.12,-612\"/>\n",
       "<text text-anchor=\"middle\" x=\"689.75\" y=\"-586.62\" font-family=\"Helvetica,sans-Serif\" font-size=\"20.00\">Projection(Loc, trip_distance)</text>\n",
       "</g>\n",
       "<!-- &#45;273829296596716342&#45;&gt;&#45;8168062754931762041 -->\n",
       "<g id=\"edge6\" class=\"edge\">\n",
       "<title>&#45;273829296596716342&#45;&gt;&#45;8168062754931762041</title>\n",
       "<path fill=\"none\" stroke=\"black\" d=\"M689.75,-612.3C689.75,-619.59 689.75,-628.27 689.75,-636.46\"/>\n",
       "<polygon fill=\"black\" stroke=\"black\" points=\"686.25,-636.38 689.75,-646.38 693.25,-636.38 686.25,-636.38\"/>\n",
       "</g>\n",
       "<!-- 1457607910660555502 -->\n",
       "<g id=\"node6\" class=\"node\">\n",
       "<title>1457607910660555502</title>\n",
       "<polygon fill=\"none\" stroke=\"black\" points=\"788.12,-540 591.38,-540 591.38,-504 788.12,-504 788.12,-540\"/>\n",
       "<text text-anchor=\"middle\" x=\"689.75\" y=\"-514.62\" font-family=\"Helvetica,sans-Serif\" font-size=\"20.00\">Loc(Projection, And)</text>\n",
       "</g>\n",
       "<!-- 1457607910660555502&#45;&gt;&#45;3163739554730920995 -->\n",
       "<g id=\"edge3\" class=\"edge\">\n",
       "<title>1457607910660555502&#45;&gt;&#45;3163739554730920995</title>\n",
       "<path fill=\"none\" stroke=\"black\" d=\"M591.03,-540.34C572.46,-548.18 555.28,-559.55 543.75,-576 522.75,-605.97 510.15,-629.51 564.75,-756 568.94,-765.71 575.38,-775.15 581.98,-783.31\"/>\n",
       "<polygon fill=\"black\" stroke=\"black\" points=\"579.21,-785.46 588.38,-790.77 584.52,-780.9 579.21,-785.46\"/>\n",
       "</g>\n",
       "<!-- 1457607910660555502&#45;&gt;&#45;273829296596716342 -->\n",
       "<g id=\"edge7\" class=\"edge\">\n",
       "<title>1457607910660555502&#45;&gt;&#45;273829296596716342</title>\n",
       "<path fill=\"none\" stroke=\"black\" d=\"M689.75,-540.3C689.75,-547.59 689.75,-556.27 689.75,-564.46\"/>\n",
       "<polygon fill=\"black\" stroke=\"black\" points=\"686.25,-564.38 689.75,-574.38 693.25,-564.38 686.25,-564.38\"/>\n",
       "</g>\n",
       "<!-- 7710421868621317158 -->\n",
       "<g id=\"node24\" class=\"node\">\n",
       "<title>7710421868621317158</title>\n",
       "<polygon fill=\"none\" stroke=\"black\" points=\"1118.75,-612 844.75,-612 844.75,-576 1118.75,-576 1118.75,-612\"/>\n",
       "<text text-anchor=\"middle\" x=\"981.75\" y=\"-586.62\" font-family=\"Helvetica,sans-Serif\" font-size=\"20.00\">Projection(Loc, fare_amount)</text>\n",
       "</g>\n",
       "<!-- 1457607910660555502&#45;&gt;7710421868621317158 -->\n",
       "<g id=\"edge29\" class=\"edge\">\n",
       "<title>1457607910660555502&#45;&gt;7710421868621317158</title>\n",
       "<path fill=\"none\" stroke=\"black\" d=\"M762.68,-540.48C803.78,-550.34 855.29,-562.69 898.04,-572.93\"/>\n",
       "<polygon fill=\"black\" stroke=\"black\" points=\"896.98,-576.28 907.52,-575.2 898.61,-569.47 896.98,-576.28\"/>\n",
       "</g>\n",
       "<!-- &#45;8993024236766134009 -->\n",
       "<g id=\"node7\" class=\"node\">\n",
       "<title>&#45;8993024236766134009</title>\n",
       "<polygon fill=\"none\" stroke=\"black\" points=\"723.75,-468 533.75,-468 533.75,-432 723.75,-432 723.75,-468\"/>\n",
       "<text text-anchor=\"middle\" x=\"628.75\" y=\"-442.62\" font-family=\"Helvetica,sans-Serif\" font-size=\"20.00\">And(And, Between)</text>\n",
       "</g>\n",
       "<!-- &#45;8993024236766134009&#45;&gt;1457607910660555502 -->\n",
       "<g id=\"edge9\" class=\"edge\">\n",
       "<title>&#45;8993024236766134009&#45;&gt;1457607910660555502</title>\n",
       "<path fill=\"none\" stroke=\"black\" d=\"M643.83,-468.3C650.92,-476.44 659.52,-486.31 667.35,-495.3\"/>\n",
       "<polygon fill=\"black\" stroke=\"black\" points=\"664.64,-497.51 673.85,-502.75 669.92,-492.92 664.64,-497.51\"/>\n",
       "</g>\n",
       "<!-- &#45;9181429061105035372 -->\n",
       "<g id=\"node8\" class=\"node\">\n",
       "<title>&#45;9181429061105035372</title>\n",
       "<polygon fill=\"none\" stroke=\"black\" points=\"479.12,-396 282.38,-396 282.38,-360 479.12,-360 479.12,-396\"/>\n",
       "<text text-anchor=\"middle\" x=\"380.75\" y=\"-370.62\" font-family=\"Helvetica,sans-Serif\" font-size=\"20.00\">Between(Projection)</text>\n",
       "</g>\n",
       "<!-- &#45;9181429061105035372&#45;&gt;&#45;8993024236766134009 -->\n",
       "<g id=\"edge10\" class=\"edge\">\n",
       "<title>&#45;9181429061105035372&#45;&gt;&#45;8993024236766134009</title>\n",
       "<path fill=\"none\" stroke=\"black\" d=\"M442.69,-396.48C477.15,-406.21 520.21,-418.36 556.23,-428.53\"/>\n",
       "<polygon fill=\"black\" stroke=\"black\" points=\"555.14,-431.86 565.71,-431.21 557.04,-425.12 555.14,-431.86\"/>\n",
       "</g>\n",
       "<!-- 7634334933480455725 -->\n",
       "<g id=\"node9\" class=\"node\">\n",
       "<title>7634334933480455725</title>\n",
       "<polygon fill=\"none\" stroke=\"black\" points=\"347.5,-180 0,-180 0,-144 347.5,-144 347.5,-180\"/>\n",
       "<text text-anchor=\"middle\" x=\"173.75\" y=\"-154.62\" font-family=\"Helvetica,sans-Serif\" font-size=\"20.00\">Projection(Concat, dropoff_longitude)</text>\n",
       "</g>\n",
       "<!-- 7634334933480455725&#45;&gt;&#45;9181429061105035372 -->\n",
       "<g id=\"edge12\" class=\"edge\">\n",
       "<title>7634334933480455725&#45;&gt;&#45;9181429061105035372</title>\n",
       "<path fill=\"none\" stroke=\"black\" d=\"M190.34,-180.15C226.68,-217.72 313.45,-307.42 356.16,-351.57\"/>\n",
       "<polygon fill=\"black\" stroke=\"black\" points=\"353.56,-353.93 363.03,-358.68 358.59,-349.06 353.56,-353.93\"/>\n",
       "</g>\n",
       "<!-- 9084001944503450530 -->\n",
       "<g id=\"node10\" class=\"node\">\n",
       "<title>9084001944503450530</title>\n",
       "<polygon fill=\"none\" stroke=\"black\" points=\"1074.12,-108 697.38,-108 697.38,-72 1074.12,-72 1074.12,-108\"/>\n",
       "<text text-anchor=\"middle\" x=\"885.75\" y=\"-82.62\" font-family=\"Helvetica,sans-Serif\" font-size=\"20.00\">Concat(ReadCSV, ReadCSV, ReadCSV)</text>\n",
       "</g>\n",
       "<!-- 9084001944503450530&#45;&gt;7634334933480455725 -->\n",
       "<g id=\"edge13\" class=\"edge\">\n",
       "<title>9084001944503450530&#45;&gt;7634334933480455725</title>\n",
       "<path fill=\"none\" stroke=\"black\" d=\"M707.92,-108.48C601.6,-118.94 466.72,-132.2 359.1,-142.78\"/>\n",
       "<polygon fill=\"black\" stroke=\"black\" points=\"358.89,-139.28 349.28,-143.74 359.58,-146.25 358.89,-139.28\"/>\n",
       "</g>\n",
       "<!-- 1922652843036635682 -->\n",
       "<g id=\"node16\" class=\"node\">\n",
       "<title>1922652843036635682</title>\n",
       "<polygon fill=\"none\" stroke=\"black\" points=\"695.88,-180 365.62,-180 365.62,-144 695.88,-144 695.88,-180\"/>\n",
       "<text text-anchor=\"middle\" x=\"530.75\" y=\"-154.62\" font-family=\"Helvetica,sans-Serif\" font-size=\"20.00\">Projection(Concat, dropoff_latitude)</text>\n",
       "</g>\n",
       "<!-- 9084001944503450530&#45;&gt;1922652843036635682 -->\n",
       "<g id=\"edge20\" class=\"edge\">\n",
       "<title>9084001944503450530&#45;&gt;1922652843036635682</title>\n",
       "<path fill=\"none\" stroke=\"black\" d=\"M797.08,-108.48C746.37,-118.48 682.62,-131.05 630.21,-141.39\"/>\n",
       "<polygon fill=\"black\" stroke=\"black\" points=\"629.83,-137.9 620.69,-143.26 631.18,-144.76 629.83,-137.9\"/>\n",
       "</g>\n",
       "<!-- &#45;1062261523252675126 -->\n",
       "<g id=\"node19\" class=\"node\">\n",
       "<title>&#45;1062261523252675126</title>\n",
       "<polygon fill=\"none\" stroke=\"black\" points=\"1057.25,-180 714.25,-180 714.25,-144 1057.25,-144 1057.25,-180\"/>\n",
       "<text text-anchor=\"middle\" x=\"885.75\" y=\"-154.62\" font-family=\"Helvetica,sans-Serif\" font-size=\"20.00\">Projection(Concat, pickup_longitude)</text>\n",
       "</g>\n",
       "<!-- 9084001944503450530&#45;&gt;&#45;1062261523252675126 -->\n",
       "<g id=\"edge24\" class=\"edge\">\n",
       "<title>9084001944503450530&#45;&gt;&#45;1062261523252675126</title>\n",
       "<path fill=\"none\" stroke=\"black\" d=\"M885.75,-108.3C885.75,-115.59 885.75,-124.27 885.75,-132.46\"/>\n",
       "<polygon fill=\"black\" stroke=\"black\" points=\"882.25,-132.38 885.75,-142.38 889.25,-132.38 882.25,-132.38\"/>\n",
       "</g>\n",
       "<!-- &#45;5506499474599207043 -->\n",
       "<g id=\"node21\" class=\"node\">\n",
       "<title>&#45;5506499474599207043</title>\n",
       "<polygon fill=\"none\" stroke=\"black\" points=\"1400.62,-180 1074.88,-180 1074.88,-144 1400.62,-144 1400.62,-180\"/>\n",
       "<text text-anchor=\"middle\" x=\"1237.75\" y=\"-154.62\" font-family=\"Helvetica,sans-Serif\" font-size=\"20.00\">Projection(Concat, pickup_latitude)</text>\n",
       "</g>\n",
       "<!-- 9084001944503450530&#45;&gt;&#45;5506499474599207043 -->\n",
       "<g id=\"edge26\" class=\"edge\">\n",
       "<title>9084001944503450530&#45;&gt;&#45;5506499474599207043</title>\n",
       "<path fill=\"none\" stroke=\"black\" d=\"M973.67,-108.48C1023.85,-118.46 1086.89,-131 1138.8,-141.32\"/>\n",
       "<polygon fill=\"black\" stroke=\"black\" points=\"1138.06,-144.74 1148.56,-143.26 1139.43,-137.88 1138.06,-144.74\"/>\n",
       "</g>\n",
       "<!-- 6415458761235574486 -->\n",
       "<g id=\"node22\" class=\"node\">\n",
       "<title>6415458761235574486</title>\n",
       "<polygon fill=\"none\" stroke=\"black\" points=\"2000.5,-324 897,-324 897,-288 2000.5,-288 2000.5,-324\"/>\n",
       "<text text-anchor=\"middle\" x=\"1448.75\" y=\"-298.62\" font-family=\"Helvetica,sans-Serif\" font-size=\"20.00\">Projection(Concat, [&#39;trip_distance&#39;, &#39;pickup_longitude&#39;, &#39;pickup_latitude&#39;, &#39;dropoff_longitude&#39;, &#39;dropoff_latitude&#39;, &#39;fare_amount&#39;])</text>\n",
       "</g>\n",
       "<!-- 9084001944503450530&#45;&gt;6415458761235574486 -->\n",
       "<g id=\"edge27\" class=\"edge\">\n",
       "<title>9084001944503450530&#45;&gt;6415458761235574486</title>\n",
       "<path fill=\"none\" stroke=\"black\" d=\"M1074.29,-99.53C1213.96,-107.6 1384.31,-121.83 1409.75,-144 1447.54,-176.94 1451.95,-239.66 1450.91,-276.34\"/>\n",
       "<polygon fill=\"black\" stroke=\"black\" points=\"1447.42,-276.03 1450.47,-286.18 1454.42,-276.35 1447.42,-276.03\"/>\n",
       "</g>\n",
       "<!-- &#45;907044863672502512 -->\n",
       "<g id=\"node11\" class=\"node\">\n",
       "<title>&#45;907044863672502512</title>\n",
       "<polygon fill=\"none\" stroke=\"black\" points=\"815.38,-36 710.12,-36 710.12,0 815.38,0 815.38,-36\"/>\n",
       "<text text-anchor=\"middle\" x=\"762.75\" y=\"-10.62\" font-family=\"Helvetica,sans-Serif\" font-size=\"20.00\">ReadCSV</text>\n",
       "</g>\n",
       "<!-- &#45;907044863672502512&#45;&gt;9084001944503450530 -->\n",
       "<g id=\"edge15\" class=\"edge\">\n",
       "<title>&#45;907044863672502512&#45;&gt;9084001944503450530</title>\n",
       "<path fill=\"none\" stroke=\"black\" d=\"M793.47,-36.48C809.29,-45.49 828.78,-56.58 845.76,-66.24\"/>\n",
       "<polygon fill=\"black\" stroke=\"black\" points=\"843.68,-69.09 854.11,-70.99 847.15,-63 843.68,-69.09\"/>\n",
       "</g>\n",
       "<!-- &#45;8877892698018179248 -->\n",
       "<g id=\"node12\" class=\"node\">\n",
       "<title>&#45;8877892698018179248</title>\n",
       "<polygon fill=\"none\" stroke=\"black\" points=\"938.38,-36 833.12,-36 833.12,0 938.38,0 938.38,-36\"/>\n",
       "<text text-anchor=\"middle\" x=\"885.75\" y=\"-10.62\" font-family=\"Helvetica,sans-Serif\" font-size=\"20.00\">ReadCSV</text>\n",
       "</g>\n",
       "<!-- &#45;8877892698018179248&#45;&gt;9084001944503450530 -->\n",
       "<g id=\"edge16\" class=\"edge\">\n",
       "<title>&#45;8877892698018179248&#45;&gt;9084001944503450530</title>\n",
       "<path fill=\"none\" stroke=\"black\" d=\"M885.75,-36.3C885.75,-43.59 885.75,-52.27 885.75,-60.46\"/>\n",
       "<polygon fill=\"black\" stroke=\"black\" points=\"882.25,-60.38 885.75,-70.38 889.25,-60.38 882.25,-60.38\"/>\n",
       "</g>\n",
       "<!-- &#45;6135404249187469640 -->\n",
       "<g id=\"node13\" class=\"node\">\n",
       "<title>&#45;6135404249187469640</title>\n",
       "<polygon fill=\"none\" stroke=\"black\" points=\"1061.38,-36 956.12,-36 956.12,0 1061.38,0 1061.38,-36\"/>\n",
       "<text text-anchor=\"middle\" x=\"1008.75\" y=\"-10.62\" font-family=\"Helvetica,sans-Serif\" font-size=\"20.00\">ReadCSV</text>\n",
       "</g>\n",
       "<!-- &#45;6135404249187469640&#45;&gt;9084001944503450530 -->\n",
       "<g id=\"edge14\" class=\"edge\">\n",
       "<title>&#45;6135404249187469640&#45;&gt;9084001944503450530</title>\n",
       "<path fill=\"none\" stroke=\"black\" d=\"M978.03,-36.48C962.21,-45.49 942.72,-56.58 925.74,-66.24\"/>\n",
       "<polygon fill=\"black\" stroke=\"black\" points=\"924.35,-63 917.39,-70.99 927.82,-69.09 924.35,-63\"/>\n",
       "</g>\n",
       "<!-- &#45;3077025611736813939 -->\n",
       "<g id=\"node14\" class=\"node\">\n",
       "<title>&#45;3077025611736813939</title>\n",
       "<polygon fill=\"none\" stroke=\"black\" points=\"723.75,-396 533.75,-396 533.75,-360 723.75,-360 723.75,-396\"/>\n",
       "<text text-anchor=\"middle\" x=\"628.75\" y=\"-370.62\" font-family=\"Helvetica,sans-Serif\" font-size=\"20.00\">And(And, Between)</text>\n",
       "</g>\n",
       "<!-- &#45;3077025611736813939&#45;&gt;&#45;8993024236766134009 -->\n",
       "<g id=\"edge11\" class=\"edge\">\n",
       "<title>&#45;3077025611736813939&#45;&gt;&#45;8993024236766134009</title>\n",
       "<path fill=\"none\" stroke=\"black\" d=\"M628.75,-396.3C628.75,-403.59 628.75,-412.27 628.75,-420.46\"/>\n",
       "<polygon fill=\"black\" stroke=\"black\" points=\"625.25,-420.38 628.75,-430.38 632.25,-420.38 625.25,-420.38\"/>\n",
       "</g>\n",
       "<!-- &#45;1220323008299300216 -->\n",
       "<g id=\"node15\" class=\"node\">\n",
       "<title>&#45;1220323008299300216</title>\n",
       "<polygon fill=\"none\" stroke=\"black\" points=\"629.12,-324 432.38,-324 432.38,-288 629.12,-288 629.12,-324\"/>\n",
       "<text text-anchor=\"middle\" x=\"530.75\" y=\"-298.62\" font-family=\"Helvetica,sans-Serif\" font-size=\"20.00\">Between(Projection)</text>\n",
       "</g>\n",
       "<!-- &#45;1220323008299300216&#45;&gt;&#45;3077025611736813939 -->\n",
       "<g id=\"edge17\" class=\"edge\">\n",
       "<title>&#45;1220323008299300216&#45;&gt;&#45;3077025611736813939</title>\n",
       "<path fill=\"none\" stroke=\"black\" d=\"M555.23,-324.48C567.36,-333.15 582.2,-343.75 595.36,-353.15\"/>\n",
       "<polygon fill=\"black\" stroke=\"black\" points=\"593.18,-355.9 603.35,-358.86 597.25,-350.2 593.18,-355.9\"/>\n",
       "</g>\n",
       "<!-- 1922652843036635682&#45;&gt;&#45;1220323008299300216 -->\n",
       "<g id=\"edge19\" class=\"edge\">\n",
       "<title>1922652843036635682&#45;&gt;&#45;1220323008299300216</title>\n",
       "<path fill=\"none\" stroke=\"black\" d=\"M530.75,-180.41C530.75,-204.39 530.75,-247.86 530.75,-276.58\"/>\n",
       "<polygon fill=\"black\" stroke=\"black\" points=\"527.25,-276.38 530.75,-286.38 534.25,-276.38 527.25,-276.38\"/>\n",
       "</g>\n",
       "<!-- &#45;2152833925375069597 -->\n",
       "<g id=\"node17\" class=\"node\">\n",
       "<title>&#45;2152833925375069597</title>\n",
       "<polygon fill=\"none\" stroke=\"black\" points=\"878.75,-324 646.75,-324 646.75,-288 878.75,-288 878.75,-324\"/>\n",
       "<text text-anchor=\"middle\" x=\"762.75\" y=\"-298.62\" font-family=\"Helvetica,sans-Serif\" font-size=\"20.00\">And(Between, Between)</text>\n",
       "</g>\n",
       "<!-- &#45;2152833925375069597&#45;&gt;&#45;3077025611736813939 -->\n",
       "<g id=\"edge18\" class=\"edge\">\n",
       "<title>&#45;2152833925375069597&#45;&gt;&#45;3077025611736813939</title>\n",
       "<path fill=\"none\" stroke=\"black\" d=\"M729.28,-324.48C711.88,-333.57 690.42,-344.78 671.8,-354.51\"/>\n",
       "<polygon fill=\"black\" stroke=\"black\" points=\"670.38,-351.31 663.13,-359.04 673.62,-357.51 670.38,-351.31\"/>\n",
       "</g>\n",
       "<!-- &#45;7402245233393602809 -->\n",
       "<g id=\"node18\" class=\"node\">\n",
       "<title>&#45;7402245233393602809</title>\n",
       "<polygon fill=\"none\" stroke=\"black\" points=\"922.12,-252 725.38,-252 725.38,-216 922.12,-216 922.12,-252\"/>\n",
       "<text text-anchor=\"middle\" x=\"823.75\" y=\"-226.62\" font-family=\"Helvetica,sans-Serif\" font-size=\"20.00\">Between(Projection)</text>\n",
       "</g>\n",
       "<!-- &#45;7402245233393602809&#45;&gt;&#45;2152833925375069597 -->\n",
       "<g id=\"edge22\" class=\"edge\">\n",
       "<title>&#45;7402245233393602809&#45;&gt;&#45;2152833925375069597</title>\n",
       "<path fill=\"none\" stroke=\"black\" d=\"M808.67,-252.3C801.58,-260.44 792.98,-270.31 785.15,-279.3\"/>\n",
       "<polygon fill=\"black\" stroke=\"black\" points=\"782.58,-276.92 778.65,-286.75 787.86,-281.51 782.58,-276.92\"/>\n",
       "</g>\n",
       "<!-- &#45;1062261523252675126&#45;&gt;&#45;7402245233393602809 -->\n",
       "<g id=\"edge23\" class=\"edge\">\n",
       "<title>&#45;1062261523252675126&#45;&gt;&#45;7402245233393602809</title>\n",
       "<path fill=\"none\" stroke=\"black\" d=\"M870.42,-180.3C863.22,-188.44 854.47,-198.31 846.51,-207.3\"/>\n",
       "<polygon fill=\"black\" stroke=\"black\" points=\"843.91,-204.96 839.9,-214.76 849.15,-209.6 843.91,-204.96\"/>\n",
       "</g>\n",
       "<!-- 4251146246250951282 -->\n",
       "<g id=\"node20\" class=\"node\">\n",
       "<title>4251146246250951282</title>\n",
       "<polygon fill=\"none\" stroke=\"black\" points=\"1206.12,-252 1009.38,-252 1009.38,-216 1206.12,-216 1206.12,-252\"/>\n",
       "<text text-anchor=\"middle\" x=\"1107.75\" y=\"-226.62\" font-family=\"Helvetica,sans-Serif\" font-size=\"20.00\">Between(Projection)</text>\n",
       "</g>\n",
       "<!-- 4251146246250951282&#45;&gt;&#45;2152833925375069597 -->\n",
       "<g id=\"edge21\" class=\"edge\">\n",
       "<title>4251146246250951282&#45;&gt;&#45;2152833925375069597</title>\n",
       "<path fill=\"none\" stroke=\"black\" d=\"M1021.58,-252.48C972.4,-262.46 910.61,-275 859.73,-285.32\"/>\n",
       "<polygon fill=\"black\" stroke=\"black\" points=\"859.3,-281.84 850.2,-287.26 860.7,-288.7 859.3,-281.84\"/>\n",
       "</g>\n",
       "<!-- &#45;5506499474599207043&#45;&gt;4251146246250951282 -->\n",
       "<g id=\"edge25\" class=\"edge\">\n",
       "<title>&#45;5506499474599207043&#45;&gt;4251146246250951282</title>\n",
       "<path fill=\"none\" stroke=\"black\" d=\"M1205.28,-180.48C1188.48,-189.53 1167.77,-200.68 1149.77,-210.38\"/>\n",
       "<polygon fill=\"black\" stroke=\"black\" points=\"1148.28,-207.2 1141.14,-215.02 1151.6,-213.36 1148.28,-207.2\"/>\n",
       "</g>\n",
       "<!-- 6415458761235574486&#45;&gt;1457607910660555502 -->\n",
       "<g id=\"edge8\" class=\"edge\">\n",
       "<title>6415458761235574486&#45;&gt;1457607910660555502</title>\n",
       "<path fill=\"none\" stroke=\"black\" d=\"M1386.96,-324.42C1247.98,-363.61 911.33,-458.53 762.54,-500.48\"/>\n",
       "<polygon fill=\"black\" stroke=\"black\" points=\"761.86,-497.03 753.18,-503.12 763.76,-503.77 761.86,-497.03\"/>\n",
       "</g>\n",
       "<!-- &#45;3248490831740311613 -->\n",
       "<g id=\"node23\" class=\"node\">\n",
       "<title>&#45;3248490831740311613</title>\n",
       "<polygon fill=\"none\" stroke=\"black\" points=\"1041.12,-684 844.38,-684 844.38,-648 1041.12,-648 1041.12,-684\"/>\n",
       "<text text-anchor=\"middle\" x=\"942.75\" y=\"-658.62\" font-family=\"Helvetica,sans-Serif\" font-size=\"20.00\">Between(Projection)</text>\n",
       "</g>\n",
       "<!-- &#45;3248490831740311613&#45;&gt;&#45;5309174929364332880 -->\n",
       "<g id=\"edge4\" class=\"edge\">\n",
       "<title>&#45;3248490831740311613&#45;&gt;&#45;5309174929364332880</title>\n",
       "<path fill=\"none\" stroke=\"black\" d=\"M879.56,-684.48C844.26,-694.25 800.1,-706.47 763.25,-716.66\"/>\n",
       "<polygon fill=\"black\" stroke=\"black\" points=\"762.74,-713.17 754.03,-719.21 764.6,-719.92 762.74,-713.17\"/>\n",
       "</g>\n",
       "<!-- 7710421868621317158&#45;&gt;&#45;3248490831740311613 -->\n",
       "<g id=\"edge28\" class=\"edge\">\n",
       "<title>7710421868621317158&#45;&gt;&#45;3248490831740311613</title>\n",
       "<path fill=\"none\" stroke=\"black\" d=\"M972.11,-612.3C967.81,-620.02 962.65,-629.29 957.86,-637.89\"/>\n",
       "<polygon fill=\"black\" stroke=\"black\" points=\"954.83,-636.13 953.02,-646.57 960.94,-639.54 954.83,-636.13\"/>\n",
       "</g>\n",
       "</g>\n",
       "</svg>\n"
      ],
      "text/plain": [
       "<graphviz.graphs.Digraph at 0x18a1408edc0>"
      ]
     },
     "execution_count": 29,
     "metadata": {},
     "output_type": "execute_result"
    }
   ],
   "source": [
    "pickup_coord_dataset.visualize()"
   ]
  },
  {
   "cell_type": "code",
   "execution_count": 30,
   "id": "2b74cb86",
   "metadata": {},
   "outputs": [
    {
     "name": "stdout",
     "output_type": "stream",
     "text": [
      "Shape of the dataset is  (33234199, 2)\n"
     ]
    }
   ],
   "source": [
    "\n",
    "# form the dataset\n",
    "\n",
    "pickup_coord_dataset = df_final.loc[:,['pickup_latitude','pickup_longitude']].compute()\n",
    "\n",
    "print(\"Shape of the dataset is \", pickup_coord_dataset.shape)"
   ]
  },
  {
   "cell_type": "code",
   "execution_count": 31,
   "id": "f7e85ea3",
   "metadata": {},
   "outputs": [
    {
     "data": {
      "text/html": [
       "<div>\n",
       "<style scoped>\n",
       "    .dataframe tbody tr th:only-of-type {\n",
       "        vertical-align: middle;\n",
       "    }\n",
       "\n",
       "    .dataframe tbody tr th {\n",
       "        vertical-align: top;\n",
       "    }\n",
       "\n",
       "    .dataframe thead th {\n",
       "        text-align: right;\n",
       "    }\n",
       "</style>\n",
       "<table border=\"1\" class=\"dataframe\">\n",
       "  <thead>\n",
       "    <tr style=\"text-align: right;\">\n",
       "      <th></th>\n",
       "      <th>pickup_latitude</th>\n",
       "      <th>pickup_longitude</th>\n",
       "    </tr>\n",
       "  </thead>\n",
       "  <tbody>\n",
       "    <tr>\n",
       "      <th>0</th>\n",
       "      <td>40.734695</td>\n",
       "      <td>-73.990372</td>\n",
       "    </tr>\n",
       "    <tr>\n",
       "      <th>1</th>\n",
       "      <td>40.729912</td>\n",
       "      <td>-73.980782</td>\n",
       "    </tr>\n",
       "    <tr>\n",
       "      <th>2</th>\n",
       "      <td>40.679565</td>\n",
       "      <td>-73.984550</td>\n",
       "    </tr>\n",
       "    <tr>\n",
       "      <th>3</th>\n",
       "      <td>40.718990</td>\n",
       "      <td>-73.993469</td>\n",
       "    </tr>\n",
       "    <tr>\n",
       "      <th>4</th>\n",
       "      <td>40.781330</td>\n",
       "      <td>-73.960625</td>\n",
       "    </tr>\n",
       "    <tr>\n",
       "      <th>...</th>\n",
       "      <td>...</td>\n",
       "      <td>...</td>\n",
       "    </tr>\n",
       "    <tr>\n",
       "      <th>420269</th>\n",
       "      <td>40.644451</td>\n",
       "      <td>-73.790565</td>\n",
       "    </tr>\n",
       "    <tr>\n",
       "      <th>420270</th>\n",
       "      <td>40.641483</td>\n",
       "      <td>-73.788055</td>\n",
       "    </tr>\n",
       "    <tr>\n",
       "      <th>420271</th>\n",
       "      <td>40.646736</td>\n",
       "      <td>-73.789154</td>\n",
       "    </tr>\n",
       "    <tr>\n",
       "      <th>420273</th>\n",
       "      <td>40.774471</td>\n",
       "      <td>-73.977356</td>\n",
       "    </tr>\n",
       "    <tr>\n",
       "      <th>420276</th>\n",
       "      <td>40.645096</td>\n",
       "      <td>-73.798485</td>\n",
       "    </tr>\n",
       "  </tbody>\n",
       "</table>\n",
       "<p>33234199 rows × 2 columns</p>\n",
       "</div>"
      ],
      "text/plain": [
       "        pickup_latitude  pickup_longitude\n",
       "0             40.734695        -73.990372\n",
       "1             40.729912        -73.980782\n",
       "2             40.679565        -73.984550\n",
       "3             40.718990        -73.993469\n",
       "4             40.781330        -73.960625\n",
       "...                 ...               ...\n",
       "420269        40.644451        -73.790565\n",
       "420270        40.641483        -73.788055\n",
       "420271        40.646736        -73.789154\n",
       "420273        40.774471        -73.977356\n",
       "420276        40.645096        -73.798485\n",
       "\n",
       "[33234199 rows x 2 columns]"
      ]
     },
     "execution_count": 31,
     "metadata": {},
     "output_type": "execute_result"
    }
   ],
   "source": [
    "pickup_coord_dataset"
   ]
  },
  {
   "cell_type": "code",
   "execution_count": 32,
   "id": "4e61cffe",
   "metadata": {},
   "outputs": [],
   "source": [
    "# save the dataset\n",
    "\n",
    "pickup_coord_dataset.to_csv(save_path, index=False)"
   ]
  },
  {
   "cell_type": "code",
   "execution_count": null,
   "id": "5e3743f5",
   "metadata": {},
   "outputs": [],
   "source": []
  }
 ],
 "metadata": {
  "kernelspec": {
   "display_name": "Python 3 (ipykernel)",
   "language": "python",
   "name": "python3"
  },
  "language_info": {
   "codemirror_mode": {
    "name": "ipython",
    "version": 3
   },
   "file_extension": ".py",
   "mimetype": "text/x-python",
   "name": "python",
   "nbconvert_exporter": "python",
   "pygments_lexer": "ipython3",
   "version": "3.9.13"
  }
 },
 "nbformat": 4,
 "nbformat_minor": 5
}
