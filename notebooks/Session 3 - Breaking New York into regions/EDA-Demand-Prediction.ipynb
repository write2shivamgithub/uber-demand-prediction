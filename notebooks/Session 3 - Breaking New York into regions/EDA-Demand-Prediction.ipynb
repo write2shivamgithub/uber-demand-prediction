{
 "cells": [
  {
   "cell_type": "markdown",
   "metadata": {},
   "source": [
    "## Load the Packages"
   ]
  },
  {
   "cell_type": "code",
   "execution_count": 16,
   "metadata": {
    "scrolled": true
   },
   "outputs": [],
   "source": [
    "import numpy as np\n",
    "import pandas as pd\n",
    "import dask.dataframe as dd\n",
    "import matplotlib.pyplot as plt\n",
    "import seaborn as sns"
   ]
  },
  {
   "cell_type": "markdown",
   "metadata": {},
   "source": [
    "## Import the Data"
   ]
  },
  {
   "cell_type": "code",
   "execution_count": 17,
   "metadata": {},
   "outputs": [],
   "source": [
    "df_jan_path = r\"D:\\Uber Demand Prediction\\Session 3 - Breaking New York into regions\\yellow_tripdata_2016-01.csv\"\n",
    "df_feb_path = r\"D:\\Uber Demand Prediction\\Session 3 - Breaking New York into regions\\yellow_tripdata_2016-02.csv\"\n",
    "df_mar_path = r\"D:\\Uber Demand Prediction\\Session 3 - Breaking New York into regions\\yellow_tripdata_2016-03.csv\"\n",
    "\n",
    "# load the dataframes\n",
    "\n",
    "df_jan = dd.read_csv(df_jan_path, assume_missing=True)\n",
    "df_feb = dd.read_csv(df_feb_path, assume_missing=True)\n",
    "df_mar = dd.read_csv(df_mar_path, assume_missing=True)"
   ]
  },
  {
   "cell_type": "code",
   "execution_count": 18,
   "metadata": {},
   "outputs": [
    {
     "data": {
      "text/html": [
       "<div><strong>Dask DataFrame Structure:</strong></div>\n",
       "<table border=\"1\" class=\"dataframe\">\n",
       "  <thead>\n",
       "    <tr style=\"text-align: right;\">\n",
       "      <th></th>\n",
       "      <th>VendorID</th>\n",
       "      <th>tpep_pickup_datetime</th>\n",
       "      <th>tpep_dropoff_datetime</th>\n",
       "      <th>passenger_count</th>\n",
       "      <th>trip_distance</th>\n",
       "      <th>pickup_longitude</th>\n",
       "      <th>pickup_latitude</th>\n",
       "      <th>RatecodeID</th>\n",
       "      <th>store_and_fwd_flag</th>\n",
       "      <th>dropoff_longitude</th>\n",
       "      <th>dropoff_latitude</th>\n",
       "      <th>payment_type</th>\n",
       "      <th>fare_amount</th>\n",
       "      <th>extra</th>\n",
       "      <th>mta_tax</th>\n",
       "      <th>tip_amount</th>\n",
       "      <th>tolls_amount</th>\n",
       "      <th>improvement_surcharge</th>\n",
       "      <th>total_amount</th>\n",
       "    </tr>\n",
       "    <tr>\n",
       "      <th>npartitions=26</th>\n",
       "      <th></th>\n",
       "      <th></th>\n",
       "      <th></th>\n",
       "      <th></th>\n",
       "      <th></th>\n",
       "      <th></th>\n",
       "      <th></th>\n",
       "      <th></th>\n",
       "      <th></th>\n",
       "      <th></th>\n",
       "      <th></th>\n",
       "      <th></th>\n",
       "      <th></th>\n",
       "      <th></th>\n",
       "      <th></th>\n",
       "      <th></th>\n",
       "      <th></th>\n",
       "      <th></th>\n",
       "      <th></th>\n",
       "    </tr>\n",
       "  </thead>\n",
       "  <tbody>\n",
       "    <tr>\n",
       "      <th></th>\n",
       "      <td>float64</td>\n",
       "      <td>string</td>\n",
       "      <td>string</td>\n",
       "      <td>float64</td>\n",
       "      <td>float64</td>\n",
       "      <td>float64</td>\n",
       "      <td>float64</td>\n",
       "      <td>float64</td>\n",
       "      <td>string</td>\n",
       "      <td>float64</td>\n",
       "      <td>float64</td>\n",
       "      <td>float64</td>\n",
       "      <td>float64</td>\n",
       "      <td>float64</td>\n",
       "      <td>float64</td>\n",
       "      <td>float64</td>\n",
       "      <td>float64</td>\n",
       "      <td>float64</td>\n",
       "      <td>float64</td>\n",
       "    </tr>\n",
       "    <tr>\n",
       "      <th></th>\n",
       "      <td>...</td>\n",
       "      <td>...</td>\n",
       "      <td>...</td>\n",
       "      <td>...</td>\n",
       "      <td>...</td>\n",
       "      <td>...</td>\n",
       "      <td>...</td>\n",
       "      <td>...</td>\n",
       "      <td>...</td>\n",
       "      <td>...</td>\n",
       "      <td>...</td>\n",
       "      <td>...</td>\n",
       "      <td>...</td>\n",
       "      <td>...</td>\n",
       "      <td>...</td>\n",
       "      <td>...</td>\n",
       "      <td>...</td>\n",
       "      <td>...</td>\n",
       "      <td>...</td>\n",
       "    </tr>\n",
       "    <tr>\n",
       "      <th>...</th>\n",
       "      <td>...</td>\n",
       "      <td>...</td>\n",
       "      <td>...</td>\n",
       "      <td>...</td>\n",
       "      <td>...</td>\n",
       "      <td>...</td>\n",
       "      <td>...</td>\n",
       "      <td>...</td>\n",
       "      <td>...</td>\n",
       "      <td>...</td>\n",
       "      <td>...</td>\n",
       "      <td>...</td>\n",
       "      <td>...</td>\n",
       "      <td>...</td>\n",
       "      <td>...</td>\n",
       "      <td>...</td>\n",
       "      <td>...</td>\n",
       "      <td>...</td>\n",
       "      <td>...</td>\n",
       "    </tr>\n",
       "    <tr>\n",
       "      <th></th>\n",
       "      <td>...</td>\n",
       "      <td>...</td>\n",
       "      <td>...</td>\n",
       "      <td>...</td>\n",
       "      <td>...</td>\n",
       "      <td>...</td>\n",
       "      <td>...</td>\n",
       "      <td>...</td>\n",
       "      <td>...</td>\n",
       "      <td>...</td>\n",
       "      <td>...</td>\n",
       "      <td>...</td>\n",
       "      <td>...</td>\n",
       "      <td>...</td>\n",
       "      <td>...</td>\n",
       "      <td>...</td>\n",
       "      <td>...</td>\n",
       "      <td>...</td>\n",
       "      <td>...</td>\n",
       "    </tr>\n",
       "    <tr>\n",
       "      <th></th>\n",
       "      <td>...</td>\n",
       "      <td>...</td>\n",
       "      <td>...</td>\n",
       "      <td>...</td>\n",
       "      <td>...</td>\n",
       "      <td>...</td>\n",
       "      <td>...</td>\n",
       "      <td>...</td>\n",
       "      <td>...</td>\n",
       "      <td>...</td>\n",
       "      <td>...</td>\n",
       "      <td>...</td>\n",
       "      <td>...</td>\n",
       "      <td>...</td>\n",
       "      <td>...</td>\n",
       "      <td>...</td>\n",
       "      <td>...</td>\n",
       "      <td>...</td>\n",
       "      <td>...</td>\n",
       "    </tr>\n",
       "  </tbody>\n",
       "</table>\n",
       "<div>Dask Name: read_csv, 1 expression</div>"
      ],
      "text/plain": [
       "Dask DataFrame Structure:\n",
       "               VendorID tpep_pickup_datetime tpep_dropoff_datetime passenger_count trip_distance pickup_longitude pickup_latitude RatecodeID store_and_fwd_flag dropoff_longitude dropoff_latitude payment_type fare_amount    extra  mta_tax tip_amount tolls_amount improvement_surcharge total_amount\n",
       "npartitions=26                                                                                                                                                                                                                                                                                          \n",
       "                float64               string                string         float64       float64          float64         float64    float64             string           float64          float64      float64     float64  float64  float64    float64      float64               float64      float64\n",
       "                    ...                  ...                   ...             ...           ...              ...             ...        ...                ...               ...              ...          ...         ...      ...      ...        ...          ...                   ...          ...\n",
       "...                 ...                  ...                   ...             ...           ...              ...             ...        ...                ...               ...              ...          ...         ...      ...      ...        ...          ...                   ...          ...\n",
       "                    ...                  ...                   ...             ...           ...              ...             ...        ...                ...               ...              ...          ...         ...      ...      ...        ...          ...                   ...          ...\n",
       "                    ...                  ...                   ...             ...           ...              ...             ...        ...                ...               ...              ...          ...         ...      ...      ...        ...          ...                   ...          ...\n",
       "Dask Name: read_csv, 1 expression\n",
       "Expr=ReadCSV(2c5f114)"
      ]
     },
     "execution_count": 18,
     "metadata": {},
     "output_type": "execute_result"
    }
   ],
   "source": [
    "# print any one of the dataframe\n",
    "\n",
    "df_jan"
   ]
  },
  {
   "cell_type": "markdown",
   "metadata": {},
   "source": [
    "## About the Features"
   ]
  },
  {
   "cell_type": "markdown",
   "metadata": {},
   "source": [
    "![Alt Text](1.png)\n",
    "![Alt Text](2.png)\n",
    "![Alt Text](3.png)\n",
    "![Alt Text](4.png)\n"
   ]
  },
  {
   "cell_type": "code",
   "execution_count": 19,
   "metadata": {},
   "outputs": [
    {
     "data": {
      "image/png": "[encoded data removed]",
      "text/plain": [
       "<IPython.core.display.Image object>"
      ]
     },
     "execution_count": 19,
     "metadata": {},
     "output_type": "execute_result"
    }
   ],
   "source": [
    "\n",
    "# visualize the chunks using the task graph\n",
    "\n",
    "df_jan.visualize(tasks=True)"
   ]
  },
  {
   "cell_type": "code",
   "execution_count": 20,
   "metadata": {},
   "outputs": [
    {
     "name": "stdout",
     "output_type": "stream",
     "text": [
      "Shape of january dataset (<dask_expr.expr.Scalar: expr=ReadCSV(2c5f114).size() // 19, dtype=int32>, 19)\n",
      "Shape of february dataset (<dask_expr.expr.Scalar: expr=ReadCSV(30486bf).size() // 19, dtype=int32>, 19)\n",
      "Shape of march dataset (<dask_expr.expr.Scalar: expr=ReadCSV(1be068b).size() // 19, dtype=int32>, 19)\n"
     ]
    }
   ],
   "source": [
    "\n",
    "# shape of all the three datasets\n",
    "\n",
    "print(\"Shape of january dataset\", df_jan.shape)\n",
    "print(\"Shape of february dataset\", df_feb.shape)\n",
    "print(\"Shape of march dataset\", df_mar.shape)"
   ]
  },
  {
   "cell_type": "markdown",
   "metadata": {},
   "source": [
    "***We can concat the three dataframes as the number of columns are same in all the three dfs***"
   ]
  },
  {
   "cell_type": "code",
   "execution_count": 21,
   "metadata": {},
   "outputs": [],
   "source": [
    "# concat the three dataframes as on\n",
    "\n",
    "df_final = dd.concat([df_jan, df_feb, df_mar], axis=0).drop(columns=['extra', 'mta_tax', 'tip_amount', 'tolls_amount',\n",
    "       'improvement_surcharge', 'total_amount', 'payment_type'])"
   ]
  },
  {
   "cell_type": "code",
   "execution_count": 22,
   "metadata": {},
   "outputs": [
    {
     "data": {
      "text/html": [
       "<div><strong>Dask DataFrame Structure:</strong></div>\n",
       "<table border=\"1\" class=\"dataframe\">\n",
       "  <thead>\n",
       "    <tr style=\"text-align: right;\">\n",
       "      <th></th>\n",
       "      <th>VendorID</th>\n",
       "      <th>tpep_pickup_datetime</th>\n",
       "      <th>tpep_dropoff_datetime</th>\n",
       "      <th>passenger_count</th>\n",
       "      <th>trip_distance</th>\n",
       "      <th>pickup_longitude</th>\n",
       "      <th>pickup_latitude</th>\n",
       "      <th>RatecodeID</th>\n",
       "      <th>store_and_fwd_flag</th>\n",
       "      <th>dropoff_longitude</th>\n",
       "      <th>dropoff_latitude</th>\n",
       "      <th>fare_amount</th>\n",
       "    </tr>\n",
       "    <tr>\n",
       "      <th>npartitions=82</th>\n",
       "      <th></th>\n",
       "      <th></th>\n",
       "      <th></th>\n",
       "      <th></th>\n",
       "      <th></th>\n",
       "      <th></th>\n",
       "      <th></th>\n",
       "      <th></th>\n",
       "      <th></th>\n",
       "      <th></th>\n",
       "      <th></th>\n",
       "      <th></th>\n",
       "    </tr>\n",
       "  </thead>\n",
       "  <tbody>\n",
       "    <tr>\n",
       "      <th></th>\n",
       "      <td>float64</td>\n",
       "      <td>string</td>\n",
       "      <td>string</td>\n",
       "      <td>float64</td>\n",
       "      <td>float64</td>\n",
       "      <td>float64</td>\n",
       "      <td>float64</td>\n",
       "      <td>float64</td>\n",
       "      <td>string</td>\n",
       "      <td>float64</td>\n",
       "      <td>float64</td>\n",
       "      <td>float64</td>\n",
       "    </tr>\n",
       "    <tr>\n",
       "      <th></th>\n",
       "      <td>...</td>\n",
       "      <td>...</td>\n",
       "      <td>...</td>\n",
       "      <td>...</td>\n",
       "      <td>...</td>\n",
       "      <td>...</td>\n",
       "      <td>...</td>\n",
       "      <td>...</td>\n",
       "      <td>...</td>\n",
       "      <td>...</td>\n",
       "      <td>...</td>\n",
       "      <td>...</td>\n",
       "    </tr>\n",
       "    <tr>\n",
       "      <th>...</th>\n",
       "      <td>...</td>\n",
       "      <td>...</td>\n",
       "      <td>...</td>\n",
       "      <td>...</td>\n",
       "      <td>...</td>\n",
       "      <td>...</td>\n",
       "      <td>...</td>\n",
       "      <td>...</td>\n",
       "      <td>...</td>\n",
       "      <td>...</td>\n",
       "      <td>...</td>\n",
       "      <td>...</td>\n",
       "    </tr>\n",
       "    <tr>\n",
       "      <th></th>\n",
       "      <td>...</td>\n",
       "      <td>...</td>\n",
       "      <td>...</td>\n",
       "      <td>...</td>\n",
       "      <td>...</td>\n",
       "      <td>...</td>\n",
       "      <td>...</td>\n",
       "      <td>...</td>\n",
       "      <td>...</td>\n",
       "      <td>...</td>\n",
       "      <td>...</td>\n",
       "      <td>...</td>\n",
       "    </tr>\n",
       "    <tr>\n",
       "      <th></th>\n",
       "      <td>...</td>\n",
       "      <td>...</td>\n",
       "      <td>...</td>\n",
       "      <td>...</td>\n",
       "      <td>...</td>\n",
       "      <td>...</td>\n",
       "      <td>...</td>\n",
       "      <td>...</td>\n",
       "      <td>...</td>\n",
       "      <td>...</td>\n",
       "      <td>...</td>\n",
       "      <td>...</td>\n",
       "    </tr>\n",
       "  </tbody>\n",
       "</table>\n",
       "<div>Dask Name: drop_by_shallow_copy, 5 expressions</div>"
      ],
      "text/plain": [
       "Dask DataFrame Structure:\n",
       "               VendorID tpep_pickup_datetime tpep_dropoff_datetime passenger_count trip_distance pickup_longitude pickup_latitude RatecodeID store_and_fwd_flag dropoff_longitude dropoff_latitude fare_amount\n",
       "npartitions=82                                                                                                                                                                                                \n",
       "                float64               string                string         float64       float64          float64         float64    float64             string           float64          float64     float64\n",
       "                    ...                  ...                   ...             ...           ...              ...             ...        ...                ...               ...              ...         ...\n",
       "...                 ...                  ...                   ...             ...           ...              ...             ...        ...                ...               ...              ...         ...\n",
       "                    ...                  ...                   ...             ...           ...              ...             ...        ...                ...               ...              ...         ...\n",
       "                    ...                  ...                   ...             ...           ...              ...             ...        ...                ...               ...              ...         ...\n",
       "Dask Name: drop_by_shallow_copy, 5 expressions\n",
       "Expr=Drop(frame=Concat(frames=[ReadCSV(2c5f114), ReadCSV(30486bf), ReadCSV(1be068b)], ), columns=['extra', 'mta_tax', 'tip_amount', 'tolls_amount', 'improvement_surcharge', 'total_amount', 'payment_type'])"
      ]
     },
     "execution_count": 22,
     "metadata": {},
     "output_type": "execute_result"
    }
   ],
   "source": [
    "df_final"
   ]
  },
  {
   "cell_type": "code",
   "execution_count": 23,
   "metadata": {},
   "outputs": [
    {
     "data": {
      "image/svg+xml": [
       "<?xml version=\"1.0\" encoding=\"UTF-8\" standalone=\"no\"?>\n",
       "<!DOCTYPE svg PUBLIC \"-//W3C//DTD SVG 1.1//EN\"\n",
       " \"http://www.w3.org/Graphics/SVG/1.1/DTD/svg11.dtd\">\n",
       "<!-- Generated by graphviz version 12.2.0 (20241103.1931)\n",
       " -->\n",
       "<!-- Pages: 1 -->\n",
       "<svg width=\"385pt\" height=\"188pt\"\n",
       " viewBox=\"0.00 0.00 384.75 188.00\" xmlns=\"http://www.w3.org/2000/svg\" xmlns:xlink=\"http://www.w3.org/1999/xlink\">\n",
       "<g id=\"graph0\" class=\"graph\" transform=\"scale(1 1) rotate(0) translate(4 184)\">\n",
       "<polygon fill=\"white\" stroke=\"none\" points=\"-4,4 -4,-184 380.75,-184 380.75,4 -4,4\"/>\n",
       "<!-- &#45;1691395723090275739 -->\n",
       "<g id=\"node1\" class=\"node\">\n",
       "<title>&#45;1691395723090275739</title>\n",
       "<polygon fill=\"none\" stroke=\"black\" points=\"256.38,-180 120.38,-180 120.38,-144 256.38,-144 256.38,-180\"/>\n",
       "<text text-anchor=\"middle\" x=\"188.38\" y=\"-154.62\" font-family=\"Helvetica,sans-Serif\" font-size=\"20.00\">Drop(Concat)</text>\n",
       "</g>\n",
       "<!-- 3804209921409691975 -->\n",
       "<g id=\"node2\" class=\"node\">\n",
       "<title>3804209921409691975</title>\n",
       "<polygon fill=\"none\" stroke=\"black\" points=\"376.75,-108 0,-108 0,-72 376.75,-72 376.75,-108\"/>\n",
       "<text text-anchor=\"middle\" x=\"188.38\" y=\"-82.62\" font-family=\"Helvetica,sans-Serif\" font-size=\"20.00\">Concat(ReadCSV, ReadCSV, ReadCSV)</text>\n",
       "</g>\n",
       "<!-- 3804209921409691975&#45;&gt;&#45;1691395723090275739 -->\n",
       "<g id=\"edge1\" class=\"edge\">\n",
       "<title>3804209921409691975&#45;&gt;&#45;1691395723090275739</title>\n",
       "<path fill=\"none\" stroke=\"black\" d=\"M188.38,-108.3C188.38,-115.59 188.38,-124.27 188.38,-132.46\"/>\n",
       "<polygon fill=\"black\" stroke=\"black\" points=\"184.88,-132.38 188.38,-142.38 191.88,-132.38 184.88,-132.38\"/>\n",
       "</g>\n",
       "<!-- 6702944141527475460 -->\n",
       "<g id=\"node3\" class=\"node\">\n",
       "<title>6702944141527475460</title>\n",
       "<polygon fill=\"none\" stroke=\"black\" points=\"118,-36 12.75,-36 12.75,0 118,0 118,-36\"/>\n",
       "<text text-anchor=\"middle\" x=\"65.38\" y=\"-10.62\" font-family=\"Helvetica,sans-Serif\" font-size=\"20.00\">ReadCSV</text>\n",
       "</g>\n",
       "<!-- 6702944141527475460&#45;&gt;3804209921409691975 -->\n",
       "<g id=\"edge2\" class=\"edge\">\n",
       "<title>6702944141527475460&#45;&gt;3804209921409691975</title>\n",
       "<path fill=\"none\" stroke=\"black\" d=\"M96.1,-36.48C111.92,-45.49 131.4,-56.58 148.38,-66.24\"/>\n",
       "<polygon fill=\"black\" stroke=\"black\" points=\"146.31,-69.09 156.73,-70.99 149.77,-63 146.31,-69.09\"/>\n",
       "</g>\n",
       "<!-- 1885853736912961580 -->\n",
       "<g id=\"node4\" class=\"node\">\n",
       "<title>1885853736912961580</title>\n",
       "<polygon fill=\"none\" stroke=\"black\" points=\"241,-36 135.75,-36 135.75,0 241,0 241,-36\"/>\n",
       "<text text-anchor=\"middle\" x=\"188.38\" y=\"-10.62\" font-family=\"Helvetica,sans-Serif\" font-size=\"20.00\">ReadCSV</text>\n",
       "</g>\n",
       "<!-- 1885853736912961580&#45;&gt;3804209921409691975 -->\n",
       "<g id=\"edge3\" class=\"edge\">\n",
       "<title>1885853736912961580&#45;&gt;3804209921409691975</title>\n",
       "<path fill=\"none\" stroke=\"black\" d=\"M188.38,-36.3C188.38,-43.59 188.38,-52.27 188.38,-60.46\"/>\n",
       "<polygon fill=\"black\" stroke=\"black\" points=\"184.88,-60.38 188.38,-70.38 191.88,-60.38 184.88,-60.38\"/>\n",
       "</g>\n",
       "<!-- 1672281872306673605 -->\n",
       "<g id=\"node5\" class=\"node\">\n",
       "<title>1672281872306673605</title>\n",
       "<polygon fill=\"none\" stroke=\"black\" points=\"364,-36 258.75,-36 258.75,0 364,0 364,-36\"/>\n",
       "<text text-anchor=\"middle\" x=\"311.38\" y=\"-10.62\" font-family=\"Helvetica,sans-Serif\" font-size=\"20.00\">ReadCSV</text>\n",
       "</g>\n",
       "<!-- 1672281872306673605&#45;&gt;3804209921409691975 -->\n",
       "<g id=\"edge4\" class=\"edge\">\n",
       "<title>1672281872306673605&#45;&gt;3804209921409691975</title>\n",
       "<path fill=\"none\" stroke=\"black\" d=\"M280.65,-36.48C264.83,-45.49 245.35,-56.58 228.37,-66.24\"/>\n",
       "<polygon fill=\"black\" stroke=\"black\" points=\"226.98,-63 220.02,-70.99 230.44,-69.09 226.98,-63\"/>\n",
       "</g>\n",
       "</g>\n",
       "</svg>\n"
      ],
      "text/plain": [
       "<graphviz.graphs.Digraph at 0x1588f125f70>"
      ]
     },
     "execution_count": 23,
     "metadata": {},
     "output_type": "execute_result"
    }
   ],
   "source": [
    "# visulaize the concatenation\n",
    "\n",
    "df_final.visualize()"
   ]
  },
  {
   "cell_type": "code",
   "execution_count": 24,
   "metadata": {},
   "outputs": [
    {
     "data": {
      "text/plain": [
       "Index(['VendorID', 'tpep_pickup_datetime', 'tpep_dropoff_datetime',\n",
       "       'passenger_count', 'trip_distance', 'pickup_longitude',\n",
       "       'pickup_latitude', 'RatecodeID', 'store_and_fwd_flag',\n",
       "       'dropoff_longitude', 'dropoff_latitude', 'fare_amount'],\n",
       "      dtype='object')"
      ]
     },
     "execution_count": 24,
     "metadata": {},
     "output_type": "execute_result"
    }
   ],
   "source": [
    "\n",
    "# columns in the final dataset\n",
    "\n",
    "df_final.columns"
   ]
  },
  {
   "cell_type": "code",
   "execution_count": 25,
   "metadata": {},
   "outputs": [
    {
     "data": {
      "text/html": [
       "<div>\n",
       "<style scoped>\n",
       "    .dataframe tbody tr th:only-of-type {\n",
       "        vertical-align: middle;\n",
       "    }\n",
       "\n",
       "    .dataframe tbody tr th {\n",
       "        vertical-align: top;\n",
       "    }\n",
       "\n",
       "    .dataframe thead th {\n",
       "        text-align: right;\n",
       "    }\n",
       "</style>\n",
       "<table border=\"1\" class=\"dataframe\">\n",
       "  <thead>\n",
       "    <tr style=\"text-align: right;\">\n",
       "      <th></th>\n",
       "      <th>VendorID</th>\n",
       "      <th>tpep_pickup_datetime</th>\n",
       "      <th>tpep_dropoff_datetime</th>\n",
       "      <th>passenger_count</th>\n",
       "      <th>trip_distance</th>\n",
       "      <th>pickup_longitude</th>\n",
       "      <th>pickup_latitude</th>\n",
       "      <th>RatecodeID</th>\n",
       "      <th>store_and_fwd_flag</th>\n",
       "      <th>dropoff_longitude</th>\n",
       "      <th>dropoff_latitude</th>\n",
       "      <th>fare_amount</th>\n",
       "    </tr>\n",
       "  </thead>\n",
       "  <tbody>\n",
       "    <tr>\n",
       "      <th>0</th>\n",
       "      <td>2.0</td>\n",
       "      <td>2016-01-01 00:00:00</td>\n",
       "      <td>2016-01-01 00:00:00</td>\n",
       "      <td>2.0</td>\n",
       "      <td>1.10</td>\n",
       "      <td>-73.990372</td>\n",
       "      <td>40.734695</td>\n",
       "      <td>1.0</td>\n",
       "      <td>N</td>\n",
       "      <td>-73.981842</td>\n",
       "      <td>40.732407</td>\n",
       "      <td>7.5</td>\n",
       "    </tr>\n",
       "    <tr>\n",
       "      <th>1</th>\n",
       "      <td>2.0</td>\n",
       "      <td>2016-01-01 00:00:00</td>\n",
       "      <td>2016-01-01 00:00:00</td>\n",
       "      <td>5.0</td>\n",
       "      <td>4.90</td>\n",
       "      <td>-73.980782</td>\n",
       "      <td>40.729912</td>\n",
       "      <td>1.0</td>\n",
       "      <td>N</td>\n",
       "      <td>-73.944473</td>\n",
       "      <td>40.716679</td>\n",
       "      <td>18.0</td>\n",
       "    </tr>\n",
       "    <tr>\n",
       "      <th>2</th>\n",
       "      <td>2.0</td>\n",
       "      <td>2016-01-01 00:00:00</td>\n",
       "      <td>2016-01-01 00:00:00</td>\n",
       "      <td>1.0</td>\n",
       "      <td>10.54</td>\n",
       "      <td>-73.984550</td>\n",
       "      <td>40.679565</td>\n",
       "      <td>1.0</td>\n",
       "      <td>N</td>\n",
       "      <td>-73.950272</td>\n",
       "      <td>40.788925</td>\n",
       "      <td>33.0</td>\n",
       "    </tr>\n",
       "    <tr>\n",
       "      <th>3</th>\n",
       "      <td>2.0</td>\n",
       "      <td>2016-01-01 00:00:00</td>\n",
       "      <td>2016-01-01 00:00:00</td>\n",
       "      <td>1.0</td>\n",
       "      <td>4.75</td>\n",
       "      <td>-73.993469</td>\n",
       "      <td>40.718990</td>\n",
       "      <td>1.0</td>\n",
       "      <td>N</td>\n",
       "      <td>-73.962242</td>\n",
       "      <td>40.657333</td>\n",
       "      <td>16.5</td>\n",
       "    </tr>\n",
       "    <tr>\n",
       "      <th>4</th>\n",
       "      <td>2.0</td>\n",
       "      <td>2016-01-01 00:00:00</td>\n",
       "      <td>2016-01-01 00:00:00</td>\n",
       "      <td>3.0</td>\n",
       "      <td>1.76</td>\n",
       "      <td>-73.960625</td>\n",
       "      <td>40.781330</td>\n",
       "      <td>1.0</td>\n",
       "      <td>N</td>\n",
       "      <td>-73.977264</td>\n",
       "      <td>40.758514</td>\n",
       "      <td>8.0</td>\n",
       "    </tr>\n",
       "    <tr>\n",
       "      <th>5</th>\n",
       "      <td>2.0</td>\n",
       "      <td>2016-01-01 00:00:00</td>\n",
       "      <td>2016-01-01 00:18:30</td>\n",
       "      <td>2.0</td>\n",
       "      <td>5.52</td>\n",
       "      <td>-73.980118</td>\n",
       "      <td>40.743050</td>\n",
       "      <td>1.0</td>\n",
       "      <td>N</td>\n",
       "      <td>-73.913490</td>\n",
       "      <td>40.763142</td>\n",
       "      <td>19.0</td>\n",
       "    </tr>\n",
       "    <tr>\n",
       "      <th>6</th>\n",
       "      <td>2.0</td>\n",
       "      <td>2016-01-01 00:00:00</td>\n",
       "      <td>2016-01-01 00:26:45</td>\n",
       "      <td>2.0</td>\n",
       "      <td>7.45</td>\n",
       "      <td>-73.994057</td>\n",
       "      <td>40.719990</td>\n",
       "      <td>1.0</td>\n",
       "      <td>N</td>\n",
       "      <td>-73.966362</td>\n",
       "      <td>40.789871</td>\n",
       "      <td>26.0</td>\n",
       "    </tr>\n",
       "    <tr>\n",
       "      <th>7</th>\n",
       "      <td>1.0</td>\n",
       "      <td>2016-01-01 00:00:01</td>\n",
       "      <td>2016-01-01 00:11:55</td>\n",
       "      <td>1.0</td>\n",
       "      <td>1.20</td>\n",
       "      <td>-73.979424</td>\n",
       "      <td>40.744614</td>\n",
       "      <td>1.0</td>\n",
       "      <td>N</td>\n",
       "      <td>-73.992035</td>\n",
       "      <td>40.753944</td>\n",
       "      <td>9.0</td>\n",
       "    </tr>\n",
       "    <tr>\n",
       "      <th>8</th>\n",
       "      <td>1.0</td>\n",
       "      <td>2016-01-01 00:00:02</td>\n",
       "      <td>2016-01-01 00:11:14</td>\n",
       "      <td>1.0</td>\n",
       "      <td>6.00</td>\n",
       "      <td>-73.947151</td>\n",
       "      <td>40.791046</td>\n",
       "      <td>1.0</td>\n",
       "      <td>N</td>\n",
       "      <td>-73.920769</td>\n",
       "      <td>40.865578</td>\n",
       "      <td>18.0</td>\n",
       "    </tr>\n",
       "    <tr>\n",
       "      <th>9</th>\n",
       "      <td>2.0</td>\n",
       "      <td>2016-01-01 00:00:02</td>\n",
       "      <td>2016-01-01 00:11:08</td>\n",
       "      <td>1.0</td>\n",
       "      <td>3.21</td>\n",
       "      <td>-73.998344</td>\n",
       "      <td>40.723896</td>\n",
       "      <td>1.0</td>\n",
       "      <td>N</td>\n",
       "      <td>-73.995850</td>\n",
       "      <td>40.688400</td>\n",
       "      <td>11.5</td>\n",
       "    </tr>\n",
       "  </tbody>\n",
       "</table>\n",
       "</div>"
      ],
      "text/plain": [
       "   VendorID tpep_pickup_datetime tpep_dropoff_datetime  passenger_count  \\\n",
       "0       2.0  2016-01-01 00:00:00   2016-01-01 00:00:00              2.0   \n",
       "1       2.0  2016-01-01 00:00:00   2016-01-01 00:00:00              5.0   \n",
       "2       2.0  2016-01-01 00:00:00   2016-01-01 00:00:00              1.0   \n",
       "3       2.0  2016-01-01 00:00:00   2016-01-01 00:00:00              1.0   \n",
       "4       2.0  2016-01-01 00:00:00   2016-01-01 00:00:00              3.0   \n",
       "5       2.0  2016-01-01 00:00:00   2016-01-01 00:18:30              2.0   \n",
       "6       2.0  2016-01-01 00:00:00   2016-01-01 00:26:45              2.0   \n",
       "7       1.0  2016-01-01 00:00:01   2016-01-01 00:11:55              1.0   \n",
       "8       1.0  2016-01-01 00:00:02   2016-01-01 00:11:14              1.0   \n",
       "9       2.0  2016-01-01 00:00:02   2016-01-01 00:11:08              1.0   \n",
       "\n",
       "   trip_distance  pickup_longitude  pickup_latitude  RatecodeID  \\\n",
       "0           1.10        -73.990372        40.734695         1.0   \n",
       "1           4.90        -73.980782        40.729912         1.0   \n",
       "2          10.54        -73.984550        40.679565         1.0   \n",
       "3           4.75        -73.993469        40.718990         1.0   \n",
       "4           1.76        -73.960625        40.781330         1.0   \n",
       "5           5.52        -73.980118        40.743050         1.0   \n",
       "6           7.45        -73.994057        40.719990         1.0   \n",
       "7           1.20        -73.979424        40.744614         1.0   \n",
       "8           6.00        -73.947151        40.791046         1.0   \n",
       "9           3.21        -73.998344        40.723896         1.0   \n",
       "\n",
       "  store_and_fwd_flag  dropoff_longitude  dropoff_latitude  fare_amount  \n",
       "0                  N         -73.981842         40.732407          7.5  \n",
       "1                  N         -73.944473         40.716679         18.0  \n",
       "2                  N         -73.950272         40.788925         33.0  \n",
       "3                  N         -73.962242         40.657333         16.5  \n",
       "4                  N         -73.977264         40.758514          8.0  \n",
       "5                  N         -73.913490         40.763142         19.0  \n",
       "6                  N         -73.966362         40.789871         26.0  \n",
       "7                  N         -73.992035         40.753944          9.0  \n",
       "8                  N         -73.920769         40.865578         18.0  \n",
       "9                  N         -73.995850         40.688400         11.5  "
      ]
     },
     "execution_count": 25,
     "metadata": {},
     "output_type": "execute_result"
    }
   ],
   "source": [
    "# print top ten rows\n",
    "\n",
    "df_final.head(10)"
   ]
  },
  {
   "cell_type": "code",
   "execution_count": 26,
   "metadata": {},
   "outputs": [
    {
     "data": {
      "image/svg+xml": [
       "<?xml version=\"1.0\" encoding=\"UTF-8\" standalone=\"no\"?>\n",
       "<!DOCTYPE svg PUBLIC \"-//W3C//DTD SVG 1.1//EN\"\n",
       " \"http://www.w3.org/Graphics/SVG/1.1/DTD/svg11.dtd\">\n",
       "<!-- Generated by graphviz version 12.2.0 (20241103.1931)\n",
       " -->\n",
       "<!-- Pages: 1 -->\n",
       "<svg width=\"385pt\" height=\"332pt\"\n",
       " viewBox=\"0.00 0.00 384.75 332.00\" xmlns=\"http://www.w3.org/2000/svg\" xmlns:xlink=\"http://www.w3.org/1999/xlink\">\n",
       "<g id=\"graph0\" class=\"graph\" transform=\"scale(1 1) rotate(0) translate(4 328)\">\n",
       "<polygon fill=\"white\" stroke=\"none\" points=\"-4,4 -4,-328 380.75,-328 380.75,4 -4,4\"/>\n",
       "<!-- &#45;8191668516801870161 -->\n",
       "<g id=\"node1\" class=\"node\">\n",
       "<title>&#45;8191668516801870161</title>\n",
       "<polygon fill=\"none\" stroke=\"black\" points=\"244,-324 132.75,-324 132.75,-288 244,-288 244,-324\"/>\n",
       "<text text-anchor=\"middle\" x=\"188.38\" y=\"-298.62\" font-family=\"Helvetica,sans-Serif\" font-size=\"20.00\">Sum(IsNa)</text>\n",
       "</g>\n",
       "<!-- 7580725295769711897 -->\n",
       "<g id=\"node2\" class=\"node\">\n",
       "<title>7580725295769711897</title>\n",
       "<polygon fill=\"none\" stroke=\"black\" points=\"245.12,-252 131.62,-252 131.62,-216 245.12,-216 245.12,-252\"/>\n",
       "<text text-anchor=\"middle\" x=\"188.38\" y=\"-226.62\" font-family=\"Helvetica,sans-Serif\" font-size=\"20.00\">IsNa(Drop)</text>\n",
       "</g>\n",
       "<!-- 7580725295769711897&#45;&gt;&#45;8191668516801870161 -->\n",
       "<g id=\"edge1\" class=\"edge\">\n",
       "<title>7580725295769711897&#45;&gt;&#45;8191668516801870161</title>\n",
       "<path fill=\"none\" stroke=\"black\" d=\"M188.38,-252.3C188.38,-259.59 188.38,-268.27 188.38,-276.46\"/>\n",
       "<polygon fill=\"black\" stroke=\"black\" points=\"184.88,-276.38 188.38,-286.38 191.88,-276.38 184.88,-276.38\"/>\n",
       "</g>\n",
       "<!-- &#45;1691395723090275739 -->\n",
       "<g id=\"node3\" class=\"node\">\n",
       "<title>&#45;1691395723090275739</title>\n",
       "<polygon fill=\"none\" stroke=\"black\" points=\"256.38,-180 120.38,-180 120.38,-144 256.38,-144 256.38,-180\"/>\n",
       "<text text-anchor=\"middle\" x=\"188.38\" y=\"-154.62\" font-family=\"Helvetica,sans-Serif\" font-size=\"20.00\">Drop(Concat)</text>\n",
       "</g>\n",
       "<!-- &#45;1691395723090275739&#45;&gt;7580725295769711897 -->\n",
       "<g id=\"edge2\" class=\"edge\">\n",
       "<title>&#45;1691395723090275739&#45;&gt;7580725295769711897</title>\n",
       "<path fill=\"none\" stroke=\"black\" d=\"M188.38,-180.3C188.38,-187.59 188.38,-196.27 188.38,-204.46\"/>\n",
       "<polygon fill=\"black\" stroke=\"black\" points=\"184.88,-204.38 188.38,-214.38 191.88,-204.38 184.88,-204.38\"/>\n",
       "</g>\n",
       "<!-- 3804209921409691975 -->\n",
       "<g id=\"node4\" class=\"node\">\n",
       "<title>3804209921409691975</title>\n",
       "<polygon fill=\"none\" stroke=\"black\" points=\"376.75,-108 0,-108 0,-72 376.75,-72 376.75,-108\"/>\n",
       "<text text-anchor=\"middle\" x=\"188.38\" y=\"-82.62\" font-family=\"Helvetica,sans-Serif\" font-size=\"20.00\">Concat(ReadCSV, ReadCSV, ReadCSV)</text>\n",
       "</g>\n",
       "<!-- 3804209921409691975&#45;&gt;&#45;1691395723090275739 -->\n",
       "<g id=\"edge3\" class=\"edge\">\n",
       "<title>3804209921409691975&#45;&gt;&#45;1691395723090275739</title>\n",
       "<path fill=\"none\" stroke=\"black\" d=\"M188.38,-108.3C188.38,-115.59 188.38,-124.27 188.38,-132.46\"/>\n",
       "<polygon fill=\"black\" stroke=\"black\" points=\"184.88,-132.38 188.38,-142.38 191.88,-132.38 184.88,-132.38\"/>\n",
       "</g>\n",
       "<!-- 6702944141527475460 -->\n",
       "<g id=\"node5\" class=\"node\">\n",
       "<title>6702944141527475460</title>\n",
       "<polygon fill=\"none\" stroke=\"black\" points=\"118,-36 12.75,-36 12.75,0 118,0 118,-36\"/>\n",
       "<text text-anchor=\"middle\" x=\"65.38\" y=\"-10.62\" font-family=\"Helvetica,sans-Serif\" font-size=\"20.00\">ReadCSV</text>\n",
       "</g>\n",
       "<!-- 6702944141527475460&#45;&gt;3804209921409691975 -->\n",
       "<g id=\"edge4\" class=\"edge\">\n",
       "<title>6702944141527475460&#45;&gt;3804209921409691975</title>\n",
       "<path fill=\"none\" stroke=\"black\" d=\"M96.1,-36.48C111.92,-45.49 131.4,-56.58 148.38,-66.24\"/>\n",
       "<polygon fill=\"black\" stroke=\"black\" points=\"146.31,-69.09 156.73,-70.99 149.77,-63 146.31,-69.09\"/>\n",
       "</g>\n",
       "<!-- 1885853736912961580 -->\n",
       "<g id=\"node6\" class=\"node\">\n",
       "<title>1885853736912961580</title>\n",
       "<polygon fill=\"none\" stroke=\"black\" points=\"241,-36 135.75,-36 135.75,0 241,0 241,-36\"/>\n",
       "<text text-anchor=\"middle\" x=\"188.38\" y=\"-10.62\" font-family=\"Helvetica,sans-Serif\" font-size=\"20.00\">ReadCSV</text>\n",
       "</g>\n",
       "<!-- 1885853736912961580&#45;&gt;3804209921409691975 -->\n",
       "<g id=\"edge5\" class=\"edge\">\n",
       "<title>1885853736912961580&#45;&gt;3804209921409691975</title>\n",
       "<path fill=\"none\" stroke=\"black\" d=\"M188.38,-36.3C188.38,-43.59 188.38,-52.27 188.38,-60.46\"/>\n",
       "<polygon fill=\"black\" stroke=\"black\" points=\"184.88,-60.38 188.38,-70.38 191.88,-60.38 184.88,-60.38\"/>\n",
       "</g>\n",
       "<!-- 1672281872306673605 -->\n",
       "<g id=\"node7\" class=\"node\">\n",
       "<title>1672281872306673605</title>\n",
       "<polygon fill=\"none\" stroke=\"black\" points=\"364,-36 258.75,-36 258.75,0 364,0 364,-36\"/>\n",
       "<text text-anchor=\"middle\" x=\"311.38\" y=\"-10.62\" font-family=\"Helvetica,sans-Serif\" font-size=\"20.00\">ReadCSV</text>\n",
       "</g>\n",
       "<!-- 1672281872306673605&#45;&gt;3804209921409691975 -->\n",
       "<g id=\"edge6\" class=\"edge\">\n",
       "<title>1672281872306673605&#45;&gt;3804209921409691975</title>\n",
       "<path fill=\"none\" stroke=\"black\" d=\"M280.65,-36.48C264.83,-45.49 245.35,-56.58 228.37,-66.24\"/>\n",
       "<polygon fill=\"black\" stroke=\"black\" points=\"226.98,-63 220.02,-70.99 230.44,-69.09 226.98,-63\"/>\n",
       "</g>\n",
       "</g>\n",
       "</svg>\n"
      ],
      "text/plain": [
       "<graphviz.graphs.Digraph at 0x15873d84310>"
      ]
     },
     "execution_count": 26,
     "metadata": {},
     "output_type": "execute_result"
    }
   ],
   "source": [
    "df_final.isna().sum().visualize()"
   ]
  },
  {
   "cell_type": "code",
   "execution_count": 27,
   "metadata": {},
   "outputs": [
    {
     "data": {
      "text/plain": [
       "VendorID                 0\n",
       "tpep_pickup_datetime     0\n",
       "tpep_dropoff_datetime    0\n",
       "passenger_count          0\n",
       "trip_distance            0\n",
       "pickup_longitude         0\n",
       "pickup_latitude          0\n",
       "RatecodeID               0\n",
       "store_and_fwd_flag       0\n",
       "dropoff_longitude        0\n",
       "dropoff_latitude         0\n",
       "fare_amount              0\n",
       "dtype: int64"
      ]
     },
     "execution_count": 27,
     "metadata": {},
     "output_type": "execute_result"
    }
   ],
   "source": [
    "# check for missing values in the data\n",
    "\n",
    "df_final.isna().sum().compute()"
   ]
  },
  {
   "cell_type": "markdown",
   "metadata": {},
   "source": [
    "**There are no missing values in the data**"
   ]
  },
  {
   "cell_type": "code",
   "execution_count": 28,
   "metadata": {},
   "outputs": [
    {
     "data": {
      "text/plain": [
       "VendorID                         float64\n",
       "tpep_pickup_datetime     string[pyarrow]\n",
       "tpep_dropoff_datetime    string[pyarrow]\n",
       "passenger_count                  float64\n",
       "trip_distance                    float64\n",
       "pickup_longitude                 float64\n",
       "pickup_latitude                  float64\n",
       "RatecodeID                       float64\n",
       "store_and_fwd_flag       string[pyarrow]\n",
       "dropoff_longitude                float64\n",
       "dropoff_latitude                 float64\n",
       "fare_amount                      float64\n",
       "dtype: object"
      ]
     },
     "execution_count": 28,
     "metadata": {},
     "output_type": "execute_result"
    }
   ],
   "source": [
    "\n",
    "# datatypes\n",
    "\n",
    "df_final.dtypes"
   ]
  },
  {
   "cell_type": "markdown",
   "metadata": {},
   "source": [
    "### Analysis"
   ]
  },
  {
   "cell_type": "code",
   "execution_count": 30,
   "metadata": {},
   "outputs": [],
   "source": [
    "sns.set_style('whitegrid')"
   ]
  },
  {
   "cell_type": "code",
   "execution_count": 31,
   "metadata": {},
   "outputs": [
    {
     "data": {
      "text/html": [
       "<div>\n",
       "<style scoped>\n",
       "    .dataframe tbody tr th:only-of-type {\n",
       "        vertical-align: middle;\n",
       "    }\n",
       "\n",
       "    .dataframe tbody tr th {\n",
       "        vertical-align: top;\n",
       "    }\n",
       "\n",
       "    .dataframe thead th {\n",
       "        text-align: right;\n",
       "    }\n",
       "</style>\n",
       "<table border=\"1\" class=\"dataframe\">\n",
       "  <thead>\n",
       "    <tr style=\"text-align: right;\">\n",
       "      <th></th>\n",
       "      <th>VendorID</th>\n",
       "      <th>passenger_count</th>\n",
       "      <th>trip_distance</th>\n",
       "      <th>pickup_longitude</th>\n",
       "      <th>pickup_latitude</th>\n",
       "      <th>RatecodeID</th>\n",
       "      <th>dropoff_longitude</th>\n",
       "      <th>dropoff_latitude</th>\n",
       "      <th>fare_amount</th>\n",
       "    </tr>\n",
       "  </thead>\n",
       "  <tbody>\n",
       "    <tr>\n",
       "      <th>count</th>\n",
       "      <td>3.449986e+07</td>\n",
       "      <td>3.449986e+07</td>\n",
       "      <td>3.449986e+07</td>\n",
       "      <td>3.449986e+07</td>\n",
       "      <td>3.449986e+07</td>\n",
       "      <td>3.449986e+07</td>\n",
       "      <td>3.449986e+07</td>\n",
       "      <td>3.449986e+07</td>\n",
       "      <td>3.449986e+07</td>\n",
       "    </tr>\n",
       "    <tr>\n",
       "      <th>mean</th>\n",
       "      <td>1.532576e+00</td>\n",
       "      <td>1.661700e+00</td>\n",
       "      <td>5.309408e+00</td>\n",
       "      <td>-7.283942e+01</td>\n",
       "      <td>4.012605e+01</td>\n",
       "      <td>1.039150e+00</td>\n",
       "      <td>-7.290482e+01</td>\n",
       "      <td>4.016297e+01</td>\n",
       "      <td>1.257198e+01</td>\n",
       "    </tr>\n",
       "    <tr>\n",
       "      <th>std</th>\n",
       "      <td>4.989377e-01</td>\n",
       "      <td>1.316154e+00</td>\n",
       "      <td>4.672575e+03</td>\n",
       "      <td>9.090656e+00</td>\n",
       "      <td>5.007832e+00</td>\n",
       "      <td>5.564537e-01</td>\n",
       "      <td>8.828348e+00</td>\n",
       "      <td>4.863875e+00</td>\n",
       "      <td>9.179006e+01</td>\n",
       "    </tr>\n",
       "    <tr>\n",
       "      <th>min</th>\n",
       "      <td>1.000000e+00</td>\n",
       "      <td>0.000000e+00</td>\n",
       "      <td>-3.390584e+06</td>\n",
       "      <td>-1.616987e+02</td>\n",
       "      <td>-7.703949e+01</td>\n",
       "      <td>1.000000e+00</td>\n",
       "      <td>-1.616987e+02</td>\n",
       "      <td>-7.703949e+01</td>\n",
       "      <td>-9.576000e+02</td>\n",
       "    </tr>\n",
       "    <tr>\n",
       "      <th>25%</th>\n",
       "      <td>1.000000e+00</td>\n",
       "      <td>1.000000e+00</td>\n",
       "      <td>1.100000e+00</td>\n",
       "      <td>-7.399055e+01</td>\n",
       "      <td>4.074137e+01</td>\n",
       "      <td>1.000000e+00</td>\n",
       "      <td>-7.399009e+01</td>\n",
       "      <td>4.074001e+01</td>\n",
       "      <td>7.000000e+00</td>\n",
       "    </tr>\n",
       "    <tr>\n",
       "      <th>50%</th>\n",
       "      <td>2.000000e+00</td>\n",
       "      <td>1.000000e+00</td>\n",
       "      <td>1.930000e+00</td>\n",
       "      <td>-7.397922e+01</td>\n",
       "      <td>4.075640e+01</td>\n",
       "      <td>1.000000e+00</td>\n",
       "      <td>-7.397832e+01</td>\n",
       "      <td>4.075612e+01</td>\n",
       "      <td>1.000000e+01</td>\n",
       "    </tr>\n",
       "    <tr>\n",
       "      <th>75%</th>\n",
       "      <td>2.000000e+00</td>\n",
       "      <td>2.000000e+00</td>\n",
       "      <td>3.800000e+00</td>\n",
       "      <td>-7.396252e+01</td>\n",
       "      <td>4.076979e+01</td>\n",
       "      <td>1.000000e+00</td>\n",
       "      <td>-7.395599e+01</td>\n",
       "      <td>4.077166e+01</td>\n",
       "      <td>1.550000e+01</td>\n",
       "    </tr>\n",
       "    <tr>\n",
       "      <th>max</th>\n",
       "      <td>2.000000e+00</td>\n",
       "      <td>9.000000e+00</td>\n",
       "      <td>1.907263e+07</td>\n",
       "      <td>9.464387e+01</td>\n",
       "      <td>6.685682e+01</td>\n",
       "      <td>9.900000e+01</td>\n",
       "      <td>3.889659e+01</td>\n",
       "      <td>4.053167e+02</td>\n",
       "      <td>4.294967e+05</td>\n",
       "    </tr>\n",
       "  </tbody>\n",
       "</table>\n",
       "</div>"
      ],
      "text/plain": [
       "           VendorID  passenger_count  trip_distance  pickup_longitude  \\\n",
       "count  3.449986e+07     3.449986e+07   3.449986e+07      3.449986e+07   \n",
       "mean   1.532576e+00     1.661700e+00   5.309408e+00     -7.283942e+01   \n",
       "std    4.989377e-01     1.316154e+00   4.672575e+03      9.090656e+00   \n",
       "min    1.000000e+00     0.000000e+00  -3.390584e+06     -1.616987e+02   \n",
       "25%    1.000000e+00     1.000000e+00   1.100000e+00     -7.399055e+01   \n",
       "50%    2.000000e+00     1.000000e+00   1.930000e+00     -7.397922e+01   \n",
       "75%    2.000000e+00     2.000000e+00   3.800000e+00     -7.396252e+01   \n",
       "max    2.000000e+00     9.000000e+00   1.907263e+07      9.464387e+01   \n",
       "\n",
       "       pickup_latitude    RatecodeID  dropoff_longitude  dropoff_latitude  \\\n",
       "count     3.449986e+07  3.449986e+07       3.449986e+07      3.449986e+07   \n",
       "mean      4.012605e+01  1.039150e+00      -7.290482e+01      4.016297e+01   \n",
       "std       5.007832e+00  5.564537e-01       8.828348e+00      4.863875e+00   \n",
       "min      -7.703949e+01  1.000000e+00      -1.616987e+02     -7.703949e+01   \n",
       "25%       4.074137e+01  1.000000e+00      -7.399009e+01      4.074001e+01   \n",
       "50%       4.075640e+01  1.000000e+00      -7.397832e+01      4.075612e+01   \n",
       "75%       4.076979e+01  1.000000e+00      -7.395599e+01      4.077166e+01   \n",
       "max       6.685682e+01  9.900000e+01       3.889659e+01      4.053167e+02   \n",
       "\n",
       "        fare_amount  \n",
       "count  3.449986e+07  \n",
       "mean   1.257198e+01  \n",
       "std    9.179006e+01  \n",
       "min   -9.576000e+02  \n",
       "25%    7.000000e+00  \n",
       "50%    1.000000e+01  \n",
       "75%    1.550000e+01  \n",
       "max    4.294967e+05  "
      ]
     },
     "execution_count": 31,
     "metadata": {},
     "output_type": "execute_result"
    }
   ],
   "source": [
    "df_final.describe().compute()"
   ]
  },
  {
   "cell_type": "markdown",
   "metadata": {},
   "source": [
    "## Vendor ID"
   ]
  },
  {
   "cell_type": "code",
   "execution_count": 32,
   "metadata": {},
   "outputs": [
    {
     "data": {
      "image/svg+xml": [
       "<?xml version=\"1.0\" encoding=\"UTF-8\" standalone=\"no\"?>\n",
       "<!DOCTYPE svg PUBLIC \"-//W3C//DTD SVG 1.1//EN\"\n",
       " \"http://www.w3.org/Graphics/SVG/1.1/DTD/svg11.dtd\">\n",
       "<!-- Generated by graphviz version 12.2.0 (20241103.1931)\n",
       " -->\n",
       "<!-- Pages: 1 -->\n",
       "<svg width=\"392pt\" height=\"476pt\"\n",
       " viewBox=\"0.00 0.00 392.25 476.00\" xmlns=\"http://www.w3.org/2000/svg\" xmlns:xlink=\"http://www.w3.org/1999/xlink\">\n",
       "<g id=\"graph0\" class=\"graph\" transform=\"scale(1 1) rotate(0) translate(4 472)\">\n",
       "<polygon fill=\"white\" stroke=\"none\" points=\"-4,4 -4,-472 388.25,-472 388.25,4 -4,4\"/>\n",
       "<!-- &#45;152472883203713920 -->\n",
       "<g id=\"node1\" class=\"node\">\n",
       "<title>&#45;152472883203713920</title>\n",
       "<polygon fill=\"none\" stroke=\"black\" points=\"312.5,-468 36.25,-468 36.25,-432 312.5,-432 312.5,-468\"/>\n",
       "<text text-anchor=\"middle\" x=\"174.38\" y=\"-442.62\" font-family=\"Helvetica,sans-Serif\" font-size=\"20.00\">ValueCounts(Projection, Len)</text>\n",
       "</g>\n",
       "<!-- 3576553026490556177 -->\n",
       "<g id=\"node2\" class=\"node\">\n",
       "<title>3576553026490556177</title>\n",
       "<polygon fill=\"none\" stroke=\"black\" points=\"342.5,-396 156.25,-396 156.25,-360 342.5,-360 342.5,-396\"/>\n",
       "<text text-anchor=\"middle\" x=\"249.38\" y=\"-370.62\" font-family=\"Helvetica,sans-Serif\" font-size=\"20.00\">Len(DropnaSeries)</text>\n",
       "</g>\n",
       "<!-- 3576553026490556177&#45;&gt;&#45;152472883203713920 -->\n",
       "<g id=\"edge2\" class=\"edge\">\n",
       "<title>3576553026490556177&#45;&gt;&#45;152472883203713920</title>\n",
       "<path fill=\"none\" stroke=\"black\" d=\"M230.84,-396.3C221.91,-404.63 211.04,-414.78 201.23,-423.93\"/>\n",
       "<polygon fill=\"black\" stroke=\"black\" points=\"198.99,-421.24 194.07,-430.62 203.77,-426.36 198.99,-421.24\"/>\n",
       "</g>\n",
       "<!-- 443654939053092858 -->\n",
       "<g id=\"node3\" class=\"node\">\n",
       "<title>443654939053092858</title>\n",
       "<polygon fill=\"none\" stroke=\"black\" points=\"384.25,-324 142.5,-324 142.5,-288 384.25,-288 384.25,-324\"/>\n",
       "<text text-anchor=\"middle\" x=\"263.38\" y=\"-298.62\" font-family=\"Helvetica,sans-Serif\" font-size=\"20.00\">DropnaSeries(Projection)</text>\n",
       "</g>\n",
       "<!-- 443654939053092858&#45;&gt;3576553026490556177 -->\n",
       "<g id=\"edge3\" class=\"edge\">\n",
       "<title>443654939053092858&#45;&gt;3576553026490556177</title>\n",
       "<path fill=\"none\" stroke=\"black\" d=\"M259.91,-324.3C258.44,-331.68 256.68,-340.48 255.03,-348.75\"/>\n",
       "<polygon fill=\"black\" stroke=\"black\" points=\"251.62,-347.92 253.09,-358.41 258.49,-349.29 251.62,-347.92\"/>\n",
       "</g>\n",
       "<!-- &#45;540998527805426647 -->\n",
       "<g id=\"node4\" class=\"node\">\n",
       "<title>&#45;540998527805426647</title>\n",
       "<polygon fill=\"none\" stroke=\"black\" points=\"316.38,-252 60.38,-252 60.38,-216 316.38,-216 316.38,-252\"/>\n",
       "<text text-anchor=\"middle\" x=\"188.38\" y=\"-226.62\" font-family=\"Helvetica,sans-Serif\" font-size=\"20.00\">Projection(Drop, VendorID)</text>\n",
       "</g>\n",
       "<!-- &#45;540998527805426647&#45;&gt;&#45;152472883203713920 -->\n",
       "<g id=\"edge1\" class=\"edge\">\n",
       "<title>&#45;540998527805426647&#45;&gt;&#45;152472883203713920</title>\n",
       "<path fill=\"none\" stroke=\"black\" d=\"M162.71,-252.28C151.45,-261.42 139.44,-273.72 133.38,-288 114.23,-333.03 138.46,-389.08 156.99,-421.77\"/>\n",
       "<polygon fill=\"black\" stroke=\"black\" points=\"153.88,-423.38 161.97,-430.22 159.91,-419.82 153.88,-423.38\"/>\n",
       "</g>\n",
       "<!-- &#45;540998527805426647&#45;&gt;443654939053092858 -->\n",
       "<g id=\"edge4\" class=\"edge\">\n",
       "<title>&#45;540998527805426647&#45;&gt;443654939053092858</title>\n",
       "<path fill=\"none\" stroke=\"black\" d=\"M206.91,-252.3C215.84,-260.63 226.71,-270.78 236.52,-279.93\"/>\n",
       "<polygon fill=\"black\" stroke=\"black\" points=\"233.98,-282.36 243.68,-286.62 238.76,-277.24 233.98,-282.36\"/>\n",
       "</g>\n",
       "<!-- &#45;1691395723090275739 -->\n",
       "<g id=\"node5\" class=\"node\">\n",
       "<title>&#45;1691395723090275739</title>\n",
       "<polygon fill=\"none\" stroke=\"black\" points=\"256.38,-180 120.38,-180 120.38,-144 256.38,-144 256.38,-180\"/>\n",
       "<text text-anchor=\"middle\" x=\"188.38\" y=\"-154.62\" font-family=\"Helvetica,sans-Serif\" font-size=\"20.00\">Drop(Concat)</text>\n",
       "</g>\n",
       "<!-- &#45;1691395723090275739&#45;&gt;&#45;540998527805426647 -->\n",
       "<g id=\"edge5\" class=\"edge\">\n",
       "<title>&#45;1691395723090275739&#45;&gt;&#45;540998527805426647</title>\n",
       "<path fill=\"none\" stroke=\"black\" d=\"M188.38,-180.3C188.38,-187.59 188.38,-196.27 188.38,-204.46\"/>\n",
       "<polygon fill=\"black\" stroke=\"black\" points=\"184.88,-204.38 188.38,-214.38 191.88,-204.38 184.88,-204.38\"/>\n",
       "</g>\n",
       "<!-- 3804209921409691975 -->\n",
       "<g id=\"node6\" class=\"node\">\n",
       "<title>3804209921409691975</title>\n",
       "<polygon fill=\"none\" stroke=\"black\" points=\"376.75,-108 0,-108 0,-72 376.75,-72 376.75,-108\"/>\n",
       "<text text-anchor=\"middle\" x=\"188.38\" y=\"-82.62\" font-family=\"Helvetica,sans-Serif\" font-size=\"20.00\">Concat(ReadCSV, ReadCSV, ReadCSV)</text>\n",
       "</g>\n",
       "<!-- 3804209921409691975&#45;&gt;&#45;1691395723090275739 -->\n",
       "<g id=\"edge6\" class=\"edge\">\n",
       "<title>3804209921409691975&#45;&gt;&#45;1691395723090275739</title>\n",
       "<path fill=\"none\" stroke=\"black\" d=\"M188.38,-108.3C188.38,-115.59 188.38,-124.27 188.38,-132.46\"/>\n",
       "<polygon fill=\"black\" stroke=\"black\" points=\"184.88,-132.38 188.38,-142.38 191.88,-132.38 184.88,-132.38\"/>\n",
       "</g>\n",
       "<!-- 6702944141527475460 -->\n",
       "<g id=\"node7\" class=\"node\">\n",
       "<title>6702944141527475460</title>\n",
       "<polygon fill=\"none\" stroke=\"black\" points=\"118,-36 12.75,-36 12.75,0 118,0 118,-36\"/>\n",
       "<text text-anchor=\"middle\" x=\"65.38\" y=\"-10.62\" font-family=\"Helvetica,sans-Serif\" font-size=\"20.00\">ReadCSV</text>\n",
       "</g>\n",
       "<!-- 6702944141527475460&#45;&gt;3804209921409691975 -->\n",
       "<g id=\"edge7\" class=\"edge\">\n",
       "<title>6702944141527475460&#45;&gt;3804209921409691975</title>\n",
       "<path fill=\"none\" stroke=\"black\" d=\"M96.1,-36.48C111.92,-45.49 131.4,-56.58 148.38,-66.24\"/>\n",
       "<polygon fill=\"black\" stroke=\"black\" points=\"146.31,-69.09 156.73,-70.99 149.77,-63 146.31,-69.09\"/>\n",
       "</g>\n",
       "<!-- 1885853736912961580 -->\n",
       "<g id=\"node8\" class=\"node\">\n",
       "<title>1885853736912961580</title>\n",
       "<polygon fill=\"none\" stroke=\"black\" points=\"241,-36 135.75,-36 135.75,0 241,0 241,-36\"/>\n",
       "<text text-anchor=\"middle\" x=\"188.38\" y=\"-10.62\" font-family=\"Helvetica,sans-Serif\" font-size=\"20.00\">ReadCSV</text>\n",
       "</g>\n",
       "<!-- 1885853736912961580&#45;&gt;3804209921409691975 -->\n",
       "<g id=\"edge8\" class=\"edge\">\n",
       "<title>1885853736912961580&#45;&gt;3804209921409691975</title>\n",
       "<path fill=\"none\" stroke=\"black\" d=\"M188.38,-36.3C188.38,-43.59 188.38,-52.27 188.38,-60.46\"/>\n",
       "<polygon fill=\"black\" stroke=\"black\" points=\"184.88,-60.38 188.38,-70.38 191.88,-60.38 184.88,-60.38\"/>\n",
       "</g>\n",
       "<!-- 1672281872306673605 -->\n",
       "<g id=\"node9\" class=\"node\">\n",
       "<title>1672281872306673605</title>\n",
       "<polygon fill=\"none\" stroke=\"black\" points=\"364,-36 258.75,-36 258.75,0 364,0 364,-36\"/>\n",
       "<text text-anchor=\"middle\" x=\"311.38\" y=\"-10.62\" font-family=\"Helvetica,sans-Serif\" font-size=\"20.00\">ReadCSV</text>\n",
       "</g>\n",
       "<!-- 1672281872306673605&#45;&gt;3804209921409691975 -->\n",
       "<g id=\"edge9\" class=\"edge\">\n",
       "<title>1672281872306673605&#45;&gt;3804209921409691975</title>\n",
       "<path fill=\"none\" stroke=\"black\" d=\"M280.65,-36.48C264.83,-45.49 245.35,-56.58 228.37,-66.24\"/>\n",
       "<polygon fill=\"black\" stroke=\"black\" points=\"226.98,-63 220.02,-70.99 230.44,-69.09 226.98,-63\"/>\n",
       "</g>\n",
       "</g>\n",
       "</svg>\n"
      ],
      "text/plain": [
       "<graphviz.graphs.Digraph at 0x15860a66e80>"
      ]
     },
     "execution_count": 32,
     "metadata": {},
     "output_type": "execute_result"
    }
   ],
   "source": [
    "df_final['VendorID'].value_counts(normalize=True).visualize()"
   ]
  },
  {
   "cell_type": "code",
   "execution_count": 34,
   "metadata": {},
   "outputs": [],
   "source": [
    "# pie chart of vendor share in NYC\n",
    "\n",
    "vendor_share = (\n",
    "    df_final['VendorID']\n",
    "    .value_counts(normalize=True)\n",
    "    .compute()\n",
    ")"
   ]
  },
  {
   "cell_type": "code",
   "execution_count": 35,
   "metadata": {},
   "outputs": [
    {
     "data": {
      "text/plain": [
       "pandas.core.series.Series"
      ]
     },
     "execution_count": 35,
     "metadata": {},
     "output_type": "execute_result"
    }
   ],
   "source": [
    "type(vendor_share)"
   ]
  },
  {
   "cell_type": "code",
   "execution_count": 36,
   "metadata": {},
   "outputs": [
    {
     "data": {
      "image/png": "[encoded data removed]",
      "text/plain": [
       "<Figure size 640x480 with 1 Axes>"
      ]
     },
     "metadata": {},
     "output_type": "display_data"
    }
   ],
   "source": [
    "# donut chart\n",
    "\n",
    "plt.pie(vendor_share, labels=[\"Creative Mobile Technologies\",\"VeriFone Inc.\"], autopct=\"%.2f%%\",\n",
    "       radius=1, wedgeprops=dict(width=0.5, edgecolor=\"w\"))\n",
    "plt.show()\n"
   ]
  },
  {
   "cell_type": "markdown",
   "metadata": {},
   "source": [
    "## Passenger Count"
   ]
  },
  {
   "cell_type": "code",
   "execution_count": 38,
   "metadata": {},
   "outputs": [
    {
     "data": {
      "image/svg+xml": [
       "<?xml version=\"1.0\" encoding=\"UTF-8\" standalone=\"no\"?>\n",
       "<!DOCTYPE svg PUBLIC \"-//W3C//DTD SVG 1.1//EN\"\n",
       " \"http://www.w3.org/Graphics/SVG/1.1/DTD/svg11.dtd\">\n",
       "<!-- Generated by graphviz version 12.2.0 (20241103.1931)\n",
       " -->\n",
       "<!-- Pages: 1 -->\n",
       "<svg width=\"385pt\" height=\"332pt\"\n",
       " viewBox=\"0.00 0.00 384.75 332.00\" xmlns=\"http://www.w3.org/2000/svg\" xmlns:xlink=\"http://www.w3.org/1999/xlink\">\n",
       "<g id=\"graph0\" class=\"graph\" transform=\"scale(1 1) rotate(0) translate(4 328)\">\n",
       "<polygon fill=\"white\" stroke=\"none\" points=\"-4,4 -4,-328 380.75,-328 380.75,4 -4,4\"/>\n",
       "<!-- 5845099690050282118 -->\n",
       "<g id=\"node1\" class=\"node\">\n",
       "<title>5845099690050282118</title>\n",
       "<polygon fill=\"none\" stroke=\"black\" points=\"304.38,-324 72.38,-324 72.38,-288 304.38,-288 304.38,-324\"/>\n",
       "<text text-anchor=\"middle\" x=\"188.38\" y=\"-298.62\" font-family=\"Helvetica,sans-Serif\" font-size=\"20.00\">ValueCounts(Projection)</text>\n",
       "</g>\n",
       "<!-- &#45;4359209949048927110 -->\n",
       "<g id=\"node2\" class=\"node\">\n",
       "<title>&#45;4359209949048927110</title>\n",
       "<polygon fill=\"none\" stroke=\"black\" points=\"351.62,-252 25.12,-252 25.12,-216 351.62,-216 351.62,-252\"/>\n",
       "<text text-anchor=\"middle\" x=\"188.38\" y=\"-226.62\" font-family=\"Helvetica,sans-Serif\" font-size=\"20.00\">Projection(Drop, passenger_count)</text>\n",
       "</g>\n",
       "<!-- &#45;4359209949048927110&#45;&gt;5845099690050282118 -->\n",
       "<g id=\"edge1\" class=\"edge\">\n",
       "<title>&#45;4359209949048927110&#45;&gt;5845099690050282118</title>\n",
       "<path fill=\"none\" stroke=\"black\" d=\"M188.38,-252.3C188.38,-259.59 188.38,-268.27 188.38,-276.46\"/>\n",
       "<polygon fill=\"black\" stroke=\"black\" points=\"184.88,-276.38 188.38,-286.38 191.88,-276.38 184.88,-276.38\"/>\n",
       "</g>\n",
       "<!-- &#45;1691395723090275739 -->\n",
       "<g id=\"node3\" class=\"node\">\n",
       "<title>&#45;1691395723090275739</title>\n",
       "<polygon fill=\"none\" stroke=\"black\" points=\"256.38,-180 120.38,-180 120.38,-144 256.38,-144 256.38,-180\"/>\n",
       "<text text-anchor=\"middle\" x=\"188.38\" y=\"-154.62\" font-family=\"Helvetica,sans-Serif\" font-size=\"20.00\">Drop(Concat)</text>\n",
       "</g>\n",
       "<!-- &#45;1691395723090275739&#45;&gt;&#45;4359209949048927110 -->\n",
       "<g id=\"edge2\" class=\"edge\">\n",
       "<title>&#45;1691395723090275739&#45;&gt;&#45;4359209949048927110</title>\n",
       "<path fill=\"none\" stroke=\"black\" d=\"M188.38,-180.3C188.38,-187.59 188.38,-196.27 188.38,-204.46\"/>\n",
       "<polygon fill=\"black\" stroke=\"black\" points=\"184.88,-204.38 188.38,-214.38 191.88,-204.38 184.88,-204.38\"/>\n",
       "</g>\n",
       "<!-- 3804209921409691975 -->\n",
       "<g id=\"node4\" class=\"node\">\n",
       "<title>3804209921409691975</title>\n",
       "<polygon fill=\"none\" stroke=\"black\" points=\"376.75,-108 0,-108 0,-72 376.75,-72 376.75,-108\"/>\n",
       "<text text-anchor=\"middle\" x=\"188.38\" y=\"-82.62\" font-family=\"Helvetica,sans-Serif\" font-size=\"20.00\">Concat(ReadCSV, ReadCSV, ReadCSV)</text>\n",
       "</g>\n",
       "<!-- 3804209921409691975&#45;&gt;&#45;1691395723090275739 -->\n",
       "<g id=\"edge3\" class=\"edge\">\n",
       "<title>3804209921409691975&#45;&gt;&#45;1691395723090275739</title>\n",
       "<path fill=\"none\" stroke=\"black\" d=\"M188.38,-108.3C188.38,-115.59 188.38,-124.27 188.38,-132.46\"/>\n",
       "<polygon fill=\"black\" stroke=\"black\" points=\"184.88,-132.38 188.38,-142.38 191.88,-132.38 184.88,-132.38\"/>\n",
       "</g>\n",
       "<!-- 6702944141527475460 -->\n",
       "<g id=\"node5\" class=\"node\">\n",
       "<title>6702944141527475460</title>\n",
       "<polygon fill=\"none\" stroke=\"black\" points=\"118,-36 12.75,-36 12.75,0 118,0 118,-36\"/>\n",
       "<text text-anchor=\"middle\" x=\"65.38\" y=\"-10.62\" font-family=\"Helvetica,sans-Serif\" font-size=\"20.00\">ReadCSV</text>\n",
       "</g>\n",
       "<!-- 6702944141527475460&#45;&gt;3804209921409691975 -->\n",
       "<g id=\"edge4\" class=\"edge\">\n",
       "<title>6702944141527475460&#45;&gt;3804209921409691975</title>\n",
       "<path fill=\"none\" stroke=\"black\" d=\"M96.1,-36.48C111.92,-45.49 131.4,-56.58 148.38,-66.24\"/>\n",
       "<polygon fill=\"black\" stroke=\"black\" points=\"146.31,-69.09 156.73,-70.99 149.77,-63 146.31,-69.09\"/>\n",
       "</g>\n",
       "<!-- 1885853736912961580 -->\n",
       "<g id=\"node6\" class=\"node\">\n",
       "<title>1885853736912961580</title>\n",
       "<polygon fill=\"none\" stroke=\"black\" points=\"241,-36 135.75,-36 135.75,0 241,0 241,-36\"/>\n",
       "<text text-anchor=\"middle\" x=\"188.38\" y=\"-10.62\" font-family=\"Helvetica,sans-Serif\" font-size=\"20.00\">ReadCSV</text>\n",
       "</g>\n",
       "<!-- 1885853736912961580&#45;&gt;3804209921409691975 -->\n",
       "<g id=\"edge5\" class=\"edge\">\n",
       "<title>1885853736912961580&#45;&gt;3804209921409691975</title>\n",
       "<path fill=\"none\" stroke=\"black\" d=\"M188.38,-36.3C188.38,-43.59 188.38,-52.27 188.38,-60.46\"/>\n",
       "<polygon fill=\"black\" stroke=\"black\" points=\"184.88,-60.38 188.38,-70.38 191.88,-60.38 184.88,-60.38\"/>\n",
       "</g>\n",
       "<!-- 1672281872306673605 -->\n",
       "<g id=\"node7\" class=\"node\">\n",
       "<title>1672281872306673605</title>\n",
       "<polygon fill=\"none\" stroke=\"black\" points=\"364,-36 258.75,-36 258.75,0 364,0 364,-36\"/>\n",
       "<text text-anchor=\"middle\" x=\"311.38\" y=\"-10.62\" font-family=\"Helvetica,sans-Serif\" font-size=\"20.00\">ReadCSV</text>\n",
       "</g>\n",
       "<!-- 1672281872306673605&#45;&gt;3804209921409691975 -->\n",
       "<g id=\"edge6\" class=\"edge\">\n",
       "<title>1672281872306673605&#45;&gt;3804209921409691975</title>\n",
       "<path fill=\"none\" stroke=\"black\" d=\"M280.65,-36.48C264.83,-45.49 245.35,-56.58 228.37,-66.24\"/>\n",
       "<polygon fill=\"black\" stroke=\"black\" points=\"226.98,-63 220.02,-70.99 230.44,-69.09 226.98,-63\"/>\n",
       "</g>\n",
       "</g>\n",
       "</svg>\n"
      ],
      "text/plain": [
       "<graphviz.graphs.Digraph at 0x1587442e910>"
      ]
     },
     "execution_count": 38,
     "metadata": {},
     "output_type": "execute_result"
    }
   ],
   "source": [
    "df_final['passenger_count'].value_counts().visualize()"
   ]
  },
  {
   "cell_type": "code",
   "execution_count": 39,
   "metadata": {},
   "outputs": [],
   "source": [
    "# countplot for passenge plot\n",
    "\n",
    "passenger_count = df_final['passenger_count'].value_counts().compute()"
   ]
  },
  {
   "cell_type": "code",
   "execution_count": 40,
   "metadata": {},
   "outputs": [
    {
     "data": {
      "image/png": "[encoded data removed]",
      "text/plain": [
       "<Figure size 640x480 with 1 Axes>"
      ]
     },
     "metadata": {},
     "output_type": "display_data"
    }
   ],
   "source": [
    "passenger_count.sort_index().plot(kind='bar')\n",
    "plt.show()"
   ]
  },
  {
   "cell_type": "markdown",
   "metadata": {},
   "source": [
    "**Passenger count value outside the range of 1 to 5 passengers are erroneous and not allowed by the taxi commission in NYC**"
   ]
  },
  {
   "cell_type": "markdown",
   "metadata": {},
   "source": [
    "## Trip Distance"
   ]
  },
  {
   "cell_type": "code",
   "execution_count": 41,
   "metadata": {},
   "outputs": [
    {
     "data": {
      "image/svg+xml": [
       "<?xml version=\"1.0\" encoding=\"UTF-8\" standalone=\"no\"?>\n",
       "<!DOCTYPE svg PUBLIC \"-//W3C//DTD SVG 1.1//EN\"\n",
       " \"http://www.w3.org/Graphics/SVG/1.1/DTD/svg11.dtd\">\n",
       "<!-- Generated by graphviz version 12.2.0 (20241103.1931)\n",
       " -->\n",
       "<!-- Pages: 1 -->\n",
       "<svg width=\"385pt\" height=\"260pt\"\n",
       " viewBox=\"0.00 0.00 384.75 260.00\" xmlns=\"http://www.w3.org/2000/svg\" xmlns:xlink=\"http://www.w3.org/1999/xlink\">\n",
       "<g id=\"graph0\" class=\"graph\" transform=\"scale(1 1) rotate(0) translate(4 256)\">\n",
       "<polygon fill=\"white\" stroke=\"none\" points=\"-4,4 -4,-256 380.75,-256 380.75,4 -4,4\"/>\n",
       "<!-- 8512813013755801894 -->\n",
       "<g id=\"node1\" class=\"node\">\n",
       "<title>8512813013755801894</title>\n",
       "<polygon fill=\"none\" stroke=\"black\" points=\"331.38,-252 45.38,-252 45.38,-216 331.38,-216 331.38,-252\"/>\n",
       "<text text-anchor=\"middle\" x=\"188.38\" y=\"-226.62\" font-family=\"Helvetica,sans-Serif\" font-size=\"20.00\">Projection(Drop, trip_distance)</text>\n",
       "</g>\n",
       "<!-- &#45;1691395723090275739 -->\n",
       "<g id=\"node2\" class=\"node\">\n",
       "<title>&#45;1691395723090275739</title>\n",
       "<polygon fill=\"none\" stroke=\"black\" points=\"256.38,-180 120.38,-180 120.38,-144 256.38,-144 256.38,-180\"/>\n",
       "<text text-anchor=\"middle\" x=\"188.38\" y=\"-154.62\" font-family=\"Helvetica,sans-Serif\" font-size=\"20.00\">Drop(Concat)</text>\n",
       "</g>\n",
       "<!-- &#45;1691395723090275739&#45;&gt;8512813013755801894 -->\n",
       "<g id=\"edge1\" class=\"edge\">\n",
       "<title>&#45;1691395723090275739&#45;&gt;8512813013755801894</title>\n",
       "<path fill=\"none\" stroke=\"black\" d=\"M188.38,-180.3C188.38,-187.59 188.38,-196.27 188.38,-204.46\"/>\n",
       "<polygon fill=\"black\" stroke=\"black\" points=\"184.88,-204.38 188.38,-214.38 191.88,-204.38 184.88,-204.38\"/>\n",
       "</g>\n",
       "<!-- 3804209921409691975 -->\n",
       "<g id=\"node3\" class=\"node\">\n",
       "<title>3804209921409691975</title>\n",
       "<polygon fill=\"none\" stroke=\"black\" points=\"376.75,-108 0,-108 0,-72 376.75,-72 376.75,-108\"/>\n",
       "<text text-anchor=\"middle\" x=\"188.38\" y=\"-82.62\" font-family=\"Helvetica,sans-Serif\" font-size=\"20.00\">Concat(ReadCSV, ReadCSV, ReadCSV)</text>\n",
       "</g>\n",
       "<!-- 3804209921409691975&#45;&gt;&#45;1691395723090275739 -->\n",
       "<g id=\"edge2\" class=\"edge\">\n",
       "<title>3804209921409691975&#45;&gt;&#45;1691395723090275739</title>\n",
       "<path fill=\"none\" stroke=\"black\" d=\"M188.38,-108.3C188.38,-115.59 188.38,-124.27 188.38,-132.46\"/>\n",
       "<polygon fill=\"black\" stroke=\"black\" points=\"184.88,-132.38 188.38,-142.38 191.88,-132.38 184.88,-132.38\"/>\n",
       "</g>\n",
       "<!-- 6702944141527475460 -->\n",
       "<g id=\"node4\" class=\"node\">\n",
       "<title>6702944141527475460</title>\n",
       "<polygon fill=\"none\" stroke=\"black\" points=\"118,-36 12.75,-36 12.75,0 118,0 118,-36\"/>\n",
       "<text text-anchor=\"middle\" x=\"65.38\" y=\"-10.62\" font-family=\"Helvetica,sans-Serif\" font-size=\"20.00\">ReadCSV</text>\n",
       "</g>\n",
       "<!-- 6702944141527475460&#45;&gt;3804209921409691975 -->\n",
       "<g id=\"edge3\" class=\"edge\">\n",
       "<title>6702944141527475460&#45;&gt;3804209921409691975</title>\n",
       "<path fill=\"none\" stroke=\"black\" d=\"M96.1,-36.48C111.92,-45.49 131.4,-56.58 148.38,-66.24\"/>\n",
       "<polygon fill=\"black\" stroke=\"black\" points=\"146.31,-69.09 156.73,-70.99 149.77,-63 146.31,-69.09\"/>\n",
       "</g>\n",
       "<!-- 1885853736912961580 -->\n",
       "<g id=\"node5\" class=\"node\">\n",
       "<title>1885853736912961580</title>\n",
       "<polygon fill=\"none\" stroke=\"black\" points=\"241,-36 135.75,-36 135.75,0 241,0 241,-36\"/>\n",
       "<text text-anchor=\"middle\" x=\"188.38\" y=\"-10.62\" font-family=\"Helvetica,sans-Serif\" font-size=\"20.00\">ReadCSV</text>\n",
       "</g>\n",
       "<!-- 1885853736912961580&#45;&gt;3804209921409691975 -->\n",
       "<g id=\"edge4\" class=\"edge\">\n",
       "<title>1885853736912961580&#45;&gt;3804209921409691975</title>\n",
       "<path fill=\"none\" stroke=\"black\" d=\"M188.38,-36.3C188.38,-43.59 188.38,-52.27 188.38,-60.46\"/>\n",
       "<polygon fill=\"black\" stroke=\"black\" points=\"184.88,-60.38 188.38,-70.38 191.88,-60.38 184.88,-60.38\"/>\n",
       "</g>\n",
       "<!-- 1672281872306673605 -->\n",
       "<g id=\"node6\" class=\"node\">\n",
       "<title>1672281872306673605</title>\n",
       "<polygon fill=\"none\" stroke=\"black\" points=\"364,-36 258.75,-36 258.75,0 364,0 364,-36\"/>\n",
       "<text text-anchor=\"middle\" x=\"311.38\" y=\"-10.62\" font-family=\"Helvetica,sans-Serif\" font-size=\"20.00\">ReadCSV</text>\n",
       "</g>\n",
       "<!-- 1672281872306673605&#45;&gt;3804209921409691975 -->\n",
       "<g id=\"edge5\" class=\"edge\">\n",
       "<title>1672281872306673605&#45;&gt;3804209921409691975</title>\n",
       "<path fill=\"none\" stroke=\"black\" d=\"M280.65,-36.48C264.83,-45.49 245.35,-56.58 228.37,-66.24\"/>\n",
       "<polygon fill=\"black\" stroke=\"black\" points=\"226.98,-63 220.02,-70.99 230.44,-69.09 226.98,-63\"/>\n",
       "</g>\n",
       "</g>\n",
       "</svg>\n"
      ],
      "text/plain": [
       "<graphviz.graphs.Digraph at 0x158c2c21160>"
      ]
     },
     "execution_count": 41,
     "metadata": {},
     "output_type": "execute_result"
    }
   ],
   "source": [
    "df_final.loc[:, 'trip_distance'].visualize()"
   ]
  },
  {
   "cell_type": "code",
   "execution_count": 42,
   "metadata": {
    "scrolled": true
   },
   "outputs": [
    {
     "data": {
      "text/plain": [
       "<Axes: ylabel='trip_distance'>"
      ]
     },
     "execution_count": 42,
     "metadata": {},
     "output_type": "execute_result"
    },
    {
     "data": {
      "image/png": "[encoded data removed]",
      "text/plain": [
       "<Figure size 640x480 with 1 Axes>"
      ]
     },
     "metadata": {},
     "output_type": "display_data"
    }
   ],
   "source": [
    "sns.boxplot(df_final.loc[:,'trip_distance'].compute())"
   ]
  },
  {
   "cell_type": "code",
   "execution_count": 43,
   "metadata": {},
   "outputs": [
    {
     "data": {
      "text/plain": [
       "<Axes: ylabel='trip_distance'>"
      ]
     },
     "execution_count": 43,
     "metadata": {},
     "output_type": "execute_result"
    },
    {
     "data": {
      "image/png": "[encoded data removed]",
      "text/plain": [
       "<Figure size 640x480 with 1 Axes>"
      ]
     },
     "metadata": {},
     "output_type": "display_data"
    }
   ],
   "source": [
    "sns.boxplot(df_final['trip_distance'].compute())\n"
   ]
  },
  {
   "cell_type": "code",
   "execution_count": 44,
   "metadata": {},
   "outputs": [
    {
     "data": {
      "text/plain": [
       "Dask Series Structure:\n",
       "npartitions=82\n",
       "    float64\n",
       "        ...\n",
       "     ...   \n",
       "        ...\n",
       "        ...\n",
       "Dask Name: getitem, 6 expressions\n",
       "Expr=(Drop(frame=Concat(frames=[ReadCSV(2c5f114), ReadCSV(30486bf), ReadCSV(1be068b)], ), columns=['extra', 'mta_tax', 'tip_amount', 'tolls_amount', 'improvement_surcharge', 'total_amount', 'payment_type']))['trip_distance']"
      ]
     },
     "execution_count": 44,
     "metadata": {},
     "output_type": "execute_result"
    }
   ],
   "source": [
    "df_final['trip_distance']"
   ]
  },
  {
   "cell_type": "code",
   "execution_count": 46,
   "metadata": {},
   "outputs": [
    {
     "data": {
      "text/plain": [
       "array([0.1, 0.2, 0.3, 0.4, 0.5, 0.6, 0.7, 0.8, 0.9])"
      ]
     },
     "execution_count": 46,
     "metadata": {},
     "output_type": "execute_result"
    }
   ],
   "source": [
    "\n",
    "percentile_values = np.arange(0.1,1.0,0.1)\n",
    "percentile_values"
   ]
  },
  {
   "cell_type": "code",
   "execution_count": 47,
   "metadata": {},
   "outputs": [
    {
     "name": "stdout",
     "output_type": "stream",
     "text": [
      "The trip distance value for 10th percentile is 0.7\n",
      "The trip distance value for 20th percentile is 0.97\n",
      "The trip distance value for 30th percentile is 1.23\n",
      "The trip distance value for 40th percentile is 1.56\n",
      "The trip distance value for 50th percentile is 1.93\n",
      "The trip distance value for 60th percentile is 2.49\n",
      "The trip distance value for 70th percentile is 3.27\n",
      "The trip distance value for 80th percentile is 4.6\n",
      "The trip distance value for 90th percentile is 8.3\n"
     ]
    }
   ],
   "source": [
    "# percentile values for trip distance\n",
    "\n",
    "percentile_values = np.arange(0.1,1.0,0.1)\n",
    "percentile_values\n",
    "\n",
    "for percentile in percentile_values:\n",
    "    print(f\"The trip distance value for {int(percentile * 100)}th percentile is {df_final['trip_distance'].quantile(q=percentile).compute()}\")"
   ]
  },
  {
   "cell_type": "code",
   "execution_count": 50,
   "metadata": {},
   "outputs": [
    {
     "data": {
      "text/plain": [
       "array([0.9 , 0.91, 0.92, 0.93, 0.94, 0.95, 0.96, 0.97, 0.98, 0.99, 1.  ])"
      ]
     },
     "execution_count": 50,
     "metadata": {},
     "output_type": "execute_result"
    }
   ],
   "source": [
    "percentile_values = np.arange(0.9, 1.01, 0.01)\n",
    "percentile_values"
   ]
  },
  {
   "cell_type": "code",
   "execution_count": 49,
   "metadata": {},
   "outputs": [
    {
     "name": "stdout",
     "output_type": "stream",
     "text": [
      "The trip value for 10th percentile is 0.7\n",
      "The trip value for 20th percentile is 0.97\n",
      "The trip value for 30th percentile is 1.23\n",
      "The trip value for 40th percentile is 1.56\n",
      "The trip value for 50th percentile is 1.93\n",
      "The trip value for 60th percentile is 2.49\n",
      "The trip value for 70th percentile is 3.27\n",
      "The trip value for 80th percentile is 4.6\n",
      "The trip value for 90th percentile is 8.3\n"
     ]
    }
   ],
   "source": [
    "for percentile in percentile_values:\n",
    "    print(f\"The trip value for {int(percentile*100)}th percentile is {df_final['trip_distance'].quantile(q=percentile).compute()}\")"
   ]
  },
  {
   "cell_type": "markdown",
   "metadata": {},
   "source": [
    "## Fare Amount"
   ]
  },
  {
   "cell_type": "code",
   "execution_count": 52,
   "metadata": {},
   "outputs": [
    {
     "data": {
      "text/plain": [
       "<Axes: ylabel='fare_amount'>"
      ]
     },
     "execution_count": 52,
     "metadata": {},
     "output_type": "execute_result"
    },
    {
     "data": {
      "image/png": "[encoded data removed]",
      "text/plain": [
       "<Figure size 640x480 with 1 Axes>"
      ]
     },
     "metadata": {},
     "output_type": "display_data"
    }
   ],
   "source": [
    "# boxplot for the fare amount\n",
    "\n",
    "sns.boxplot(df_final.loc[:, 'fare_amount'].compute())"
   ]
  },
  {
   "cell_type": "code",
   "execution_count": 53,
   "metadata": {},
   "outputs": [
    {
     "name": "stdout",
     "output_type": "stream",
     "text": [
      "The fare amount value for 10th percentile is 5.0\n",
      "The fare amount value for 20th percentile is 6.0\n",
      "The fare amount value for 30th percentile is 7.5\n",
      "The fare amount value for 40th percentile is 8.5\n",
      "The fare amount value for 50th percentile is 10.0\n",
      "The fare amount value for 60th percentile is 11.5\n",
      "The fare amount value for 70th percentile is 14.0\n",
      "The fare amount value for 80th percentile is 18.0\n",
      "The fare amount value for 90th percentile is 27.0\n",
      "The fare amount value for 100th percentile is 429496.72\n"
     ]
    }
   ],
   "source": [
    "# percentile values for fare amount\n",
    "\n",
    "percentile_values = np.arange(0.1,1.1,0.1)\n",
    "percentile_values\n",
    "\n",
    "for percentile in percentile_values:\n",
    "    print(f\"The fare amount value for {int(percentile * 100)}th percentile is {df_final['fare_amount'].quantile(q=percentile).compute()}\")"
   ]
  },
  {
   "cell_type": "code",
   "execution_count": 54,
   "metadata": {},
   "outputs": [
    {
     "name": "stdout",
     "output_type": "stream",
     "text": [
      "The fare amount value for 90th percentile is 27.0\n",
      "The fare amount value for 91th percentile is 29.0\n",
      "The fare amount value for 92th percentile is 30.5\n",
      "The fare amount value for 93th percentile is 33.0\n",
      "The fare amount value for 94th percentile is 35.5\n",
      "The fare amount value for 95th percentile is 40.0\n",
      "The fare amount value for 96th percentile is 49.5\n",
      "The fare amount value for 97th percentile is 52.0\n",
      "The fare amount value for 98th percentile is 52.0\n",
      "The fare amount value for 99th percentile is 52.0\n",
      "The fare amount value for 100th percentile is 429496.72\n"
     ]
    }
   ],
   "source": [
    "percentile_values = np.arange(0.90,1.01,0.01)\n",
    "percentile_values\n",
    "\n",
    "for percentile in percentile_values:\n",
    "    print(f\"The fare amount value for {int(percentile * 100)}th percentile is {df_final['fare_amount'].quantile(q=percentile).compute()}\")"
   ]
  },
  {
   "cell_type": "markdown",
   "metadata": {},
   "source": [
    "## Ratecode ID"
   ]
  },
  {
   "cell_type": "code",
   "execution_count": 56,
   "metadata": {},
   "outputs": [],
   "source": [
    "# unique values\n",
    "\n",
    "rate_code_ids = (\n",
    "    df_final.loc[:, 'RatecodeID']\n",
    "    .value_counts()\n",
    "    .compute()\n",
    ")"
   ]
  },
  {
   "cell_type": "code",
   "execution_count": 57,
   "metadata": {},
   "outputs": [
    {
     "data": {
      "text/plain": [
       "RatecodeID\n",
       "1.0     33627000\n",
       "2.0       697595\n",
       "3.0        56169\n",
       "4.0        14459\n",
       "5.0       103481\n",
       "6.0          320\n",
       "99.0         835\n",
       "Name: count, dtype: int64"
      ]
     },
     "execution_count": 57,
     "metadata": {},
     "output_type": "execute_result"
    }
   ],
   "source": [
    "rate_code_ids.sort_index()"
   ]
  },
  {
   "cell_type": "code",
   "execution_count": 58,
   "metadata": {},
   "outputs": [
    {
     "name": "stdout",
     "output_type": "stream",
     "text": [
      "[1.0, 2.0, 3.0, 4.0, 5.0, 6.0, 99.0]\n"
     ]
    }
   ],
   "source": [
    "# unique values in rate code column\n",
    "\n",
    "print(rate_code_ids.sort_index().index.tolist())"
   ]
  },
  {
   "cell_type": "code",
   "execution_count": 60,
   "metadata": {},
   "outputs": [
    {
     "data": {
      "image/png": "[encoded data removed]",
      "text/plain": [
       "<Figure size 640x480 with 1 Axes>"
      ]
     },
     "metadata": {},
     "output_type": "display_data"
    }
   ],
   "source": [
    "# plot the bar plot to display the distribution of categories\n",
    "\n",
    "rate_code_ids.sort_index().plot(kind=\"bar\")\n",
    "plt.show()"
   ]
  },
  {
   "cell_type": "markdown",
   "metadata": {},
   "source": [
    "**Missing values category is replaced by 99**"
   ]
  },
  {
   "cell_type": "markdown",
   "metadata": {},
   "source": [
    "## Location Based Columns"
   ]
  },
  {
   "cell_type": "code",
   "execution_count": 61,
   "metadata": {},
   "outputs": [
    {
     "data": {
      "text/html": [
       "<div><strong>Dask DataFrame Structure:</strong></div>\n",
       "<table border=\"1\" class=\"dataframe\">\n",
       "  <thead>\n",
       "    <tr style=\"text-align: right;\">\n",
       "      <th></th>\n",
       "      <th>pickup_latitude</th>\n",
       "      <th>pickup_longitude</th>\n",
       "      <th>dropoff_latitude</th>\n",
       "      <th>dropoff_longitude</th>\n",
       "    </tr>\n",
       "    <tr>\n",
       "      <th>npartitions=82</th>\n",
       "      <th></th>\n",
       "      <th></th>\n",
       "      <th></th>\n",
       "      <th></th>\n",
       "    </tr>\n",
       "  </thead>\n",
       "  <tbody>\n",
       "    <tr>\n",
       "      <th></th>\n",
       "      <td>float64</td>\n",
       "      <td>float64</td>\n",
       "      <td>float64</td>\n",
       "      <td>float64</td>\n",
       "    </tr>\n",
       "    <tr>\n",
       "      <th></th>\n",
       "      <td>...</td>\n",
       "      <td>...</td>\n",
       "      <td>...</td>\n",
       "      <td>...</td>\n",
       "    </tr>\n",
       "    <tr>\n",
       "      <th>...</th>\n",
       "      <td>...</td>\n",
       "      <td>...</td>\n",
       "      <td>...</td>\n",
       "      <td>...</td>\n",
       "    </tr>\n",
       "    <tr>\n",
       "      <th></th>\n",
       "      <td>...</td>\n",
       "      <td>...</td>\n",
       "      <td>...</td>\n",
       "      <td>...</td>\n",
       "    </tr>\n",
       "    <tr>\n",
       "      <th></th>\n",
       "      <td>...</td>\n",
       "      <td>...</td>\n",
       "      <td>...</td>\n",
       "      <td>...</td>\n",
       "    </tr>\n",
       "  </tbody>\n",
       "</table>\n",
       "<div>Dask Name: getitem, 6 expressions</div>"
      ],
      "text/plain": [
       "Dask DataFrame Structure:\n",
       "               pickup_latitude pickup_longitude dropoff_latitude dropoff_longitude\n",
       "npartitions=82                                                                    \n",
       "                       float64          float64          float64           float64\n",
       "                           ...              ...              ...               ...\n",
       "...                        ...              ...              ...               ...\n",
       "                           ...              ...              ...               ...\n",
       "                           ...              ...              ...               ...\n",
       "Dask Name: getitem, 6 expressions\n",
       "Expr=(Drop(frame=Concat(frames=[ReadCSV(2c5f114), ReadCSV(30486bf), ReadCSV(1be068b)], ), columns=['extra', 'mta_tax', 'tip_amount', 'tolls_amount', 'improvement_surcharge', 'total_amount', 'payment_type']))[['pickup_latitude', 'pickup_longitude', 'dropoff_latitude', 'dropoff_longitude']]"
      ]
     },
     "execution_count": 61,
     "metadata": {},
     "output_type": "execute_result"
    }
   ],
   "source": [
    "# make a subset of location based columns\n",
    "\n",
    "location_subset = df_final[['pickup_latitude','pickup_longitude', \n",
    "                           'dropoff_latitude','dropoff_longitude']]\n",
    "\n",
    "location_subset"
   ]
  },
  {
   "cell_type": "code",
   "execution_count": 63,
   "metadata": {},
   "outputs": [
    {
     "data": {
      "image/png": "[encoded data removed]",
      "text/plain": [
       "<Figure size 1200x500 with 4 Axes>"
      ]
     },
     "metadata": {},
     "output_type": "display_data"
    }
   ],
   "source": [
    "\n",
    "# boxplots for location based columns\n",
    "\n",
    "# Create a figure with 2 rows and 2 columns of subplots\n",
    "fig, (ax1, ax2) = plt.subplots(nrows=2, ncols=2, figsize=(12,5))\n",
    "\n",
    "# Loop through the first 4 columns\n",
    "for i in range(4):\n",
    "    if i <= 1:\n",
    "        # plot the boxplot in the first row (ax1)\n",
    "        sns.boxplot(y=location_subset.iloc[:,i].compute(),ax=ax1[i])\n",
    "    else:\n",
    "        # plot the boxplot in the second row (ax2)\n",
    "        sns.boxplot(y=location_subset.iloc[:,i].compute(),ax=ax2[i - 2])"
   ]
  },
  {
   "cell_type": "code",
   "execution_count": null,
   "metadata": {},
   "outputs": [],
   "source": []
  },
  {
   "cell_type": "code",
   "execution_count": null,
   "metadata": {},
   "outputs": [],
   "source": []
  },
  {
   "cell_type": "markdown",
   "metadata": {},
   "source": [
    "## Store and Fwd Flag"
   ]
  },
  {
   "cell_type": "code",
   "execution_count": 64,
   "metadata": {
    "scrolled": true
   },
   "outputs": [
    {
     "data": {
      "text/plain": [
       "<Axes: xlabel='count', ylabel='store_and_fwd_flag'>"
      ]
     },
     "execution_count": 64,
     "metadata": {},
     "output_type": "execute_result"
    },
    {
     "data": {
      "image/png": "[encoded data removed]",
      "text/plain": [
       "<Figure size 640x480 with 1 Axes>"
      ]
     },
     "metadata": {},
     "output_type": "display_data"
    }
   ],
   "source": [
    "# count plot\n",
    "\n",
    "sns.countplot(df_final['store_and_fwd_flag'].compute())"
   ]
  },
  {
   "cell_type": "markdown",
   "metadata": {},
   "source": [
    "## Datetime Columns"
   ]
  },
  {
   "cell_type": "code",
   "execution_count": 65,
   "metadata": {},
   "outputs": [
    {
     "data": {
      "text/plain": [
       "Index(['VendorID', 'tpep_pickup_datetime', 'tpep_dropoff_datetime',\n",
       "       'passenger_count', 'trip_distance', 'pickup_longitude',\n",
       "       'pickup_latitude', 'RatecodeID', 'store_and_fwd_flag',\n",
       "       'dropoff_longitude', 'dropoff_latitude', 'fare_amount'],\n",
       "      dtype='object')"
      ]
     },
     "execution_count": 65,
     "metadata": {},
     "output_type": "execute_result"
    }
   ],
   "source": [
    "df_final.columns"
   ]
  },
  {
   "cell_type": "code",
   "execution_count": 66,
   "metadata": {},
   "outputs": [],
   "source": [
    "# convert the columns to datetime\n",
    "\n",
    "df_final[\"tpep_pickup_datetime\"] = dd.to_datetime(df_final[\"tpep_pickup_datetime\"], yearfirst=True, format=\"mixed\")\n",
    "df_final[\"tpep_dropoff_datetime\"] = dd.to_datetime(df_final[\"tpep_dropoff_datetime\"], yearfirst=True, format=\"mixed\")"
   ]
  },
  {
   "cell_type": "code",
   "execution_count": 67,
   "metadata": {},
   "outputs": [],
   "source": [
    "# create new columns\n",
    "\n",
    "df_final['pickup_months'] = df_final['tpep_pickup_datetime'].dt.month\n",
    "df_final['pickup_day_of_week'] = df_final['tpep_pickup_datetime'].dt.dayofweek\n",
    "df_final['pickup_hour'] = df_final['tpep_pickup_datetime'].dt.hour"
   ]
  },
  {
   "cell_type": "code",
   "execution_count": 68,
   "metadata": {
    "scrolled": false
   },
   "outputs": [
    {
     "data": {
      "text/html": [
       "<div><strong>Dask DataFrame Structure:</strong></div>\n",
       "<table border=\"1\" class=\"dataframe\">\n",
       "  <thead>\n",
       "    <tr style=\"text-align: right;\">\n",
       "      <th></th>\n",
       "      <th>VendorID</th>\n",
       "      <th>tpep_pickup_datetime</th>\n",
       "      <th>tpep_dropoff_datetime</th>\n",
       "      <th>passenger_count</th>\n",
       "      <th>trip_distance</th>\n",
       "      <th>pickup_longitude</th>\n",
       "      <th>pickup_latitude</th>\n",
       "      <th>RatecodeID</th>\n",
       "      <th>store_and_fwd_flag</th>\n",
       "      <th>dropoff_longitude</th>\n",
       "      <th>dropoff_latitude</th>\n",
       "      <th>fare_amount</th>\n",
       "      <th>pickup_months</th>\n",
       "      <th>pickup_day_of_week</th>\n",
       "      <th>pickup_hour</th>\n",
       "    </tr>\n",
       "    <tr>\n",
       "      <th>npartitions=82</th>\n",
       "      <th></th>\n",
       "      <th></th>\n",
       "      <th></th>\n",
       "      <th></th>\n",
       "      <th></th>\n",
       "      <th></th>\n",
       "      <th></th>\n",
       "      <th></th>\n",
       "      <th></th>\n",
       "      <th></th>\n",
       "      <th></th>\n",
       "      <th></th>\n",
       "      <th></th>\n",
       "      <th></th>\n",
       "      <th></th>\n",
       "    </tr>\n",
       "  </thead>\n",
       "  <tbody>\n",
       "    <tr>\n",
       "      <th></th>\n",
       "      <td>float64</td>\n",
       "      <td>datetime64[ns]</td>\n",
       "      <td>datetime64[ns]</td>\n",
       "      <td>float64</td>\n",
       "      <td>float64</td>\n",
       "      <td>float64</td>\n",
       "      <td>float64</td>\n",
       "      <td>float64</td>\n",
       "      <td>string</td>\n",
       "      <td>float64</td>\n",
       "      <td>float64</td>\n",
       "      <td>float64</td>\n",
       "      <td>int32</td>\n",
       "      <td>int32</td>\n",
       "      <td>int32</td>\n",
       "    </tr>\n",
       "    <tr>\n",
       "      <th></th>\n",
       "      <td>...</td>\n",
       "      <td>...</td>\n",
       "      <td>...</td>\n",
       "      <td>...</td>\n",
       "      <td>...</td>\n",
       "      <td>...</td>\n",
       "      <td>...</td>\n",
       "      <td>...</td>\n",
       "      <td>...</td>\n",
       "      <td>...</td>\n",
       "      <td>...</td>\n",
       "      <td>...</td>\n",
       "      <td>...</td>\n",
       "      <td>...</td>\n",
       "      <td>...</td>\n",
       "    </tr>\n",
       "    <tr>\n",
       "      <th>...</th>\n",
       "      <td>...</td>\n",
       "      <td>...</td>\n",
       "      <td>...</td>\n",
       "      <td>...</td>\n",
       "      <td>...</td>\n",
       "      <td>...</td>\n",
       "      <td>...</td>\n",
       "      <td>...</td>\n",
       "      <td>...</td>\n",
       "      <td>...</td>\n",
       "      <td>...</td>\n",
       "      <td>...</td>\n",
       "      <td>...</td>\n",
       "      <td>...</td>\n",
       "      <td>...</td>\n",
       "    </tr>\n",
       "    <tr>\n",
       "      <th></th>\n",
       "      <td>...</td>\n",
       "      <td>...</td>\n",
       "      <td>...</td>\n",
       "      <td>...</td>\n",
       "      <td>...</td>\n",
       "      <td>...</td>\n",
       "      <td>...</td>\n",
       "      <td>...</td>\n",
       "      <td>...</td>\n",
       "      <td>...</td>\n",
       "      <td>...</td>\n",
       "      <td>...</td>\n",
       "      <td>...</td>\n",
       "      <td>...</td>\n",
       "      <td>...</td>\n",
       "    </tr>\n",
       "    <tr>\n",
       "      <th></th>\n",
       "      <td>...</td>\n",
       "      <td>...</td>\n",
       "      <td>...</td>\n",
       "      <td>...</td>\n",
       "      <td>...</td>\n",
       "      <td>...</td>\n",
       "      <td>...</td>\n",
       "      <td>...</td>\n",
       "      <td>...</td>\n",
       "      <td>...</td>\n",
       "      <td>...</td>\n",
       "      <td>...</td>\n",
       "      <td>...</td>\n",
       "      <td>...</td>\n",
       "      <td>...</td>\n",
       "    </tr>\n",
       "  </tbody>\n",
       "</table>\n",
       "<div>Dask Name: assign, 20 expressions</div>"
      ],
      "text/plain": [
       "Dask DataFrame Structure:\n",
       "               VendorID tpep_pickup_datetime tpep_dropoff_datetime passenger_count trip_distance pickup_longitude pickup_latitude RatecodeID store_and_fwd_flag dropoff_longitude dropoff_latitude fare_amount pickup_months pickup_day_of_week pickup_hour\n",
       "npartitions=82                                                                                                                                                                                                                                             \n",
       "                float64       datetime64[ns]        datetime64[ns]         float64       float64          float64         float64    float64             string           float64          float64     float64         int32              int32       int32\n",
       "                    ...                  ...                   ...             ...           ...              ...             ...        ...                ...               ...              ...         ...           ...                ...         ...\n",
       "...                 ...                  ...                   ...             ...           ...              ...             ...        ...                ...               ...              ...         ...           ...                ...         ...\n",
       "                    ...                  ...                   ...             ...           ...              ...             ...        ...                ...               ...              ...         ...           ...                ...         ...\n",
       "                    ...                  ...                   ...             ...           ...              ...             ...        ...                ...               ...              ...         ...           ...                ...         ...\n",
       "Dask Name: assign, 20 expressions\n",
       "Expr=Assign(frame=Assign(frame=Assign(frame=Assign(frame=Assign(frame=Drop(frame=Concat(frames=[ReadCSV(2c5f114), ReadCSV(30486bf), ReadCSV(1be068b)], ), columns=['extra', 'mta_tax', 'tip_amount', 'tolls_amount', 'improvement_surcharge', 'total_amount', 'payment_type']))))))"
      ]
     },
     "execution_count": 68,
     "metadata": {},
     "output_type": "execute_result"
    }
   ],
   "source": [
    "df_final"
   ]
  },
  {
   "cell_type": "code",
   "execution_count": 69,
   "metadata": {},
   "outputs": [
    {
     "data": {
      "text/plain": [
       "Index(['VendorID', 'tpep_pickup_datetime', 'tpep_dropoff_datetime',\n",
       "       'passenger_count', 'trip_distance', 'pickup_longitude',\n",
       "       'pickup_latitude', 'RatecodeID', 'store_and_fwd_flag',\n",
       "       'dropoff_longitude', 'dropoff_latitude', 'fare_amount', 'pickup_months',\n",
       "       'pickup_day_of_week', 'pickup_hour'],\n",
       "      dtype='object')"
      ]
     },
     "execution_count": 69,
     "metadata": {},
     "output_type": "execute_result"
    }
   ],
   "source": [
    "df_final.columns"
   ]
  },
  {
   "cell_type": "code",
   "execution_count": 70,
   "metadata": {},
   "outputs": [
    {
     "data": {
      "text/plain": [
       "VendorID                         float64\n",
       "tpep_pickup_datetime      datetime64[ns]\n",
       "tpep_dropoff_datetime     datetime64[ns]\n",
       "passenger_count                  float64\n",
       "trip_distance                    float64\n",
       "pickup_longitude                 float64\n",
       "pickup_latitude                  float64\n",
       "RatecodeID                       float64\n",
       "store_and_fwd_flag       string[pyarrow]\n",
       "dropoff_longitude                float64\n",
       "dropoff_latitude                 float64\n",
       "fare_amount                      float64\n",
       "pickup_months                      int32\n",
       "pickup_day_of_week                 int32\n",
       "pickup_hour                        int32\n",
       "dtype: object"
      ]
     },
     "execution_count": 70,
     "metadata": {},
     "output_type": "execute_result"
    }
   ],
   "source": [
    "df_final.dtypes"
   ]
  },
  {
   "cell_type": "code",
   "execution_count": 72,
   "metadata": {},
   "outputs": [
    {
     "data": {
      "image/svg+xml": [
       "<?xml version=\"1.0\" encoding=\"UTF-8\" standalone=\"no\"?>\n",
       "<!DOCTYPE svg PUBLIC \"-//W3C//DTD SVG 1.1//EN\"\n",
       " \"http://www.w3.org/Graphics/SVG/1.1/DTD/svg11.dtd\">\n",
       "<!-- Generated by graphviz version 12.2.0 (20241103.1931)\n",
       " -->\n",
       "<!-- Pages: 1 -->\n",
       "<svg width=\"689pt\" height=\"1268pt\"\n",
       " viewBox=\"0.00 0.00 689.25 1268.00\" xmlns=\"http://www.w3.org/2000/svg\" xmlns:xlink=\"http://www.w3.org/1999/xlink\">\n",
       "<g id=\"graph0\" class=\"graph\" transform=\"scale(1 1) rotate(0) translate(4 1264)\">\n",
       "<polygon fill=\"white\" stroke=\"none\" points=\"-4,4 -4,-1264 685.25,-1264 685.25,4 -4,4\"/>\n",
       "<!-- &#45;1319212755136072047 -->\n",
       "<g id=\"node1\" class=\"node\">\n",
       "<title>&#45;1319212755136072047</title>\n",
       "<polygon fill=\"none\" stroke=\"black\" points=\"394.62,-1260 1.38,-1260 1.38,-1224 394.62,-1224 394.62,-1260\"/>\n",
       "<text text-anchor=\"middle\" x=\"198\" y=\"-1234.62\" font-family=\"Helvetica,sans-Serif\" font-size=\"20.00\">Assign(Assign, pickup_hour, PropertyMap)</text>\n",
       "</g>\n",
       "<!-- 6235845705545595522 -->\n",
       "<g id=\"node2\" class=\"node\">\n",
       "<title>6235845705545595522</title>\n",
       "<polygon fill=\"none\" stroke=\"black\" points=\"425.75,-1188 192.25,-1188 192.25,-1152 425.75,-1152 425.75,-1188\"/>\n",
       "<text text-anchor=\"middle\" x=\"309\" y=\"-1162.62\" font-family=\"Helvetica,sans-Serif\" font-size=\"20.00\">PropertyMap(Projection)</text>\n",
       "</g>\n",
       "<!-- 6235845705545595522&#45;&gt;&#45;1319212755136072047 -->\n",
       "<g id=\"edge1\" class=\"edge\">\n",
       "<title>6235845705545595522&#45;&gt;&#45;1319212755136072047</title>\n",
       "<path fill=\"none\" stroke=\"black\" d=\"M281.28,-1188.48C267.26,-1197.32 250.07,-1208.16 234.95,-1217.7\"/>\n",
       "<polygon fill=\"black\" stroke=\"black\" points=\"233.24,-1214.64 226.65,-1222.93 236.98,-1220.56 233.24,-1214.64\"/>\n",
       "</g>\n",
       "<!-- 6413688377647876795 -->\n",
       "<g id=\"node3\" class=\"node\">\n",
       "<title>6413688377647876795</title>\n",
       "<polygon fill=\"none\" stroke=\"black\" points=\"539.5,-1116 154.5,-1116 154.5,-1080 539.5,-1080 539.5,-1116\"/>\n",
       "<text text-anchor=\"middle\" x=\"347\" y=\"-1090.62\" font-family=\"Helvetica,sans-Serif\" font-size=\"20.00\">Projection(Assign, tpep_pickup_datetime)</text>\n",
       "</g>\n",
       "<!-- 6413688377647876795&#45;&gt;6235845705545595522 -->\n",
       "<g id=\"edge3\" class=\"edge\">\n",
       "<title>6413688377647876795&#45;&gt;6235845705545595522</title>\n",
       "<path fill=\"none\" stroke=\"black\" d=\"M337.61,-1116.3C333.42,-1124.02 328.39,-1133.29 323.72,-1141.89\"/>\n",
       "<polygon fill=\"black\" stroke=\"black\" points=\"320.7,-1140.11 319.01,-1150.57 326.85,-1143.45 320.7,-1140.11\"/>\n",
       "</g>\n",
       "<!-- &#45;1466193041646974860 -->\n",
       "<g id=\"node4\" class=\"node\">\n",
       "<title>&#45;1466193041646974860</title>\n",
       "<polygon fill=\"none\" stroke=\"black\" points=\"472,-1044 0,-1044 0,-1008 472,-1008 472,-1044\"/>\n",
       "<text text-anchor=\"middle\" x=\"236\" y=\"-1018.62\" font-family=\"Helvetica,sans-Serif\" font-size=\"20.00\">Assign(Assign, pickup_day_of_week, PropertyMap)</text>\n",
       "</g>\n",
       "<!-- &#45;1466193041646974860&#45;&gt;&#45;1319212755136072047 -->\n",
       "<g id=\"edge2\" class=\"edge\">\n",
       "<title>&#45;1466193041646974860&#45;&gt;&#45;1319212755136072047</title>\n",
       "<path fill=\"none\" stroke=\"black\" d=\"M185.96,-1044.4C169.99,-1052.59 154.11,-1064.15 145,-1080 119.77,-1123.89 152.38,-1181.49 176.49,-1214.56\"/>\n",
       "<polygon fill=\"black\" stroke=\"black\" points=\"173.58,-1216.52 182.4,-1222.39 179.17,-1212.3 173.58,-1216.52\"/>\n",
       "</g>\n",
       "<!-- &#45;1466193041646974860&#45;&gt;6413688377647876795 -->\n",
       "<g id=\"edge4\" class=\"edge\">\n",
       "<title>&#45;1466193041646974860&#45;&gt;6413688377647876795</title>\n",
       "<path fill=\"none\" stroke=\"black\" d=\"M263.72,-1044.48C277.74,-1053.32 294.93,-1064.16 310.05,-1073.7\"/>\n",
       "<polygon fill=\"black\" stroke=\"black\" points=\"308.02,-1076.56 318.35,-1078.93 311.76,-1070.64 308.02,-1076.56\"/>\n",
       "</g>\n",
       "<!-- 1821093831079753283 -->\n",
       "<g id=\"node5\" class=\"node\">\n",
       "<title>1821093831079753283</title>\n",
       "<polygon fill=\"none\" stroke=\"black\" points=\"463.75,-972 230.25,-972 230.25,-936 463.75,-936 463.75,-972\"/>\n",
       "<text text-anchor=\"middle\" x=\"347\" y=\"-946.62\" font-family=\"Helvetica,sans-Serif\" font-size=\"20.00\">PropertyMap(Projection)</text>\n",
       "</g>\n",
       "<!-- 1821093831079753283&#45;&gt;&#45;1466193041646974860 -->\n",
       "<g id=\"edge5\" class=\"edge\">\n",
       "<title>1821093831079753283&#45;&gt;&#45;1466193041646974860</title>\n",
       "<path fill=\"none\" stroke=\"black\" d=\"M319.28,-972.48C305.26,-981.32 288.07,-992.16 272.95,-1001.7\"/>\n",
       "<polygon fill=\"black\" stroke=\"black\" points=\"271.24,-998.64 264.65,-1006.93 274.98,-1004.56 271.24,-998.64\"/>\n",
       "</g>\n",
       "<!-- &#45;1942131463540222144 -->\n",
       "<g id=\"node6\" class=\"node\">\n",
       "<title>&#45;1942131463540222144</title>\n",
       "<polygon fill=\"none\" stroke=\"black\" points=\"577.5,-900 192.5,-900 192.5,-864 577.5,-864 577.5,-900\"/>\n",
       "<text text-anchor=\"middle\" x=\"385\" y=\"-874.62\" font-family=\"Helvetica,sans-Serif\" font-size=\"20.00\">Projection(Assign, tpep_pickup_datetime)</text>\n",
       "</g>\n",
       "<!-- &#45;1942131463540222144&#45;&gt;1821093831079753283 -->\n",
       "<g id=\"edge7\" class=\"edge\">\n",
       "<title>&#45;1942131463540222144&#45;&gt;1821093831079753283</title>\n",
       "<path fill=\"none\" stroke=\"black\" d=\"M375.61,-900.3C371.42,-908.02 366.39,-917.29 361.72,-925.89\"/>\n",
       "<polygon fill=\"black\" stroke=\"black\" points=\"358.7,-924.11 357.01,-934.57 364.85,-927.45 358.7,-924.11\"/>\n",
       "</g>\n",
       "<!-- 5817499912084506468 -->\n",
       "<g id=\"node7\" class=\"node\">\n",
       "<title>5817499912084506468</title>\n",
       "<polygon fill=\"none\" stroke=\"black\" points=\"483.75,-828 64.25,-828 64.25,-792 483.75,-792 483.75,-828\"/>\n",
       "<text text-anchor=\"middle\" x=\"274\" y=\"-802.62\" font-family=\"Helvetica,sans-Serif\" font-size=\"20.00\">Assign(Assign, pickup_months, PropertyMap)</text>\n",
       "</g>\n",
       "<!-- 5817499912084506468&#45;&gt;&#45;1466193041646974860 -->\n",
       "<g id=\"edge6\" class=\"edge\">\n",
       "<title>5817499912084506468&#45;&gt;&#45;1466193041646974860</title>\n",
       "<path fill=\"none\" stroke=\"black\" d=\"M223.96,-828.4C207.99,-836.59 192.11,-848.15 183,-864 157.77,-907.89 190.38,-965.49 214.49,-998.56\"/>\n",
       "<polygon fill=\"black\" stroke=\"black\" points=\"211.58,-1000.52 220.4,-1006.39 217.17,-996.3 211.58,-1000.52\"/>\n",
       "</g>\n",
       "<!-- 5817499912084506468&#45;&gt;&#45;1942131463540222144 -->\n",
       "<g id=\"edge8\" class=\"edge\">\n",
       "<title>5817499912084506468&#45;&gt;&#45;1942131463540222144</title>\n",
       "<path fill=\"none\" stroke=\"black\" d=\"M301.72,-828.48C315.74,-837.32 332.93,-848.16 348.05,-857.7\"/>\n",
       "<polygon fill=\"black\" stroke=\"black\" points=\"346.02,-860.56 356.35,-862.93 349.76,-854.64 346.02,-860.56\"/>\n",
       "</g>\n",
       "<!-- 3029069422756527535 -->\n",
       "<g id=\"node8\" class=\"node\">\n",
       "<title>3029069422756527535</title>\n",
       "<polygon fill=\"none\" stroke=\"black\" points=\"501.75,-756 268.25,-756 268.25,-720 501.75,-720 501.75,-756\"/>\n",
       "<text text-anchor=\"middle\" x=\"385\" y=\"-730.62\" font-family=\"Helvetica,sans-Serif\" font-size=\"20.00\">PropertyMap(Projection)</text>\n",
       "</g>\n",
       "<!-- 3029069422756527535&#45;&gt;5817499912084506468 -->\n",
       "<g id=\"edge10\" class=\"edge\">\n",
       "<title>3029069422756527535&#45;&gt;5817499912084506468</title>\n",
       "<path fill=\"none\" stroke=\"black\" d=\"M357.28,-756.48C343.26,-765.32 326.07,-776.16 310.95,-785.7\"/>\n",
       "<polygon fill=\"black\" stroke=\"black\" points=\"309.24,-782.64 302.65,-790.93 312.98,-788.56 309.24,-782.64\"/>\n",
       "</g>\n",
       "<!-- 7595355331360145014 -->\n",
       "<g id=\"node9\" class=\"node\">\n",
       "<title>7595355331360145014</title>\n",
       "<polygon fill=\"none\" stroke=\"black\" points=\"615.5,-684 230.5,-684 230.5,-648 615.5,-648 615.5,-684\"/>\n",
       "<text text-anchor=\"middle\" x=\"423\" y=\"-658.62\" font-family=\"Helvetica,sans-Serif\" font-size=\"20.00\">Projection(Assign, tpep_pickup_datetime)</text>\n",
       "</g>\n",
       "<!-- 7595355331360145014&#45;&gt;3029069422756527535 -->\n",
       "<g id=\"edge11\" class=\"edge\">\n",
       "<title>7595355331360145014&#45;&gt;3029069422756527535</title>\n",
       "<path fill=\"none\" stroke=\"black\" d=\"M413.61,-684.3C409.42,-692.02 404.39,-701.29 399.72,-709.89\"/>\n",
       "<polygon fill=\"black\" stroke=\"black\" points=\"396.7,-708.11 395.01,-718.57 402.85,-711.45 396.7,-708.11\"/>\n",
       "</g>\n",
       "<!-- &#45;8977470403138288462 -->\n",
       "<g id=\"node10\" class=\"node\">\n",
       "<title>&#45;8977470403138288462</title>\n",
       "<polygon fill=\"none\" stroke=\"black\" points=\"547.62,-612 76.38,-612 76.38,-576 547.62,-576 547.62,-612\"/>\n",
       "<text text-anchor=\"middle\" x=\"312\" y=\"-586.62\" font-family=\"Helvetica,sans-Serif\" font-size=\"20.00\">Assign(Assign, tpep_dropoff_datetime, ToDatetime)</text>\n",
       "</g>\n",
       "<!-- &#45;8977470403138288462&#45;&gt;5817499912084506468 -->\n",
       "<g id=\"edge9\" class=\"edge\">\n",
       "<title>&#45;8977470403138288462&#45;&gt;5817499912084506468</title>\n",
       "<path fill=\"none\" stroke=\"black\" d=\"M261.96,-612.4C245.99,-620.59 230.11,-632.15 221,-648 195.77,-691.89 228.38,-749.49 252.49,-782.56\"/>\n",
       "<polygon fill=\"black\" stroke=\"black\" points=\"249.58,-784.52 258.4,-790.39 255.17,-780.3 249.58,-784.52\"/>\n",
       "</g>\n",
       "<!-- &#45;8977470403138288462&#45;&gt;7595355331360145014 -->\n",
       "<g id=\"edge12\" class=\"edge\">\n",
       "<title>&#45;8977470403138288462&#45;&gt;7595355331360145014</title>\n",
       "<path fill=\"none\" stroke=\"black\" d=\"M339.72,-612.48C353.74,-621.32 370.93,-632.16 386.05,-641.7\"/>\n",
       "<polygon fill=\"black\" stroke=\"black\" points=\"384.02,-644.56 394.35,-646.93 387.76,-638.64 384.02,-644.56\"/>\n",
       "</g>\n",
       "<!-- 4572231572702873915 -->\n",
       "<g id=\"node11\" class=\"node\">\n",
       "<title>4572231572702873915</title>\n",
       "<polygon fill=\"none\" stroke=\"black\" points=\"532.62,-540 313.38,-540 313.38,-504 532.62,-504 532.62,-540\"/>\n",
       "<text text-anchor=\"middle\" x=\"423\" y=\"-514.62\" font-family=\"Helvetica,sans-Serif\" font-size=\"20.00\">ToDatetime(Projection)</text>\n",
       "</g>\n",
       "<!-- 4572231572702873915&#45;&gt;&#45;8977470403138288462 -->\n",
       "<g id=\"edge13\" class=\"edge\">\n",
       "<title>4572231572702873915&#45;&gt;&#45;8977470403138288462</title>\n",
       "<path fill=\"none\" stroke=\"black\" d=\"M395.28,-540.48C381.26,-549.32 364.07,-560.16 348.95,-569.7\"/>\n",
       "<polygon fill=\"black\" stroke=\"black\" points=\"347.24,-566.64 340.65,-574.93 350.98,-572.56 347.24,-566.64\"/>\n",
       "</g>\n",
       "<!-- &#45;6708773549342848123 -->\n",
       "<g id=\"node12\" class=\"node\">\n",
       "<title>&#45;6708773549342848123</title>\n",
       "<polygon fill=\"none\" stroke=\"black\" points=\"660.75,-468 271.25,-468 271.25,-432 660.75,-432 660.75,-468\"/>\n",
       "<text text-anchor=\"middle\" x=\"466\" y=\"-442.62\" font-family=\"Helvetica,sans-Serif\" font-size=\"20.00\">Projection(Assign, tpep_dropoff_datetime)</text>\n",
       "</g>\n",
       "<!-- &#45;6708773549342848123&#45;&gt;4572231572702873915 -->\n",
       "<g id=\"edge15\" class=\"edge\">\n",
       "<title>&#45;6708773549342848123&#45;&gt;4572231572702873915</title>\n",
       "<path fill=\"none\" stroke=\"black\" d=\"M455.37,-468.3C450.58,-476.1 444.81,-485.49 439.48,-494.17\"/>\n",
       "<polygon fill=\"black\" stroke=\"black\" points=\"436.55,-492.25 434.3,-502.61 442.52,-495.92 436.55,-492.25\"/>\n",
       "</g>\n",
       "<!-- &#45;1697527626446747180 -->\n",
       "<g id=\"node13\" class=\"node\">\n",
       "<title>&#45;1697527626446747180</title>\n",
       "<polygon fill=\"none\" stroke=\"black\" points=\"579.12,-396 128.87,-396 128.87,-360 579.12,-360 579.12,-396\"/>\n",
       "<text text-anchor=\"middle\" x=\"354\" y=\"-370.62\" font-family=\"Helvetica,sans-Serif\" font-size=\"20.00\">Assign(Drop, tpep_pickup_datetime, ToDatetime)</text>\n",
       "</g>\n",
       "<!-- &#45;1697527626446747180&#45;&gt;&#45;8977470403138288462 -->\n",
       "<g id=\"edge14\" class=\"edge\">\n",
       "<title>&#45;1697527626446747180&#45;&gt;&#45;8977470403138288462</title>\n",
       "<path fill=\"none\" stroke=\"black\" d=\"M303.42,-396.28C287.28,-404.46 271.22,-416.04 262,-432 236.81,-475.59 268.05,-533.29 291.25,-566.46\"/>\n",
       "<polygon fill=\"black\" stroke=\"black\" points=\"288.24,-568.26 296.94,-574.3 293.9,-564.15 288.24,-568.26\"/>\n",
       "</g>\n",
       "<!-- &#45;1697527626446747180&#45;&gt;&#45;6708773549342848123 -->\n",
       "<g id=\"edge16\" class=\"edge\">\n",
       "<title>&#45;1697527626446747180&#45;&gt;&#45;6708773549342848123</title>\n",
       "<path fill=\"none\" stroke=\"black\" d=\"M381.97,-396.48C396.11,-405.32 413.46,-416.16 428.72,-425.7\"/>\n",
       "<polygon fill=\"black\" stroke=\"black\" points=\"426.76,-428.61 437.1,-430.94 430.47,-422.67 426.76,-428.61\"/>\n",
       "</g>\n",
       "<!-- 2648193458491231162 -->\n",
       "<g id=\"node14\" class=\"node\">\n",
       "<title>2648193458491231162</title>\n",
       "<polygon fill=\"none\" stroke=\"black\" points=\"569.62,-324 350.38,-324 350.38,-288 569.62,-288 569.62,-324\"/>\n",
       "<text text-anchor=\"middle\" x=\"460\" y=\"-298.62\" font-family=\"Helvetica,sans-Serif\" font-size=\"20.00\">ToDatetime(Projection)</text>\n",
       "</g>\n",
       "<!-- 2648193458491231162&#45;&gt;&#45;1697527626446747180 -->\n",
       "<g id=\"edge17\" class=\"edge\">\n",
       "<title>2648193458491231162&#45;&gt;&#45;1697527626446747180</title>\n",
       "<path fill=\"none\" stroke=\"black\" d=\"M433.53,-324.48C420.27,-333.24 404.04,-343.96 389.7,-353.42\"/>\n",
       "<polygon fill=\"black\" stroke=\"black\" points=\"387.82,-350.47 381.4,-358.91 391.67,-356.32 387.82,-350.47\"/>\n",
       "</g>\n",
       "<!-- 1826776047310698840 -->\n",
       "<g id=\"node15\" class=\"node\">\n",
       "<title>1826776047310698840</title>\n",
       "<polygon fill=\"none\" stroke=\"black\" points=\"681.25,-252 312.75,-252 312.75,-216 681.25,-216 681.25,-252\"/>\n",
       "<text text-anchor=\"middle\" x=\"497\" y=\"-226.62\" font-family=\"Helvetica,sans-Serif\" font-size=\"20.00\">Projection(Drop, tpep_pickup_datetime)</text>\n",
       "</g>\n",
       "<!-- 1826776047310698840&#45;&gt;2648193458491231162 -->\n",
       "<g id=\"edge19\" class=\"edge\">\n",
       "<title>1826776047310698840&#45;&gt;2648193458491231162</title>\n",
       "<path fill=\"none\" stroke=\"black\" d=\"M487.85,-252.3C483.78,-260.02 478.88,-269.29 474.33,-277.89\"/>\n",
       "<polygon fill=\"black\" stroke=\"black\" points=\"471.33,-276.08 469.75,-286.56 477.52,-279.35 471.33,-276.08\"/>\n",
       "</g>\n",
       "<!-- &#45;1691395723090275739 -->\n",
       "<g id=\"node16\" class=\"node\">\n",
       "<title>&#45;1691395723090275739</title>\n",
       "<polygon fill=\"none\" stroke=\"black\" points=\"459,-180 323,-180 323,-144 459,-144 459,-180\"/>\n",
       "<text text-anchor=\"middle\" x=\"391\" y=\"-154.62\" font-family=\"Helvetica,sans-Serif\" font-size=\"20.00\">Drop(Concat)</text>\n",
       "</g>\n",
       "<!-- &#45;1691395723090275739&#45;&gt;&#45;1697527626446747180 -->\n",
       "<g id=\"edge18\" class=\"edge\">\n",
       "<title>&#45;1691395723090275739&#45;&gt;&#45;1697527626446747180</title>\n",
       "<path fill=\"none\" stroke=\"black\" d=\"M344.02,-180.39C328.44,-188.66 312.84,-200.27 304,-216 279.34,-259.9 310.4,-317.49 333.43,-350.56\"/>\n",
       "<polygon fill=\"black\" stroke=\"black\" points=\"330.37,-352.31 339.07,-358.37 336.05,-348.21 330.37,-352.31\"/>\n",
       "</g>\n",
       "<!-- &#45;1691395723090275739&#45;&gt;1826776047310698840 -->\n",
       "<g id=\"edge20\" class=\"edge\">\n",
       "<title>&#45;1691395723090275739&#45;&gt;1826776047310698840</title>\n",
       "<path fill=\"none\" stroke=\"black\" d=\"M417.47,-180.48C430.73,-189.24 446.96,-199.96 461.3,-209.42\"/>\n",
       "<polygon fill=\"black\" stroke=\"black\" points=\"459.33,-212.32 469.6,-214.91 463.18,-206.47 459.33,-212.32\"/>\n",
       "</g>\n",
       "<!-- 3804209921409691975 -->\n",
       "<g id=\"node17\" class=\"node\">\n",
       "<title>3804209921409691975</title>\n",
       "<polygon fill=\"none\" stroke=\"black\" points=\"579.38,-108 202.62,-108 202.62,-72 579.38,-72 579.38,-108\"/>\n",
       "<text text-anchor=\"middle\" x=\"391\" y=\"-82.62\" font-family=\"Helvetica,sans-Serif\" font-size=\"20.00\">Concat(ReadCSV, ReadCSV, ReadCSV)</text>\n",
       "</g>\n",
       "<!-- 3804209921409691975&#45;&gt;&#45;1691395723090275739 -->\n",
       "<g id=\"edge21\" class=\"edge\">\n",
       "<title>3804209921409691975&#45;&gt;&#45;1691395723090275739</title>\n",
       "<path fill=\"none\" stroke=\"black\" d=\"M391,-108.3C391,-115.59 391,-124.27 391,-132.46\"/>\n",
       "<polygon fill=\"black\" stroke=\"black\" points=\"387.5,-132.38 391,-142.38 394.5,-132.38 387.5,-132.38\"/>\n",
       "</g>\n",
       "<!-- 6702944141527475460 -->\n",
       "<g id=\"node18\" class=\"node\">\n",
       "<title>6702944141527475460</title>\n",
       "<polygon fill=\"none\" stroke=\"black\" points=\"320.62,-36 215.38,-36 215.38,0 320.62,0 320.62,-36\"/>\n",
       "<text text-anchor=\"middle\" x=\"268\" y=\"-10.62\" font-family=\"Helvetica,sans-Serif\" font-size=\"20.00\">ReadCSV</text>\n",
       "</g>\n",
       "<!-- 6702944141527475460&#45;&gt;3804209921409691975 -->\n",
       "<g id=\"edge22\" class=\"edge\">\n",
       "<title>6702944141527475460&#45;&gt;3804209921409691975</title>\n",
       "<path fill=\"none\" stroke=\"black\" d=\"M298.72,-36.48C314.54,-45.49 334.03,-56.58 351.01,-66.24\"/>\n",
       "<polygon fill=\"black\" stroke=\"black\" points=\"348.93,-69.09 359.36,-70.99 352.4,-63 348.93,-69.09\"/>\n",
       "</g>\n",
       "<!-- 1885853736912961580 -->\n",
       "<g id=\"node19\" class=\"node\">\n",
       "<title>1885853736912961580</title>\n",
       "<polygon fill=\"none\" stroke=\"black\" points=\"443.62,-36 338.38,-36 338.38,0 443.62,0 443.62,-36\"/>\n",
       "<text text-anchor=\"middle\" x=\"391\" y=\"-10.62\" font-family=\"Helvetica,sans-Serif\" font-size=\"20.00\">ReadCSV</text>\n",
       "</g>\n",
       "<!-- 1885853736912961580&#45;&gt;3804209921409691975 -->\n",
       "<g id=\"edge23\" class=\"edge\">\n",
       "<title>1885853736912961580&#45;&gt;3804209921409691975</title>\n",
       "<path fill=\"none\" stroke=\"black\" d=\"M391,-36.3C391,-43.59 391,-52.27 391,-60.46\"/>\n",
       "<polygon fill=\"black\" stroke=\"black\" points=\"387.5,-60.38 391,-70.38 394.5,-60.38 387.5,-60.38\"/>\n",
       "</g>\n",
       "<!-- 1672281872306673605 -->\n",
       "<g id=\"node20\" class=\"node\">\n",
       "<title>1672281872306673605</title>\n",
       "<polygon fill=\"none\" stroke=\"black\" points=\"566.62,-36 461.38,-36 461.38,0 566.62,0 566.62,-36\"/>\n",
       "<text text-anchor=\"middle\" x=\"514\" y=\"-10.62\" font-family=\"Helvetica,sans-Serif\" font-size=\"20.00\">ReadCSV</text>\n",
       "</g>\n",
       "<!-- 1672281872306673605&#45;&gt;3804209921409691975 -->\n",
       "<g id=\"edge24\" class=\"edge\">\n",
       "<title>1672281872306673605&#45;&gt;3804209921409691975</title>\n",
       "<path fill=\"none\" stroke=\"black\" d=\"M483.28,-36.48C467.46,-45.49 447.97,-56.58 430.99,-66.24\"/>\n",
       "<polygon fill=\"black\" stroke=\"black\" points=\"429.6,-63 422.64,-70.99 433.07,-69.09 429.6,-63\"/>\n",
       "</g>\n",
       "</g>\n",
       "</svg>\n"
      ],
      "text/plain": [
       "<graphviz.graphs.Digraph at 0x158024c9820>"
      ]
     },
     "execution_count": 72,
     "metadata": {},
     "output_type": "execute_result"
    }
   ],
   "source": [
    "df_final.visualize()"
   ]
  },
  {
   "cell_type": "code",
   "execution_count": 75,
   "metadata": {},
   "outputs": [],
   "source": [
    "# plot the number of pickups\n",
    "\n",
    "pickups_every_3_days = (\n",
    "    df_final\n",
    "    .set_index('tpep_pickup_datetime')  # Set 'tpep_pickup_datetime' as the index\n",
    "    .resample(\"3D\")  # Resample(grouping) data into 3-day intervals\n",
    "    .size()  # Count the number of pickups per 3-day period\n",
    "    .compute()  # Execute computation in Dask\n",
    ")\n"
   ]
  },
  {
   "cell_type": "code",
   "execution_count": 76,
   "metadata": {},
   "outputs": [
    {
     "data": {
      "text/plain": [
       "tpep_pickup_datetime\n",
       "2016-01-01     960746\n",
       "2016-01-04    1007938\n",
       "2016-01-07    1162789\n",
       "2016-01-10    1061829\n",
       "2016-01-13    1192852\n",
       "2016-01-16    1132536\n",
       "2016-01-19    1166946\n",
       "2016-01-22     658061\n",
       "2016-01-25     968922\n",
       "2016-01-28    1232734\n",
       "2016-01-31    1065990\n",
       "2016-02-03    1176173\n",
       "2016-02-06    1144752\n",
       "2016-02-09    1192598\n",
       "2016-02-12    1285409\n",
       "2016-02-15    1101217\n",
       "2016-02-18    1256220\n",
       "2016-02-21    1114674\n",
       "2016-02-24    1251497\n",
       "2016-02-27    1155024\n",
       "2016-03-01    1208179\n",
       "2016-03-04    1270530\n",
       "2016-03-07    1106194\n",
       "2016-03-10    1273983\n",
       "2016-03-13    1134075\n",
       "2016-03-16    1234570\n",
       "2016-03-19    1176151\n",
       "2016-03-22    1155525\n",
       "2016-03-25    1149227\n",
       "2016-03-28    1108463\n",
       "2016-03-31     394055\n",
       "Freq: 3D, dtype: int64"
      ]
     },
     "execution_count": 76,
     "metadata": {},
     "output_type": "execute_result"
    }
   ],
   "source": [
    "\n",
    "pickups_every_3_days"
   ]
  },
  {
   "cell_type": "code",
   "execution_count": 77,
   "metadata": {},
   "outputs": [
    {
     "data": {
      "image/png": "[encoded data removed]",
      "text/plain": [
       "<Figure size 640x480 with 1 Axes>"
      ]
     },
     "metadata": {},
     "output_type": "display_data"
    }
   ],
   "source": [
    "# plot the graph of pickups\n",
    "\n",
    "sns.lineplot(pickups_every_3_days)\n",
    "plt.xticks(rotation=45)\n",
    "plt.show()"
   ]
  },
  {
   "cell_type": "code",
   "execution_count": 78,
   "metadata": {},
   "outputs": [],
   "source": [
    "# pickups for each hour of the day\n",
    "\n",
    "pickups_each_hour = (\n",
    "    df_final\n",
    "    .groupby(['pickup_hour','pickup_day_of_week'])['VendorID']\n",
    "    .count()\n",
    "    .compute()\n",
    ")"
   ]
  },
  {
   "cell_type": "code",
   "execution_count": 79,
   "metadata": {},
   "outputs": [
    {
     "data": {
      "text/plain": [
       "pickup_hour  pickup_day_of_week\n",
       "4            2                      29498\n",
       "             3                      32480\n",
       "5            2                      49844\n",
       "6            2                     136330\n",
       "             3                     138392\n",
       "                                    ...  \n",
       "23           5                     299024\n",
       "0            0                     100903\n",
       "             1                     101299\n",
       "19           0                     291911\n",
       "23           0                     154325\n",
       "Name: VendorID, Length: 168, dtype: int64"
      ]
     },
     "execution_count": 79,
     "metadata": {},
     "output_type": "execute_result"
    }
   ],
   "source": [
    "pickups_each_hour"
   ]
  },
  {
   "cell_type": "code",
   "execution_count": 80,
   "metadata": {},
   "outputs": [],
   "source": [
    "pickups_each_hour = pickups_each_hour.reset_index()"
   ]
  },
  {
   "cell_type": "code",
   "execution_count": 84,
   "metadata": {},
   "outputs": [],
   "source": [
    "pickups_each_hour.rename(columns={\"VendorID\":\"Number of Pickups\"},inplace=True)"
   ]
  },
  {
   "cell_type": "code",
   "execution_count": 82,
   "metadata": {},
   "outputs": [
    {
     "data": {
      "text/plain": [
       "{0: 'Mon', 1: 'Tue', 2: 'Wed', 3: 'Thu', 4: 'Fri', 5: 'Sat', 6: 'Sun'}"
      ]
     },
     "execution_count": 82,
     "metadata": {},
     "output_type": "execute_result"
    }
   ],
   "source": [
    "# Creates a list of day names, with Monday as index 0 and Sunday as index 6  \n",
    "day_names = ['Mon', 'Tue', 'Wed', 'Thu', 'Fri', 'Sat', 'Sun']\n",
    "\n",
    "# enumerate(day_names) generates (index, value) pairs & mapping into dictionary comprehension\n",
    "replacement_mapper = {k:v for k,v in enumerate(day_names)}\n",
    "\n",
    "replacement_mapper"
   ]
  },
  {
   "cell_type": "code",
   "execution_count": 83,
   "metadata": {},
   "outputs": [],
   "source": [
    "pickups_each_hour.replace({\"pickup_day_of_week\":replacement_mapper},inplace=True)"
   ]
  },
  {
   "cell_type": "code",
   "execution_count": 86,
   "metadata": {},
   "outputs": [
    {
     "data": {
      "image/png": "[encoded data removed]",
      "text/plain": [
       "<Figure size 1200x600 with 1 Axes>"
      ]
     },
     "metadata": {},
     "output_type": "display_data"
    }
   ],
   "source": [
    "# plot the lineplot\n",
    "\n",
    "fig = plt.figure(figsize=(12,6))\n",
    "\n",
    "sns.lineplot(pickups_each_hour, x='pickup_hour', y='Number of Pickups',\n",
    "            hue='pickup_day_of_week', hue_order=day_names)\n",
    "\n",
    "plt.show()"
   ]
  },
  {
   "cell_type": "code",
   "execution_count": null,
   "metadata": {},
   "outputs": [],
   "source": []
  },
  {
   "cell_type": "code",
   "execution_count": null,
   "metadata": {},
   "outputs": [],
   "source": []
  },
  {
   "cell_type": "code",
   "execution_count": null,
   "metadata": {},
   "outputs": [],
   "source": []
  }
 ],
 "metadata": {
  "kernelspec": {
   "display_name": "Python 3 (ipykernel)",
   "language": "python",
   "name": "python3"
  },
  "language_info": {
   "codemirror_mode": {
    "name": "ipython",
    "version": 3
   },
   "file_extension": ".py",
   "mimetype": "text/x-python",
   "name": "python",
   "nbconvert_exporter": "python",
   "pygments_lexer": "ipython3",
   "version": "3.9.13"
  }
 },
 "nbformat": 4,
 "nbformat_minor": 2
}
